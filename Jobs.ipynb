{
  "nbformat": 4,
  "nbformat_minor": 0,
  "metadata": {
    "colab": {
      "provenance": [],
      "collapsed_sections": [
        "5jQ0q0AB2BnM"
      ],
      "authorship_tag": "ABX9TyMAz6tGmvsCNM22zC8sRVwz",
      "include_colab_link": true
    },
    "kernelspec": {
      "name": "ir",
      "display_name": "R"
    },
    "language_info": {
      "name": "R"
    }
  },
  "cells": [
    {
      "cell_type": "markdown",
      "metadata": {
        "id": "view-in-github",
        "colab_type": "text"
      },
      "source": [
        "<a href=\"https://colab.research.google.com/github/Saetbyeol-Choi/R_Report/blob/main/Module_2_Report.ipynb\" target=\"_parent\"><img src=\"https://colab.research.google.com/assets/colab-badge.svg\" alt=\"Open In Colab\"/></a>"
      ]
    },
    {
      "cell_type": "markdown",
      "source": [
        "# **Jobs**\n",
        "# Estimated Cost Of Living Based On Total Compensation\n",
        "### Name: Saetbyeol Choi"
      ],
      "metadata": {
        "id": "LO043YSI1uL0"
      }
    },
    {
      "cell_type": "markdown",
      "source": [
        "## **1) Objective of the proposed research**"
      ],
      "metadata": {
        "id": "S9Rr4JQp1uEH"
      }
    },
    {
      "cell_type": "markdown",
      "source": [
        "> The given data provides the total compensation for each job from 2013 to 2020 in two types of year types: fiscal year and calender year. Total compensation includes the value of benefits received in addition to the total salary.\n",
        "\n",
        "> In the report, we try to understand the data in terms of inflation. Inflation refers to a situation in which prices generally continue to rise. When the income of workers, who are the main economic players, rise, the consumers' sentiment improves and consumption increases, which in turn raises prices. An increase in the cost of living due to an increase in the price of goods and services leads to an increase in income.\n",
        "\n",
        "> Therefore, based on this phenomonon, the purpose of this report is to predict the correlation between cost of living and total compensation. In particular, we would like to infer the increase in the cost of living of employee through increases in health and dental insurance premium and increases in city contributions to retirement plans of employee."
      ],
      "metadata": {
        "id": "5jQ0q0AB2BnM"
      }
    },
    {
      "cell_type": "markdown",
      "source": [
        "## **2) Data Exploration**"
      ],
      "metadata": {
        "id": "npzyAsfn2BOq"
      }
    },
    {
      "cell_type": "markdown",
      "source": [
        "> Load the data set and put name on the data frame as \"EC\"."
      ],
      "metadata": {
        "id": "QeEF0Y4fgEOI"
      }
    },
    {
      "cell_type": "code",
      "execution_count": null,
      "metadata": {
        "id": "iySDfC-Y1Zey"
      },
      "outputs": [],
      "source": [
        "EC <- read.csv(\"/content/employee-compensation.csv\")"
      ]
    },
    {
      "cell_type": "markdown",
      "source": [
        "##### 1. Showing the first 10 rows\n",
        "\n",
        "> Use square brackets \"[]\" to subset 10 rows from the data frame.\n",
        "By typing 1:10, the rows from 1 to 10 are extracted."
      ],
      "metadata": {
        "id": "X7WztQi42BEF"
      }
    },
    {
      "cell_type": "code",
      "source": [
        "EC[1:10,]"
      ],
      "metadata": {
        "colab": {
          "base_uri": "https://localhost:8080/",
          "height": 952
        },
        "id": "LxCKzcYA2eII",
        "outputId": "dd5bf27d-befe-4a34-adf3-3799a8f84e30"
      },
      "execution_count": null,
      "outputs": [
        {
          "output_type": "display_data",
          "data": {
            "text/html": [
              "<table class=\"dataframe\">\n",
              "<caption>A data.frame: 10 × 22</caption>\n",
              "<thead>\n",
              "\t<tr><th></th><th scope=col>Organization.Group.Code</th><th scope=col>Job.Family.Code</th><th scope=col>Job.Code</th><th scope=col>Year.Type</th><th scope=col>Year</th><th scope=col>Organization.Group</th><th scope=col>Department.Code</th><th scope=col>Department</th><th scope=col>Union.Code</th><th scope=col>Union</th><th scope=col>⋯</th><th scope=col>Employee.Identifier</th><th scope=col>Salaries</th><th scope=col>Overtime</th><th scope=col>Other.Salaries</th><th scope=col>Total.Salary</th><th scope=col>Retirement</th><th scope=col>Health.and.Dental</th><th scope=col>Other.Benefits</th><th scope=col>Total.Benefits</th><th scope=col>Total.Compensation</th></tr>\n",
              "\t<tr><th></th><th scope=col>&lt;int&gt;</th><th scope=col>&lt;chr&gt;</th><th scope=col>&lt;chr&gt;</th><th scope=col>&lt;chr&gt;</th><th scope=col>&lt;int&gt;</th><th scope=col>&lt;chr&gt;</th><th scope=col>&lt;chr&gt;</th><th scope=col>&lt;chr&gt;</th><th scope=col>&lt;int&gt;</th><th scope=col>&lt;chr&gt;</th><th scope=col>⋯</th><th scope=col>&lt;int&gt;</th><th scope=col>&lt;dbl&gt;</th><th scope=col>&lt;dbl&gt;</th><th scope=col>&lt;dbl&gt;</th><th scope=col>&lt;dbl&gt;</th><th scope=col>&lt;dbl&gt;</th><th scope=col>&lt;dbl&gt;</th><th scope=col>&lt;dbl&gt;</th><th scope=col>&lt;dbl&gt;</th><th scope=col>&lt;dbl&gt;</th></tr>\n",
              "</thead>\n",
              "<tbody>\n",
              "\t<tr><th scope=row>1</th><td>1</td><td>1000</td><td>1021</td><td>Calendar</td><td>2013</td><td>Public Protection</td><td>ADP</td><td>ADP Adult Probation</td><td>21</td><td>Prof &amp; Tech Engineers - Miscellaneous, Local 21</td><td>⋯</td><td>37730</td><td> 57534.65</td><td>0</td><td><span style=white-space:pre-wrap>    0.00</span></td><td> 57534.65</td><td>11253.16</td><td>11961.34</td><td>4532.63</td><td>27747.13</td><td> 85281.78</td></tr>\n",
              "\t<tr><th scope=row>2</th><td>1</td><td>1000</td><td>1023</td><td>Calendar</td><td>2013</td><td>Public Protection</td><td>ADP</td><td>ADP Adult Probation</td><td>21</td><td>Prof &amp; Tech Engineers - Miscellaneous, Local 21</td><td>⋯</td><td>26574</td><td> 57678.50</td><td>0</td><td><span style=white-space:pre-wrap>    0.00</span></td><td> 57678.50</td><td>10284.88</td><td> 7176.80</td><td>4755.14</td><td>22216.82</td><td> 79895.32</td></tr>\n",
              "\t<tr><th scope=row>3</th><td>1</td><td>1000</td><td>1031</td><td>Calendar</td><td>2013</td><td>Public Protection</td><td>ADP</td><td>ADP Adult Probation</td><td>21</td><td>Prof &amp; Tech Engineers - Miscellaneous, Local 21</td><td>⋯</td><td> 8148</td><td> 63532.93</td><td>0</td><td><span style=white-space:pre-wrap>    0.00</span></td><td> 63532.93</td><td>12495.83</td><td>12918.24</td><td>4702.71</td><td>30116.78</td><td> 93649.71</td></tr>\n",
              "\t<tr><th scope=row>4</th><td>1</td><td>1000</td><td>1054</td><td>Calendar</td><td>2013</td><td>Public Protection</td><td>ADP</td><td>ADP Adult Probation</td><td>21</td><td>Prof &amp; Tech Engineers - Miscellaneous, Local 21</td><td>⋯</td><td>27436</td><td>101274.51</td><td>0</td><td>-7058.59</td><td> 94215.92</td><td>19644.45</td><td>12918.24</td><td>7458.76</td><td>40021.45</td><td>134237.37</td></tr>\n",
              "\t<tr><th scope=row>5</th><td>1</td><td>1000</td><td>1062</td><td>Calendar</td><td>2013</td><td>Public Protection</td><td>ADP</td><td>ADP Adult Probation</td><td>21</td><td>Prof &amp; Tech Engineers - Miscellaneous, Local 21</td><td>⋯</td><td>37730</td><td><span style=white-space:pre-wrap>  5084.00</span></td><td>0</td><td><span style=white-space:pre-wrap>    0.00</span></td><td><span style=white-space:pre-wrap>  5084.00</span></td><td> 1083.90</td><td><span style=white-space:pre-wrap>  956.91</span></td><td> 387.50</td><td> 2428.31</td><td><span style=white-space:pre-wrap>  7512.31</span></td></tr>\n",
              "\t<tr><th scope=row>6</th><td>1</td><td>1000</td><td>1064</td><td>Calendar</td><td>2013</td><td>Public Protection</td><td>ADP</td><td>ADP Adult Probation</td><td>21</td><td>Prof &amp; Tech Engineers - Miscellaneous, Local 21</td><td>⋯</td><td>36223</td><td> 34456.00</td><td>0</td><td><span style=white-space:pre-wrap>    0.00</span></td><td> 34456.00</td><td> 7346.00</td><td> 3827.63</td><td>2579.95</td><td>13753.58</td><td> 48209.58</td></tr>\n",
              "\t<tr><th scope=row>7</th><td>1</td><td>1000</td><td>1070</td><td>Calendar</td><td>2013</td><td>Public Protection</td><td>ADP</td><td>ADP Adult Probation</td><td>21</td><td>Prof &amp; Tech Engineers - Miscellaneous, Local 21</td><td>⋯</td><td>51426</td><td>139889.00</td><td>0</td><td><span style=white-space:pre-wrap>    0.00</span></td><td>139889.00</td><td>26799.23</td><td>12918.24</td><td>9791.54</td><td>49509.01</td><td>189398.01</td></tr>\n",
              "\t<tr><th scope=row>8</th><td>1</td><td>1000</td><td>1094</td><td>Calendar</td><td>2013</td><td>Public Protection</td><td>ADP</td><td>ADP Adult Probation</td><td>21</td><td>Prof &amp; Tech Engineers - Miscellaneous, Local 21</td><td>⋯</td><td>26574</td><td> 46572.00</td><td>0</td><td><span style=white-space:pre-wrap>    0.00</span></td><td> 46572.00</td><td> 9929.16</td><td> 5741.44</td><td>3822.28</td><td>19492.88</td><td> 66064.88</td></tr>\n",
              "\t<tr><th scope=row>9</th><td>1</td><td>1200</td><td>1232</td><td>Calendar</td><td>2013</td><td>Public Protection</td><td>ADP</td><td>ADP Adult Probation</td><td>21</td><td>Prof &amp; Tech Engineers - Miscellaneous, Local 21</td><td>⋯</td><td>37983</td><td> 84681.53</td><td>0</td><td><span style=white-space:pre-wrap>    0.00</span></td><td> 84681.53</td><td>16661.84</td><td>12918.24</td><td>6838.44</td><td>36418.52</td><td>121100.05</td></tr>\n",
              "\t<tr><th scope=row>10</th><td>1</td><td>1600</td><td>1654</td><td>Calendar</td><td>2013</td><td>Public Protection</td><td>ADP</td><td>ADP Adult Probation</td><td>21</td><td>Prof &amp; Tech Engineers - Miscellaneous, Local 21</td><td>⋯</td><td>16858</td><td> 10611.01</td><td>0</td><td><span style=white-space:pre-wrap>    0.00</span></td><td> 10611.01</td><td> 1879.20</td><td> 1435.36</td><td> 827.09</td><td> 4141.65</td><td> 14752.66</td></tr>\n",
              "</tbody>\n",
              "</table>\n"
            ],
            "text/markdown": "\nA data.frame: 10 × 22\n\n| <!--/--> | Organization.Group.Code &lt;int&gt; | Job.Family.Code &lt;chr&gt; | Job.Code &lt;chr&gt; | Year.Type &lt;chr&gt; | Year &lt;int&gt; | Organization.Group &lt;chr&gt; | Department.Code &lt;chr&gt; | Department &lt;chr&gt; | Union.Code &lt;int&gt; | Union &lt;chr&gt; | ⋯ ⋯ | Employee.Identifier &lt;int&gt; | Salaries &lt;dbl&gt; | Overtime &lt;dbl&gt; | Other.Salaries &lt;dbl&gt; | Total.Salary &lt;dbl&gt; | Retirement &lt;dbl&gt; | Health.and.Dental &lt;dbl&gt; | Other.Benefits &lt;dbl&gt; | Total.Benefits &lt;dbl&gt; | Total.Compensation &lt;dbl&gt; |\n|---|---|---|---|---|---|---|---|---|---|---|---|---|---|---|---|---|---|---|---|---|---|\n| 1 | 1 | 1000 | 1021 | Calendar | 2013 | Public Protection | ADP | ADP Adult Probation | 21 | Prof &amp; Tech Engineers - Miscellaneous, Local 21 | ⋯ | 37730 |  57534.65 | 0 |     0.00 |  57534.65 | 11253.16 | 11961.34 | 4532.63 | 27747.13 |  85281.78 |\n| 2 | 1 | 1000 | 1023 | Calendar | 2013 | Public Protection | ADP | ADP Adult Probation | 21 | Prof &amp; Tech Engineers - Miscellaneous, Local 21 | ⋯ | 26574 |  57678.50 | 0 |     0.00 |  57678.50 | 10284.88 |  7176.80 | 4755.14 | 22216.82 |  79895.32 |\n| 3 | 1 | 1000 | 1031 | Calendar | 2013 | Public Protection | ADP | ADP Adult Probation | 21 | Prof &amp; Tech Engineers - Miscellaneous, Local 21 | ⋯ |  8148 |  63532.93 | 0 |     0.00 |  63532.93 | 12495.83 | 12918.24 | 4702.71 | 30116.78 |  93649.71 |\n| 4 | 1 | 1000 | 1054 | Calendar | 2013 | Public Protection | ADP | ADP Adult Probation | 21 | Prof &amp; Tech Engineers - Miscellaneous, Local 21 | ⋯ | 27436 | 101274.51 | 0 | -7058.59 |  94215.92 | 19644.45 | 12918.24 | 7458.76 | 40021.45 | 134237.37 |\n| 5 | 1 | 1000 | 1062 | Calendar | 2013 | Public Protection | ADP | ADP Adult Probation | 21 | Prof &amp; Tech Engineers - Miscellaneous, Local 21 | ⋯ | 37730 |   5084.00 | 0 |     0.00 |   5084.00 |  1083.90 |   956.91 |  387.50 |  2428.31 |   7512.31 |\n| 6 | 1 | 1000 | 1064 | Calendar | 2013 | Public Protection | ADP | ADP Adult Probation | 21 | Prof &amp; Tech Engineers - Miscellaneous, Local 21 | ⋯ | 36223 |  34456.00 | 0 |     0.00 |  34456.00 |  7346.00 |  3827.63 | 2579.95 | 13753.58 |  48209.58 |\n| 7 | 1 | 1000 | 1070 | Calendar | 2013 | Public Protection | ADP | ADP Adult Probation | 21 | Prof &amp; Tech Engineers - Miscellaneous, Local 21 | ⋯ | 51426 | 139889.00 | 0 |     0.00 | 139889.00 | 26799.23 | 12918.24 | 9791.54 | 49509.01 | 189398.01 |\n| 8 | 1 | 1000 | 1094 | Calendar | 2013 | Public Protection | ADP | ADP Adult Probation | 21 | Prof &amp; Tech Engineers - Miscellaneous, Local 21 | ⋯ | 26574 |  46572.00 | 0 |     0.00 |  46572.00 |  9929.16 |  5741.44 | 3822.28 | 19492.88 |  66064.88 |\n| 9 | 1 | 1200 | 1232 | Calendar | 2013 | Public Protection | ADP | ADP Adult Probation | 21 | Prof &amp; Tech Engineers - Miscellaneous, Local 21 | ⋯ | 37983 |  84681.53 | 0 |     0.00 |  84681.53 | 16661.84 | 12918.24 | 6838.44 | 36418.52 | 121100.05 |\n| 10 | 1 | 1600 | 1654 | Calendar | 2013 | Public Protection | ADP | ADP Adult Probation | 21 | Prof &amp; Tech Engineers - Miscellaneous, Local 21 | ⋯ | 16858 |  10611.01 | 0 |     0.00 |  10611.01 |  1879.20 |  1435.36 |  827.09 |  4141.65 |  14752.66 |\n\n",
            "text/latex": "A data.frame: 10 × 22\n\\begin{tabular}{r|lllllllllllllllllllll}\n  & Organization.Group.Code & Job.Family.Code & Job.Code & Year.Type & Year & Organization.Group & Department.Code & Department & Union.Code & Union & ⋯ & Employee.Identifier & Salaries & Overtime & Other.Salaries & Total.Salary & Retirement & Health.and.Dental & Other.Benefits & Total.Benefits & Total.Compensation\\\\\n  & <int> & <chr> & <chr> & <chr> & <int> & <chr> & <chr> & <chr> & <int> & <chr> & ⋯ & <int> & <dbl> & <dbl> & <dbl> & <dbl> & <dbl> & <dbl> & <dbl> & <dbl> & <dbl>\\\\\n\\hline\n\t1 & 1 & 1000 & 1021 & Calendar & 2013 & Public Protection & ADP & ADP Adult Probation & 21 & Prof \\& Tech Engineers - Miscellaneous, Local 21 & ⋯ & 37730 &  57534.65 & 0 &     0.00 &  57534.65 & 11253.16 & 11961.34 & 4532.63 & 27747.13 &  85281.78\\\\\n\t2 & 1 & 1000 & 1023 & Calendar & 2013 & Public Protection & ADP & ADP Adult Probation & 21 & Prof \\& Tech Engineers - Miscellaneous, Local 21 & ⋯ & 26574 &  57678.50 & 0 &     0.00 &  57678.50 & 10284.88 &  7176.80 & 4755.14 & 22216.82 &  79895.32\\\\\n\t3 & 1 & 1000 & 1031 & Calendar & 2013 & Public Protection & ADP & ADP Adult Probation & 21 & Prof \\& Tech Engineers - Miscellaneous, Local 21 & ⋯ &  8148 &  63532.93 & 0 &     0.00 &  63532.93 & 12495.83 & 12918.24 & 4702.71 & 30116.78 &  93649.71\\\\\n\t4 & 1 & 1000 & 1054 & Calendar & 2013 & Public Protection & ADP & ADP Adult Probation & 21 & Prof \\& Tech Engineers - Miscellaneous, Local 21 & ⋯ & 27436 & 101274.51 & 0 & -7058.59 &  94215.92 & 19644.45 & 12918.24 & 7458.76 & 40021.45 & 134237.37\\\\\n\t5 & 1 & 1000 & 1062 & Calendar & 2013 & Public Protection & ADP & ADP Adult Probation & 21 & Prof \\& Tech Engineers - Miscellaneous, Local 21 & ⋯ & 37730 &   5084.00 & 0 &     0.00 &   5084.00 &  1083.90 &   956.91 &  387.50 &  2428.31 &   7512.31\\\\\n\t6 & 1 & 1000 & 1064 & Calendar & 2013 & Public Protection & ADP & ADP Adult Probation & 21 & Prof \\& Tech Engineers - Miscellaneous, Local 21 & ⋯ & 36223 &  34456.00 & 0 &     0.00 &  34456.00 &  7346.00 &  3827.63 & 2579.95 & 13753.58 &  48209.58\\\\\n\t7 & 1 & 1000 & 1070 & Calendar & 2013 & Public Protection & ADP & ADP Adult Probation & 21 & Prof \\& Tech Engineers - Miscellaneous, Local 21 & ⋯ & 51426 & 139889.00 & 0 &     0.00 & 139889.00 & 26799.23 & 12918.24 & 9791.54 & 49509.01 & 189398.01\\\\\n\t8 & 1 & 1000 & 1094 & Calendar & 2013 & Public Protection & ADP & ADP Adult Probation & 21 & Prof \\& Tech Engineers - Miscellaneous, Local 21 & ⋯ & 26574 &  46572.00 & 0 &     0.00 &  46572.00 &  9929.16 &  5741.44 & 3822.28 & 19492.88 &  66064.88\\\\\n\t9 & 1 & 1200 & 1232 & Calendar & 2013 & Public Protection & ADP & ADP Adult Probation & 21 & Prof \\& Tech Engineers - Miscellaneous, Local 21 & ⋯ & 37983 &  84681.53 & 0 &     0.00 &  84681.53 & 16661.84 & 12918.24 & 6838.44 & 36418.52 & 121100.05\\\\\n\t10 & 1 & 1600 & 1654 & Calendar & 2013 & Public Protection & ADP & ADP Adult Probation & 21 & Prof \\& Tech Engineers - Miscellaneous, Local 21 & ⋯ & 16858 &  10611.01 & 0 &     0.00 &  10611.01 &  1879.20 &  1435.36 &  827.09 &  4141.65 &  14752.66\\\\\n\\end{tabular}\n",
            "text/plain": [
              "   Organization.Group.Code Job.Family.Code Job.Code Year.Type Year\n",
              "1  1                       1000            1021     Calendar  2013\n",
              "2  1                       1000            1023     Calendar  2013\n",
              "3  1                       1000            1031     Calendar  2013\n",
              "4  1                       1000            1054     Calendar  2013\n",
              "5  1                       1000            1062     Calendar  2013\n",
              "6  1                       1000            1064     Calendar  2013\n",
              "7  1                       1000            1070     Calendar  2013\n",
              "8  1                       1000            1094     Calendar  2013\n",
              "9  1                       1200            1232     Calendar  2013\n",
              "10 1                       1600            1654     Calendar  2013\n",
              "   Organization.Group Department.Code Department          Union.Code\n",
              "1  Public Protection  ADP             ADP Adult Probation 21        \n",
              "2  Public Protection  ADP             ADP Adult Probation 21        \n",
              "3  Public Protection  ADP             ADP Adult Probation 21        \n",
              "4  Public Protection  ADP             ADP Adult Probation 21        \n",
              "5  Public Protection  ADP             ADP Adult Probation 21        \n",
              "6  Public Protection  ADP             ADP Adult Probation 21        \n",
              "7  Public Protection  ADP             ADP Adult Probation 21        \n",
              "8  Public Protection  ADP             ADP Adult Probation 21        \n",
              "9  Public Protection  ADP             ADP Adult Probation 21        \n",
              "10 Public Protection  ADP             ADP Adult Probation 21        \n",
              "   Union                                           ⋯ Employee.Identifier\n",
              "1  Prof & Tech Engineers - Miscellaneous, Local 21 ⋯ 37730              \n",
              "2  Prof & Tech Engineers - Miscellaneous, Local 21 ⋯ 26574              \n",
              "3  Prof & Tech Engineers - Miscellaneous, Local 21 ⋯  8148              \n",
              "4  Prof & Tech Engineers - Miscellaneous, Local 21 ⋯ 27436              \n",
              "5  Prof & Tech Engineers - Miscellaneous, Local 21 ⋯ 37730              \n",
              "6  Prof & Tech Engineers - Miscellaneous, Local 21 ⋯ 36223              \n",
              "7  Prof & Tech Engineers - Miscellaneous, Local 21 ⋯ 51426              \n",
              "8  Prof & Tech Engineers - Miscellaneous, Local 21 ⋯ 26574              \n",
              "9  Prof & Tech Engineers - Miscellaneous, Local 21 ⋯ 37983              \n",
              "10 Prof & Tech Engineers - Miscellaneous, Local 21 ⋯ 16858              \n",
              "   Salaries  Overtime Other.Salaries Total.Salary Retirement Health.and.Dental\n",
              "1   57534.65 0            0.00        57534.65    11253.16   11961.34         \n",
              "2   57678.50 0            0.00        57678.50    10284.88    7176.80         \n",
              "3   63532.93 0            0.00        63532.93    12495.83   12918.24         \n",
              "4  101274.51 0        -7058.59        94215.92    19644.45   12918.24         \n",
              "5    5084.00 0            0.00         5084.00     1083.90     956.91         \n",
              "6   34456.00 0            0.00        34456.00     7346.00    3827.63         \n",
              "7  139889.00 0            0.00       139889.00    26799.23   12918.24         \n",
              "8   46572.00 0            0.00        46572.00     9929.16    5741.44         \n",
              "9   84681.53 0            0.00        84681.53    16661.84   12918.24         \n",
              "10  10611.01 0            0.00        10611.01     1879.20    1435.36         \n",
              "   Other.Benefits Total.Benefits Total.Compensation\n",
              "1  4532.63        27747.13        85281.78         \n",
              "2  4755.14        22216.82        79895.32         \n",
              "3  4702.71        30116.78        93649.71         \n",
              "4  7458.76        40021.45       134237.37         \n",
              "5   387.50         2428.31         7512.31         \n",
              "6  2579.95        13753.58        48209.58         \n",
              "7  9791.54        49509.01       189398.01         \n",
              "8  3822.28        19492.88        66064.88         \n",
              "9  6838.44        36418.52       121100.05         \n",
              "10  827.09         4141.65        14752.66         "
            ]
          },
          "metadata": {}
        }
      ]
    },
    {
      "cell_type": "markdown",
      "source": [
        "##### 2. Showing the number of rows and columns\n",
        "\n",
        "> By using \"dim()' function, the number of rows and columns are found to be 683,277 and 22, respectively.\n"
      ],
      "metadata": {
        "id": "dxDBiWlj1tdl"
      }
    },
    {
      "cell_type": "code",
      "source": [
        "dim(EC)"
      ],
      "metadata": {
        "colab": {
          "base_uri": "https://localhost:8080/",
          "height": 34
        },
        "id": "DGVwUBMB2tSq",
        "outputId": "21372d18-4cad-450f-d1f4-ce2b96dff9bc"
      },
      "execution_count": null,
      "outputs": [
        {
          "output_type": "display_data",
          "data": {
            "text/html": [
              "<style>\n",
              ".list-inline {list-style: none; margin:0; padding: 0}\n",
              ".list-inline>li {display: inline-block}\n",
              ".list-inline>li:not(:last-child)::after {content: \"\\00b7\"; padding: 0 .5ex}\n",
              "</style>\n",
              "<ol class=list-inline><li>683277</li><li>22</li></ol>\n"
            ],
            "text/markdown": "1. 683277\n2. 22\n\n\n",
            "text/latex": "\\begin{enumerate*}\n\\item 683277\n\\item 22\n\\end{enumerate*}\n",
            "text/plain": [
              "[1] 683277     22"
            ]
          },
          "metadata": {}
        }
      ]
    },
    {
      "cell_type": "markdown",
      "source": [
        "##### 3. Showing types of columns (using str)\n",
        "> The \"str()\" function simply summarizes the contents of the data frame. It helps to understand the data frame by outputting the data type of each column, including the number of rows and columns that can be checked with the \"dim()\" function.<br> The data type(chr, num, int) and data value of each column(total 22) are checked with the \"str()\" function."
      ],
      "metadata": {
        "id": "Bbs2vkMj2wVf"
      }
    },
    {
      "cell_type": "code",
      "source": [
        "str(EC)"
      ],
      "metadata": {
        "colab": {
          "base_uri": "https://localhost:8080/"
        },
        "id": "03IPX7Oq2z0n",
        "outputId": "dea72d45-bd25-43d1-d9bf-b9650add9fc2"
      },
      "execution_count": null,
      "outputs": [
        {
          "output_type": "stream",
          "name": "stdout",
          "text": [
            "'data.frame':\t683277 obs. of  22 variables:\n",
            " $ Organization.Group.Code: int  1 1 1 1 1 1 1 1 1 1 ...\n",
            " $ Job.Family.Code        : chr  \"1000\" \"1000\" \"1000\" \"1000\" ...\n",
            " $ Job.Code               : chr  \"1021\" \"1023\" \"1031\" \"1054\" ...\n",
            " $ Year.Type              : chr  \"Calendar\" \"Calendar\" \"Calendar\" \"Calendar\" ...\n",
            " $ Year                   : int  2013 2013 2013 2013 2013 2013 2013 2013 2013 2013 ...\n",
            " $ Organization.Group     : chr  \"Public Protection\" \"Public Protection\" \"Public Protection\" \"Public Protection\" ...\n",
            " $ Department.Code        : chr  \"ADP\" \"ADP\" \"ADP\" \"ADP\" ...\n",
            " $ Department             : chr  \"ADP Adult Probation\" \"ADP Adult Probation\" \"ADP Adult Probation\" \"ADP Adult Probation\" ...\n",
            " $ Union.Code             : int  21 21 21 21 21 21 21 21 21 21 ...\n",
            " $ Union                  : chr  \"Prof & Tech Engineers - Miscellaneous, Local 21\" \"Prof & Tech Engineers - Miscellaneous, Local 21\" \"Prof & Tech Engineers - Miscellaneous, Local 21\" \"Prof & Tech Engineers - Miscellaneous, Local 21\" ...\n",
            " $ Job.Family             : chr  \"Information Systems\" \"Information Systems\" \"Information Systems\" \"Information Systems\" ...\n",
            " $ Job                    : chr  \"IS Administrator 1\" \"IS Administrator 3\" \"IS Trainer-Assistant\" \"IS Business Analyst-Principal\" ...\n",
            " $ Employee.Identifier    : int  37730 26574 8148 27436 37730 36223 51426 26574 37983 16858 ...\n",
            " $ Salaries               : num  57535 57678 63533 101275 5084 ...\n",
            " $ Overtime               : num  0 0 0 0 0 0 0 0 0 0 ...\n",
            " $ Other.Salaries         : num  0 0 0 -7059 0 ...\n",
            " $ Total.Salary           : num  57535 57678 63533 94216 5084 ...\n",
            " $ Retirement             : num  11253 10285 12496 19644 1084 ...\n",
            " $ Health.and.Dental      : num  11961 7177 12918 12918 957 ...\n",
            " $ Other.Benefits         : num  4533 4755 4703 7459 388 ...\n",
            " $ Total.Benefits         : num  27747 22217 30117 40021 2428 ...\n",
            " $ Total.Compensation     : num  85282 79895 93650 134237 7512 ...\n"
          ]
        }
      ]
    },
    {
      "cell_type": "markdown",
      "source": [
        "##### 4. Showing median of specific columns\n",
        "\n",
        "> The value of average can be checked by using the \"median()\" function, and the average of total compensation is 107,529.24. \n",
        "\n"
      ],
      "metadata": {
        "id": "JZByxSHJ21Mr"
      }
    },
    {
      "cell_type": "code",
      "source": [
        "median(EC$Total.Compensation, na.rm=TRUE)"
      ],
      "metadata": {
        "colab": {
          "base_uri": "https://localhost:8080/",
          "height": 34
        },
        "id": "cP1H8Zrj3Ktx",
        "outputId": "6a545160-67da-47d9-fc0c-f3c71a9597a1"
      },
      "execution_count": null,
      "outputs": [
        {
          "output_type": "display_data",
          "data": {
            "text/html": [
              "107529.24"
            ],
            "text/markdown": "107529.24",
            "text/latex": "107529.24",
            "text/plain": [
              "[1] 107529.2"
            ]
          },
          "metadata": {}
        }
      ]
    },
    {
      "cell_type": "markdown",
      "source": [
        "## **3) Subsets of Data**\n"
      ],
      "metadata": {
        "id": "1vVaNdAh3NzZ"
      }
    },
    {
      "cell_type": "markdown",
      "source": [
        "> Run library(dplyr) for data manipulation. "
      ],
      "metadata": {
        "id": "8G8yMrW-iqj9"
      }
    },
    {
      "cell_type": "code",
      "source": [
        "library(dplyr)"
      ],
      "metadata": {
        "id": "bfKg0cxt3RP9"
      },
      "execution_count": null,
      "outputs": []
    },
    {
      "cell_type": "markdown",
      "source": [
        "> Analyze the fiscal year as the base year in order to increase the consistency of the data. <br>\n",
        "\n",
        "> The \"which()\" function indicates information about the position of data that satisfies the condition. The \"which()\" function is used to select the values corresponding to the fiscal year among the year types. Newly selected data frame is named \"FEC\" and listed in order of greatest total compensation. Use the \"head()\" function to extract the largest total compensation value from 1 to 5, containing distinct rows and columns. In this case, the columns are selected from Year to Total Compensation.\n",
        "\n",
        "> From the output, it can be seen that the total compensation for a worker with a job title of Police Officer 3 in 2019 is extracted with the highest value of 807,625.2. Based on this, we would like to extract the largest value of total compensation of previous years and compare them with the output value of 2019."
      ],
      "metadata": {
        "id": "VIq5vxrUvqd2"
      }
    },
    {
      "cell_type": "code",
      "source": [
        "FEC <- arrange(EC[which(EC$Year.Type == \"Fiscal\"),],desc(Total.Compensation))\n",
        "FEC_h <- head(FEC[,5:22],5)\n",
        "FEC_h"
      ],
      "metadata": {
        "colab": {
          "base_uri": "https://localhost:8080/",
          "height": 501
        },
        "id": "tZnDCMh23V5o",
        "outputId": "01980fe9-67b8-4ed8-aff5-be69137c4d8a"
      },
      "execution_count": null,
      "outputs": [
        {
          "output_type": "display_data",
          "data": {
            "text/html": [
              "<table class=\"dataframe\">\n",
              "<caption>A data.frame: 5 × 18</caption>\n",
              "<thead>\n",
              "\t<tr><th></th><th scope=col>Year</th><th scope=col>Organization.Group</th><th scope=col>Department.Code</th><th scope=col>Department</th><th scope=col>Union.Code</th><th scope=col>Union</th><th scope=col>Job.Family</th><th scope=col>Job</th><th scope=col>Employee.Identifier</th><th scope=col>Salaries</th><th scope=col>Overtime</th><th scope=col>Other.Salaries</th><th scope=col>Total.Salary</th><th scope=col>Retirement</th><th scope=col>Health.and.Dental</th><th scope=col>Other.Benefits</th><th scope=col>Total.Benefits</th><th scope=col>Total.Compensation</th></tr>\n",
              "\t<tr><th></th><th scope=col>&lt;int&gt;</th><th scope=col>&lt;chr&gt;</th><th scope=col>&lt;chr&gt;</th><th scope=col>&lt;chr&gt;</th><th scope=col>&lt;int&gt;</th><th scope=col>&lt;chr&gt;</th><th scope=col>&lt;chr&gt;</th><th scope=col>&lt;chr&gt;</th><th scope=col>&lt;int&gt;</th><th scope=col>&lt;dbl&gt;</th><th scope=col>&lt;dbl&gt;</th><th scope=col>&lt;dbl&gt;</th><th scope=col>&lt;dbl&gt;</th><th scope=col>&lt;dbl&gt;</th><th scope=col>&lt;dbl&gt;</th><th scope=col>&lt;dbl&gt;</th><th scope=col>&lt;dbl&gt;</th><th scope=col>&lt;dbl&gt;</th></tr>\n",
              "</thead>\n",
              "<tbody>\n",
              "\t<tr><th scope=row>1</th><td>2019</td><td>Public Protection               </td><td>POL</td><td>Police             </td><td>911</td><td>POA                       </td><td>Police Services              </td><td>Police Officer 3           </td><td>37499756</td><td>651936.7</td><td>3747</td><td>  3183.86</td><td>658867.6</td><td>121952.52</td><td>15525.74</td><td>11279.42</td><td>148757.68</td><td>807625.2</td></tr>\n",
              "\t<tr><th scope=row>2</th><td>2020</td><td>General Administration &amp; Finance</td><td>RET</td><td>Retirement Services</td><td>351</td><td>Municipal Exec Assoc, Misc</td><td>Administrative &amp; Mgmt (Unrep)</td><td><span style=white-space:pre-wrap>Chief Investment Officer   </span></td><td>42466186</td><td>584297.6</td><td><span style=white-space:pre-wrap>   0</span></td><td><span style=white-space:pre-wrap>     0.00</span></td><td>584297.6</td><td>114934.16</td><td>18155.15</td><td>18555.87</td><td>151645.18</td><td>735942.8</td></tr>\n",
              "\t<tr><th scope=row>3</th><td>2019</td><td>General Administration &amp; Finance</td><td>RET</td><td>Retirement Services</td><td>351</td><td>Municipal Exec Assoc, Misc</td><td>Administrative &amp; Mgmt (Unrep)</td><td><span style=white-space:pre-wrap>Chief Investment Officer   </span></td><td>37489389</td><td>565707.0</td><td><span style=white-space:pre-wrap>   0</span></td><td><span style=white-space:pre-wrap>     0.00</span></td><td>565707.0</td><td>105697.07</td><td>17788.88</td><td>17937.01</td><td>141422.96</td><td>707130.0</td></tr>\n",
              "\t<tr><th scope=row>4</th><td>2018</td><td>General Administration &amp; Finance</td><td>RET</td><td>Retirement Services</td><td>351</td><td>Municipal Exec Assoc, Misc</td><td>Administrative &amp; Mgmt (Unrep)</td><td><span style=white-space:pre-wrap>Chief Investment Officer   </span></td><td>36698179</td><td>550065.9</td><td><span style=white-space:pre-wrap>   0</span></td><td><span style=white-space:pre-wrap>     0.00</span></td><td>550065.9</td><td>100845.76</td><td>17294.69</td><td>17395.43</td><td>135535.88</td><td>685601.7</td></tr>\n",
              "\t<tr><th scope=row>5</th><td>2019</td><td>Public Protection               </td><td>FIR</td><td>Fire Department    </td><td>352</td><td>Municipal Exec Assoc, Fire</td><td>Management                   </td><td>Dep Chf of Dept (Fire Dept)</td><td>40266669</td><td>262160.9</td><td>   0</td><td>560099.40</td><td>591910.5</td><td> 50184.86</td><td>17368.33</td><td> 9432.78</td><td> 76985.97</td><td>668896.5</td></tr>\n",
              "</tbody>\n",
              "</table>\n"
            ],
            "text/markdown": "\nA data.frame: 5 × 18\n\n| <!--/--> | Year &lt;int&gt; | Organization.Group &lt;chr&gt; | Department.Code &lt;chr&gt; | Department &lt;chr&gt; | Union.Code &lt;int&gt; | Union &lt;chr&gt; | Job.Family &lt;chr&gt; | Job &lt;chr&gt; | Employee.Identifier &lt;int&gt; | Salaries &lt;dbl&gt; | Overtime &lt;dbl&gt; | Other.Salaries &lt;dbl&gt; | Total.Salary &lt;dbl&gt; | Retirement &lt;dbl&gt; | Health.and.Dental &lt;dbl&gt; | Other.Benefits &lt;dbl&gt; | Total.Benefits &lt;dbl&gt; | Total.Compensation &lt;dbl&gt; |\n|---|---|---|---|---|---|---|---|---|---|---|---|---|---|---|---|---|---|---|\n| 1 | 2019 | Public Protection                | POL | Police              | 911 | POA                        | Police Services               | Police Officer 3            | 37499756 | 651936.7 | 3747 |   3183.86 | 658867.6 | 121952.52 | 15525.74 | 11279.42 | 148757.68 | 807625.2 |\n| 2 | 2020 | General Administration &amp; Finance | RET | Retirement Services | 351 | Municipal Exec Assoc, Misc | Administrative &amp; Mgmt (Unrep) | Chief Investment Officer    | 42466186 | 584297.6 |    0 |      0.00 | 584297.6 | 114934.16 | 18155.15 | 18555.87 | 151645.18 | 735942.8 |\n| 3 | 2019 | General Administration &amp; Finance | RET | Retirement Services | 351 | Municipal Exec Assoc, Misc | Administrative &amp; Mgmt (Unrep) | Chief Investment Officer    | 37489389 | 565707.0 |    0 |      0.00 | 565707.0 | 105697.07 | 17788.88 | 17937.01 | 141422.96 | 707130.0 |\n| 4 | 2018 | General Administration &amp; Finance | RET | Retirement Services | 351 | Municipal Exec Assoc, Misc | Administrative &amp; Mgmt (Unrep) | Chief Investment Officer    | 36698179 | 550065.9 |    0 |      0.00 | 550065.9 | 100845.76 | 17294.69 | 17395.43 | 135535.88 | 685601.7 |\n| 5 | 2019 | Public Protection                | FIR | Fire Department     | 352 | Municipal Exec Assoc, Fire | Management                    | Dep Chf of Dept (Fire Dept) | 40266669 | 262160.9 |    0 | 560099.40 | 591910.5 |  50184.86 | 17368.33 |  9432.78 |  76985.97 | 668896.5 |\n\n",
            "text/latex": "A data.frame: 5 × 18\n\\begin{tabular}{r|llllllllllllllllll}\n  & Year & Organization.Group & Department.Code & Department & Union.Code & Union & Job.Family & Job & Employee.Identifier & Salaries & Overtime & Other.Salaries & Total.Salary & Retirement & Health.and.Dental & Other.Benefits & Total.Benefits & Total.Compensation\\\\\n  & <int> & <chr> & <chr> & <chr> & <int> & <chr> & <chr> & <chr> & <int> & <dbl> & <dbl> & <dbl> & <dbl> & <dbl> & <dbl> & <dbl> & <dbl> & <dbl>\\\\\n\\hline\n\t1 & 2019 & Public Protection                & POL & Police              & 911 & POA                        & Police Services               & Police Officer 3            & 37499756 & 651936.7 & 3747 &   3183.86 & 658867.6 & 121952.52 & 15525.74 & 11279.42 & 148757.68 & 807625.2\\\\\n\t2 & 2020 & General Administration \\& Finance & RET & Retirement Services & 351 & Municipal Exec Assoc, Misc & Administrative \\& Mgmt (Unrep) & Chief Investment Officer    & 42466186 & 584297.6 &    0 &      0.00 & 584297.6 & 114934.16 & 18155.15 & 18555.87 & 151645.18 & 735942.8\\\\\n\t3 & 2019 & General Administration \\& Finance & RET & Retirement Services & 351 & Municipal Exec Assoc, Misc & Administrative \\& Mgmt (Unrep) & Chief Investment Officer    & 37489389 & 565707.0 &    0 &      0.00 & 565707.0 & 105697.07 & 17788.88 & 17937.01 & 141422.96 & 707130.0\\\\\n\t4 & 2018 & General Administration \\& Finance & RET & Retirement Services & 351 & Municipal Exec Assoc, Misc & Administrative \\& Mgmt (Unrep) & Chief Investment Officer    & 36698179 & 550065.9 &    0 &      0.00 & 550065.9 & 100845.76 & 17294.69 & 17395.43 & 135535.88 & 685601.7\\\\\n\t5 & 2019 & Public Protection                & FIR & Fire Department     & 352 & Municipal Exec Assoc, Fire & Management                    & Dep Chf of Dept (Fire Dept) & 40266669 & 262160.9 &    0 & 560099.40 & 591910.5 &  50184.86 & 17368.33 &  9432.78 &  76985.97 & 668896.5\\\\\n\\end{tabular}\n",
            "text/plain": [
              "  Year Organization.Group               Department.Code Department         \n",
              "1 2019 Public Protection                POL             Police             \n",
              "2 2020 General Administration & Finance RET             Retirement Services\n",
              "3 2019 General Administration & Finance RET             Retirement Services\n",
              "4 2018 General Administration & Finance RET             Retirement Services\n",
              "5 2019 Public Protection                FIR             Fire Department    \n",
              "  Union.Code Union                      Job.Family                   \n",
              "1 911        POA                        Police Services              \n",
              "2 351        Municipal Exec Assoc, Misc Administrative & Mgmt (Unrep)\n",
              "3 351        Municipal Exec Assoc, Misc Administrative & Mgmt (Unrep)\n",
              "4 351        Municipal Exec Assoc, Misc Administrative & Mgmt (Unrep)\n",
              "5 352        Municipal Exec Assoc, Fire Management                   \n",
              "  Job                         Employee.Identifier Salaries Overtime\n",
              "1 Police Officer 3            37499756            651936.7 3747    \n",
              "2 Chief Investment Officer    42466186            584297.6    0    \n",
              "3 Chief Investment Officer    37489389            565707.0    0    \n",
              "4 Chief Investment Officer    36698179            550065.9    0    \n",
              "5 Dep Chf of Dept (Fire Dept) 40266669            262160.9    0    \n",
              "  Other.Salaries Total.Salary Retirement Health.and.Dental Other.Benefits\n",
              "1   3183.86      658867.6     121952.52  15525.74          11279.42      \n",
              "2      0.00      584297.6     114934.16  18155.15          18555.87      \n",
              "3      0.00      565707.0     105697.07  17788.88          17937.01      \n",
              "4      0.00      550065.9     100845.76  17294.69          17395.43      \n",
              "5 560099.40      591910.5      50184.86  17368.33           9432.78      \n",
              "  Total.Benefits Total.Compensation\n",
              "1 148757.68      807625.2          \n",
              "2 151645.18      735942.8          \n",
              "3 141422.96      707130.0          \n",
              "4 135535.88      685601.7          \n",
              "5  76985.97      668896.5          "
            ]
          },
          "metadata": {}
        }
      ]
    },
    {
      "cell_type": "markdown",
      "source": [
        "> The largest value of total compensation in 2018 is extracted using the \"which()\" function, and the columns are selected from Year to Total Compensation.The job with the largest total compensation in 2018 is Chief Investment Officer, with an amount of 685,601.7. This shows that the amount of total compensation in 2018 is smaller than the one in 2019."
      ],
      "metadata": {
        "id": "s0knnkIUi9A2"
      }
    },
    {
      "cell_type": "code",
      "source": [
        "head(FEC[which(FEC$Year == 2018),5:22],5)"
      ],
      "metadata": {
        "colab": {
          "base_uri": "https://localhost:8080/",
          "height": 448
        },
        "id": "DSeRIdWV7MOQ",
        "outputId": "e6c936e2-5b50-4c87-a937-2c89e4788f23"
      },
      "execution_count": null,
      "outputs": [
        {
          "output_type": "display_data",
          "data": {
            "text/html": [
              "<table class=\"dataframe\">\n",
              "<caption>A data.frame: 5 × 18</caption>\n",
              "<thead>\n",
              "\t<tr><th></th><th scope=col>Year</th><th scope=col>Organization.Group</th><th scope=col>Department.Code</th><th scope=col>Department</th><th scope=col>Union.Code</th><th scope=col>Union</th><th scope=col>Job.Family</th><th scope=col>Job</th><th scope=col>Employee.Identifier</th><th scope=col>Salaries</th><th scope=col>Overtime</th><th scope=col>Other.Salaries</th><th scope=col>Total.Salary</th><th scope=col>Retirement</th><th scope=col>Health.and.Dental</th><th scope=col>Other.Benefits</th><th scope=col>Total.Benefits</th><th scope=col>Total.Compensation</th></tr>\n",
              "\t<tr><th></th><th scope=col>&lt;int&gt;</th><th scope=col>&lt;chr&gt;</th><th scope=col>&lt;chr&gt;</th><th scope=col>&lt;chr&gt;</th><th scope=col>&lt;int&gt;</th><th scope=col>&lt;chr&gt;</th><th scope=col>&lt;chr&gt;</th><th scope=col>&lt;chr&gt;</th><th scope=col>&lt;int&gt;</th><th scope=col>&lt;dbl&gt;</th><th scope=col>&lt;dbl&gt;</th><th scope=col>&lt;dbl&gt;</th><th scope=col>&lt;dbl&gt;</th><th scope=col>&lt;dbl&gt;</th><th scope=col>&lt;dbl&gt;</th><th scope=col>&lt;dbl&gt;</th><th scope=col>&lt;dbl&gt;</th><th scope=col>&lt;dbl&gt;</th></tr>\n",
              "</thead>\n",
              "<tbody>\n",
              "\t<tr><th scope=row>4</th><td>2018</td><td>General Administration &amp; Finance</td><td>RET</td><td>Retirement Services</td><td>351</td><td><span style=white-space:pre-wrap>Municipal Exec Assoc, Misc    </span></td><td>Administrative &amp; Mgmt (Unrep)</td><td><span style=white-space:pre-wrap>Chief Investment Officer      </span></td><td>36698179</td><td>550065.9</td><td><span style=white-space:pre-wrap>     0</span></td><td><span style=white-space:pre-wrap>     0.0</span></td><td>550065.9</td><td>100845.76</td><td>17294.69</td><td>17395.43</td><td>135535.88</td><td>685601.7</td></tr>\n",
              "\t<tr><th scope=row>15</th><td>2018</td><td>General Administration &amp; Finance</td><td>RET</td><td>Retirement Services</td><td>351</td><td><span style=white-space:pre-wrap>Municipal Exec Assoc, Misc    </span></td><td><span style=white-space:pre-wrap>Unassigned                   </span></td><td><span style=white-space:pre-wrap>Managing Director             </span></td><td>36818957</td><td>460025.9</td><td><span style=white-space:pre-wrap>     0</span></td><td><span style=white-space:pre-wrap>     0.0</span></td><td>460025.9</td><td> 84338.41</td><td>23081.84</td><td>16127.64</td><td>123547.89</td><td>583573.8</td></tr>\n",
              "\t<tr><th scope=row>18</th><td>2018</td><td>General Administration &amp; Finance</td><td>RET</td><td>Retirement Services</td><td>351</td><td><span style=white-space:pre-wrap>Municipal Exec Assoc, Misc    </span></td><td><span style=white-space:pre-wrap>Unassigned                   </span></td><td><span style=white-space:pre-wrap>Managing Director             </span></td><td>37305193</td><td>460025.9</td><td><span style=white-space:pre-wrap>     0</span></td><td><span style=white-space:pre-wrap>     0.0</span></td><td>460025.9</td><td> 84338.41</td><td> 8456.90</td><td>15902.16</td><td>108697.47</td><td>568723.3</td></tr>\n",
              "\t<tr><th scope=row>24</th><td>2018</td><td><span style=white-space:pre-wrap>Community Health                </span></td><td>DPH</td><td><span style=white-space:pre-wrap>Public Health      </span></td><td>351</td><td><span style=white-space:pre-wrap>Municipal Exec Assoc, Misc    </span></td><td>Administrative &amp; Mgmt (Unrep)</td><td><span style=white-space:pre-wrap>Physician Administrator, DPH  </span></td><td>36875497</td><td>426657.9</td><td><span style=white-space:pre-wrap>     0</span></td><td><span style=white-space:pre-wrap>     0.0</span></td><td>426657.9</td><td> 79909.54</td><td>18210.36</td><td>15484.42</td><td>113604.32</td><td>540262.2</td></tr>\n",
              "\t<tr><th scope=row>28</th><td>2018</td><td>Public Protection               </td><td>FIR</td><td>Fire Department    </td><td>799</td><td>Firefighters,Local 798, Unit 2</td><td>Fire Services                </td><td>Battalion Chief, Fire Suppress</td><td>36776890</td><td>207432.6</td><td>111595</td><td>208126.1</td><td>467547.1</td><td> 35524.68</td><td>19232.67</td><td> 7435.76</td><td> 62193.11</td><td>529740.2</td></tr>\n",
              "</tbody>\n",
              "</table>\n"
            ],
            "text/markdown": "\nA data.frame: 5 × 18\n\n| <!--/--> | Year &lt;int&gt; | Organization.Group &lt;chr&gt; | Department.Code &lt;chr&gt; | Department &lt;chr&gt; | Union.Code &lt;int&gt; | Union &lt;chr&gt; | Job.Family &lt;chr&gt; | Job &lt;chr&gt; | Employee.Identifier &lt;int&gt; | Salaries &lt;dbl&gt; | Overtime &lt;dbl&gt; | Other.Salaries &lt;dbl&gt; | Total.Salary &lt;dbl&gt; | Retirement &lt;dbl&gt; | Health.and.Dental &lt;dbl&gt; | Other.Benefits &lt;dbl&gt; | Total.Benefits &lt;dbl&gt; | Total.Compensation &lt;dbl&gt; |\n|---|---|---|---|---|---|---|---|---|---|---|---|---|---|---|---|---|---|---|\n| 4 | 2018 | General Administration &amp; Finance | RET | Retirement Services | 351 | Municipal Exec Assoc, Misc     | Administrative &amp; Mgmt (Unrep) | Chief Investment Officer       | 36698179 | 550065.9 |      0 |      0.0 | 550065.9 | 100845.76 | 17294.69 | 17395.43 | 135535.88 | 685601.7 |\n| 15 | 2018 | General Administration &amp; Finance | RET | Retirement Services | 351 | Municipal Exec Assoc, Misc     | Unassigned                    | Managing Director              | 36818957 | 460025.9 |      0 |      0.0 | 460025.9 |  84338.41 | 23081.84 | 16127.64 | 123547.89 | 583573.8 |\n| 18 | 2018 | General Administration &amp; Finance | RET | Retirement Services | 351 | Municipal Exec Assoc, Misc     | Unassigned                    | Managing Director              | 37305193 | 460025.9 |      0 |      0.0 | 460025.9 |  84338.41 |  8456.90 | 15902.16 | 108697.47 | 568723.3 |\n| 24 | 2018 | Community Health                 | DPH | Public Health       | 351 | Municipal Exec Assoc, Misc     | Administrative &amp; Mgmt (Unrep) | Physician Administrator, DPH   | 36875497 | 426657.9 |      0 |      0.0 | 426657.9 |  79909.54 | 18210.36 | 15484.42 | 113604.32 | 540262.2 |\n| 28 | 2018 | Public Protection                | FIR | Fire Department     | 799 | Firefighters,Local 798, Unit 2 | Fire Services                 | Battalion Chief, Fire Suppress | 36776890 | 207432.6 | 111595 | 208126.1 | 467547.1 |  35524.68 | 19232.67 |  7435.76 |  62193.11 | 529740.2 |\n\n",
            "text/latex": "A data.frame: 5 × 18\n\\begin{tabular}{r|llllllllllllllllll}\n  & Year & Organization.Group & Department.Code & Department & Union.Code & Union & Job.Family & Job & Employee.Identifier & Salaries & Overtime & Other.Salaries & Total.Salary & Retirement & Health.and.Dental & Other.Benefits & Total.Benefits & Total.Compensation\\\\\n  & <int> & <chr> & <chr> & <chr> & <int> & <chr> & <chr> & <chr> & <int> & <dbl> & <dbl> & <dbl> & <dbl> & <dbl> & <dbl> & <dbl> & <dbl> & <dbl>\\\\\n\\hline\n\t4 & 2018 & General Administration \\& Finance & RET & Retirement Services & 351 & Municipal Exec Assoc, Misc     & Administrative \\& Mgmt (Unrep) & Chief Investment Officer       & 36698179 & 550065.9 &      0 &      0.0 & 550065.9 & 100845.76 & 17294.69 & 17395.43 & 135535.88 & 685601.7\\\\\n\t15 & 2018 & General Administration \\& Finance & RET & Retirement Services & 351 & Municipal Exec Assoc, Misc     & Unassigned                    & Managing Director              & 36818957 & 460025.9 &      0 &      0.0 & 460025.9 &  84338.41 & 23081.84 & 16127.64 & 123547.89 & 583573.8\\\\\n\t18 & 2018 & General Administration \\& Finance & RET & Retirement Services & 351 & Municipal Exec Assoc, Misc     & Unassigned                    & Managing Director              & 37305193 & 460025.9 &      0 &      0.0 & 460025.9 &  84338.41 &  8456.90 & 15902.16 & 108697.47 & 568723.3\\\\\n\t24 & 2018 & Community Health                 & DPH & Public Health       & 351 & Municipal Exec Assoc, Misc     & Administrative \\& Mgmt (Unrep) & Physician Administrator, DPH   & 36875497 & 426657.9 &      0 &      0.0 & 426657.9 &  79909.54 & 18210.36 & 15484.42 & 113604.32 & 540262.2\\\\\n\t28 & 2018 & Public Protection                & FIR & Fire Department     & 799 & Firefighters,Local 798, Unit 2 & Fire Services                 & Battalion Chief, Fire Suppress & 36776890 & 207432.6 & 111595 & 208126.1 & 467547.1 &  35524.68 & 19232.67 &  7435.76 &  62193.11 & 529740.2\\\\\n\\end{tabular}\n",
            "text/plain": [
              "   Year Organization.Group               Department.Code Department         \n",
              "4  2018 General Administration & Finance RET             Retirement Services\n",
              "15 2018 General Administration & Finance RET             Retirement Services\n",
              "18 2018 General Administration & Finance RET             Retirement Services\n",
              "24 2018 Community Health                 DPH             Public Health      \n",
              "28 2018 Public Protection                FIR             Fire Department    \n",
              "   Union.Code Union                          Job.Family                   \n",
              "4  351        Municipal Exec Assoc, Misc     Administrative & Mgmt (Unrep)\n",
              "15 351        Municipal Exec Assoc, Misc     Unassigned                   \n",
              "18 351        Municipal Exec Assoc, Misc     Unassigned                   \n",
              "24 351        Municipal Exec Assoc, Misc     Administrative & Mgmt (Unrep)\n",
              "28 799        Firefighters,Local 798, Unit 2 Fire Services                \n",
              "   Job                            Employee.Identifier Salaries Overtime\n",
              "4  Chief Investment Officer       36698179            550065.9      0  \n",
              "15 Managing Director              36818957            460025.9      0  \n",
              "18 Managing Director              37305193            460025.9      0  \n",
              "24 Physician Administrator, DPH   36875497            426657.9      0  \n",
              "28 Battalion Chief, Fire Suppress 36776890            207432.6 111595  \n",
              "   Other.Salaries Total.Salary Retirement Health.and.Dental Other.Benefits\n",
              "4       0.0       550065.9     100845.76  17294.69          17395.43      \n",
              "15      0.0       460025.9      84338.41  23081.84          16127.64      \n",
              "18      0.0       460025.9      84338.41   8456.90          15902.16      \n",
              "24      0.0       426657.9      79909.54  18210.36          15484.42      \n",
              "28 208126.1       467547.1      35524.68  19232.67           7435.76      \n",
              "   Total.Benefits Total.Compensation\n",
              "4  135535.88      685601.7          \n",
              "15 123547.89      583573.8          \n",
              "18 108697.47      568723.3          \n",
              "24 113604.32      540262.2          \n",
              "28  62193.11      529740.2          "
            ]
          },
          "metadata": {}
        }
      ]
    },
    {
      "cell_type": "markdown",
      "source": [
        "> In the same way as above, the rows and columns with the largest value of total compensation in 2017 is extracted. The highet value in total compensation is 668,412.4, which is smaller than in 2019 and 2018. The amount is from the same job category as in 2018.\n",
        "\n",
        "> It can be seen that total compensation increased from 2017 to 2019. In the case of FY2017 and FY2018, it can be inferred that income increase may have occurred due to an increase in the cost of living, considering that there was an increase in all aspects of salaries and benefits in the same job group."
      ],
      "metadata": {
        "id": "OCOZ2pRqmACa"
      }
    },
    {
      "cell_type": "code",
      "source": [
        "head(FEC[which(FEC$Year == 2017),5:22],5)"
      ],
      "metadata": {
        "colab": {
          "base_uri": "https://localhost:8080/",
          "height": 466
        },
        "id": "FULBX1mD7asd",
        "outputId": "b9632203-eb16-40bf-ef11-a611d15d1403"
      },
      "execution_count": null,
      "outputs": [
        {
          "output_type": "display_data",
          "data": {
            "text/html": [
              "<table class=\"dataframe\">\n",
              "<caption>A data.frame: 5 × 18</caption>\n",
              "<thead>\n",
              "\t<tr><th></th><th scope=col>Year</th><th scope=col>Organization.Group</th><th scope=col>Department.Code</th><th scope=col>Department</th><th scope=col>Union.Code</th><th scope=col>Union</th><th scope=col>Job.Family</th><th scope=col>Job</th><th scope=col>Employee.Identifier</th><th scope=col>Salaries</th><th scope=col>Overtime</th><th scope=col>Other.Salaries</th><th scope=col>Total.Salary</th><th scope=col>Retirement</th><th scope=col>Health.and.Dental</th><th scope=col>Other.Benefits</th><th scope=col>Total.Benefits</th><th scope=col>Total.Compensation</th></tr>\n",
              "\t<tr><th></th><th scope=col>&lt;int&gt;</th><th scope=col>&lt;chr&gt;</th><th scope=col>&lt;chr&gt;</th><th scope=col>&lt;chr&gt;</th><th scope=col>&lt;int&gt;</th><th scope=col>&lt;chr&gt;</th><th scope=col>&lt;chr&gt;</th><th scope=col>&lt;chr&gt;</th><th scope=col>&lt;int&gt;</th><th scope=col>&lt;dbl&gt;</th><th scope=col>&lt;dbl&gt;</th><th scope=col>&lt;dbl&gt;</th><th scope=col>&lt;dbl&gt;</th><th scope=col>&lt;dbl&gt;</th><th scope=col>&lt;dbl&gt;</th><th scope=col>&lt;dbl&gt;</th><th scope=col>&lt;dbl&gt;</th><th scope=col>&lt;dbl&gt;</th></tr>\n",
              "</thead>\n",
              "<tbody>\n",
              "\t<tr><th scope=row>6</th><td>2017</td><td>General Administration &amp; Finance</td><td>RET</td><td>RET Retirement System</td><td>351</td><td>Municipal Executive Association - Miscellaneous</td><td>Administrative &amp; Mgmt (Unrep)</td><td><span style=white-space:pre-wrap>Chief Investment Officer    </span></td><td><span style=white-space:pre-wrap>   25997</span></td><td>533985.9</td><td>0</td><td>0</td><td>533985.9</td><td>95600.00</td><td>13765.55</td><td>25060.92</td><td>134426.5</td><td>668412.4</td></tr>\n",
              "\t<tr><th scope=row>7</th><td>2017</td><td>General Administration &amp; Finance</td><td>RET</td><td><span style=white-space:pre-wrap>Retirement Services  </span></td><td>351</td><td><span style=white-space:pre-wrap>Municipal Exec Assoc, Misc                     </span></td><td>Administrative &amp; Mgmt (Unrep)</td><td><span style=white-space:pre-wrap>Chief Investment Officer    </span></td><td>37074780</td><td>532413.1</td><td>0</td><td>0</td><td>532413.1</td><td>95361.27</td><td>16606.61</td><td>17016.45</td><td>128984.3</td><td>661397.5</td></tr>\n",
              "\t<tr><th scope=row>25</th><td>2017</td><td><span style=white-space:pre-wrap>Community Health                </span></td><td>DPH</td><td><span style=white-space:pre-wrap>DPH Public Health    </span></td><td>351</td><td><span style=white-space:pre-wrap>Municipal Exec Assoc-Misc                      </span></td><td>Administrative &amp; Mgmt (Unrep)</td><td>Physician Administrator, DPH</td><td><span style=white-space:pre-wrap>    1110</span></td><td>418016.6</td><td>0</td><td>0</td><td>418016.6</td><td>74197.99</td><td>13185.38</td><td>33391.73</td><td>120775.1</td><td>538791.7</td></tr>\n",
              "\t<tr><th scope=row>26</th><td>2017</td><td><span style=white-space:pre-wrap>Community Health                </span></td><td>DPH</td><td><span style=white-space:pre-wrap>Public Health        </span></td><td>351</td><td><span style=white-space:pre-wrap>Municipal Exec Assoc, Misc                     </span></td><td>Administrative &amp; Mgmt (Unrep)</td><td>Physician Administrator, DPH</td><td>37210666</td><td>425455.8</td><td>0</td><td>0</td><td>425455.8</td><td>75559.62</td><td>17396.53</td><td>19610.29</td><td>112566.4</td><td>538022.2</td></tr>\n",
              "\t<tr><th scope=row>27</th><td>2017</td><td>General Administration &amp; Finance</td><td>RET</td><td>RET Retirement System</td><td>351</td><td><span style=white-space:pre-wrap>Municipal Exec Assoc-Misc                      </span></td><td>Administrative &amp; Mgmt (Unrep)</td><td><span style=white-space:pre-wrap>Managing Director           </span></td><td><span style=white-space:pre-wrap>   45946</span></td><td>420076.6</td><td>0</td><td>0</td><td>420076.6</td><td>75146.60</td><td>13765.55</td><td>23701.87</td><td>112614.0</td><td>532690.6</td></tr>\n",
              "</tbody>\n",
              "</table>\n"
            ],
            "text/markdown": "\nA data.frame: 5 × 18\n\n| <!--/--> | Year &lt;int&gt; | Organization.Group &lt;chr&gt; | Department.Code &lt;chr&gt; | Department &lt;chr&gt; | Union.Code &lt;int&gt; | Union &lt;chr&gt; | Job.Family &lt;chr&gt; | Job &lt;chr&gt; | Employee.Identifier &lt;int&gt; | Salaries &lt;dbl&gt; | Overtime &lt;dbl&gt; | Other.Salaries &lt;dbl&gt; | Total.Salary &lt;dbl&gt; | Retirement &lt;dbl&gt; | Health.and.Dental &lt;dbl&gt; | Other.Benefits &lt;dbl&gt; | Total.Benefits &lt;dbl&gt; | Total.Compensation &lt;dbl&gt; |\n|---|---|---|---|---|---|---|---|---|---|---|---|---|---|---|---|---|---|---|\n| 6 | 2017 | General Administration &amp; Finance | RET | RET Retirement System | 351 | Municipal Executive Association - Miscellaneous | Administrative &amp; Mgmt (Unrep) | Chief Investment Officer     |    25997 | 533985.9 | 0 | 0 | 533985.9 | 95600.00 | 13765.55 | 25060.92 | 134426.5 | 668412.4 |\n| 7 | 2017 | General Administration &amp; Finance | RET | Retirement Services   | 351 | Municipal Exec Assoc, Misc                      | Administrative &amp; Mgmt (Unrep) | Chief Investment Officer     | 37074780 | 532413.1 | 0 | 0 | 532413.1 | 95361.27 | 16606.61 | 17016.45 | 128984.3 | 661397.5 |\n| 25 | 2017 | Community Health                 | DPH | DPH Public Health     | 351 | Municipal Exec Assoc-Misc                       | Administrative &amp; Mgmt (Unrep) | Physician Administrator, DPH |     1110 | 418016.6 | 0 | 0 | 418016.6 | 74197.99 | 13185.38 | 33391.73 | 120775.1 | 538791.7 |\n| 26 | 2017 | Community Health                 | DPH | Public Health         | 351 | Municipal Exec Assoc, Misc                      | Administrative &amp; Mgmt (Unrep) | Physician Administrator, DPH | 37210666 | 425455.8 | 0 | 0 | 425455.8 | 75559.62 | 17396.53 | 19610.29 | 112566.4 | 538022.2 |\n| 27 | 2017 | General Administration &amp; Finance | RET | RET Retirement System | 351 | Municipal Exec Assoc-Misc                       | Administrative &amp; Mgmt (Unrep) | Managing Director            |    45946 | 420076.6 | 0 | 0 | 420076.6 | 75146.60 | 13765.55 | 23701.87 | 112614.0 | 532690.6 |\n\n",
            "text/latex": "A data.frame: 5 × 18\n\\begin{tabular}{r|llllllllllllllllll}\n  & Year & Organization.Group & Department.Code & Department & Union.Code & Union & Job.Family & Job & Employee.Identifier & Salaries & Overtime & Other.Salaries & Total.Salary & Retirement & Health.and.Dental & Other.Benefits & Total.Benefits & Total.Compensation\\\\\n  & <int> & <chr> & <chr> & <chr> & <int> & <chr> & <chr> & <chr> & <int> & <dbl> & <dbl> & <dbl> & <dbl> & <dbl> & <dbl> & <dbl> & <dbl> & <dbl>\\\\\n\\hline\n\t6 & 2017 & General Administration \\& Finance & RET & RET Retirement System & 351 & Municipal Executive Association - Miscellaneous & Administrative \\& Mgmt (Unrep) & Chief Investment Officer     &    25997 & 533985.9 & 0 & 0 & 533985.9 & 95600.00 & 13765.55 & 25060.92 & 134426.5 & 668412.4\\\\\n\t7 & 2017 & General Administration \\& Finance & RET & Retirement Services   & 351 & Municipal Exec Assoc, Misc                      & Administrative \\& Mgmt (Unrep) & Chief Investment Officer     & 37074780 & 532413.1 & 0 & 0 & 532413.1 & 95361.27 & 16606.61 & 17016.45 & 128984.3 & 661397.5\\\\\n\t25 & 2017 & Community Health                 & DPH & DPH Public Health     & 351 & Municipal Exec Assoc-Misc                       & Administrative \\& Mgmt (Unrep) & Physician Administrator, DPH &     1110 & 418016.6 & 0 & 0 & 418016.6 & 74197.99 & 13185.38 & 33391.73 & 120775.1 & 538791.7\\\\\n\t26 & 2017 & Community Health                 & DPH & Public Health         & 351 & Municipal Exec Assoc, Misc                      & Administrative \\& Mgmt (Unrep) & Physician Administrator, DPH & 37210666 & 425455.8 & 0 & 0 & 425455.8 & 75559.62 & 17396.53 & 19610.29 & 112566.4 & 538022.2\\\\\n\t27 & 2017 & General Administration \\& Finance & RET & RET Retirement System & 351 & Municipal Exec Assoc-Misc                       & Administrative \\& Mgmt (Unrep) & Managing Director            &    45946 & 420076.6 & 0 & 0 & 420076.6 & 75146.60 & 13765.55 & 23701.87 & 112614.0 & 532690.6\\\\\n\\end{tabular}\n",
            "text/plain": [
              "   Year Organization.Group               Department.Code Department           \n",
              "6  2017 General Administration & Finance RET             RET Retirement System\n",
              "7  2017 General Administration & Finance RET             Retirement Services  \n",
              "25 2017 Community Health                 DPH             DPH Public Health    \n",
              "26 2017 Community Health                 DPH             Public Health        \n",
              "27 2017 General Administration & Finance RET             RET Retirement System\n",
              "   Union.Code Union                                          \n",
              "6  351        Municipal Executive Association - Miscellaneous\n",
              "7  351        Municipal Exec Assoc, Misc                     \n",
              "25 351        Municipal Exec Assoc-Misc                      \n",
              "26 351        Municipal Exec Assoc, Misc                     \n",
              "27 351        Municipal Exec Assoc-Misc                      \n",
              "   Job.Family                    Job                         \n",
              "6  Administrative & Mgmt (Unrep) Chief Investment Officer    \n",
              "7  Administrative & Mgmt (Unrep) Chief Investment Officer    \n",
              "25 Administrative & Mgmt (Unrep) Physician Administrator, DPH\n",
              "26 Administrative & Mgmt (Unrep) Physician Administrator, DPH\n",
              "27 Administrative & Mgmt (Unrep) Managing Director           \n",
              "   Employee.Identifier Salaries Overtime Other.Salaries Total.Salary Retirement\n",
              "6     25997            533985.9 0        0              533985.9     95600.00  \n",
              "7  37074780            532413.1 0        0              532413.1     95361.27  \n",
              "25     1110            418016.6 0        0              418016.6     74197.99  \n",
              "26 37210666            425455.8 0        0              425455.8     75559.62  \n",
              "27    45946            420076.6 0        0              420076.6     75146.60  \n",
              "   Health.and.Dental Other.Benefits Total.Benefits Total.Compensation\n",
              "6  13765.55          25060.92       134426.5       668412.4          \n",
              "7  16606.61          17016.45       128984.3       661397.5          \n",
              "25 13185.38          33391.73       120775.1       538791.7          \n",
              "26 17396.53          19610.29       112566.4       538022.2          \n",
              "27 13765.55          23701.87       112614.0       532690.6          "
            ]
          },
          "metadata": {}
        }
      ]
    },
    {
      "cell_type": "markdown",
      "source": [
        "> I would like to extract the employees who received the highest benefits in terms of city-paid premiums to health and dental insurance plans and the contributions to employee retirement plans, which are essential benefits for living.\n",
        "\n",
        "> Sort the data frame in descending order based on the retirement column using the \"arrange()\" function with \"desc()\". By using \"head()\" function, the lartest value of the retirement is extracted. \n",
        "\n",
        "> It is shown that the job with the highest value of retirement is Police Officer 3, which received 121,952.5 and it is in 2019, the same year as the year with the largest total compensation."
      ],
      "metadata": {
        "id": "vr3ESXk5u2pR"
      }
    },
    {
      "cell_type": "code",
      "source": [
        "Ret <- arrange(FEC[,5:22],desc(Retirement))\n",
        "Ret_h <- head(Ret,5)\n",
        "Ret_h"
      ],
      "metadata": {
        "colab": {
          "base_uri": "https://localhost:8080/",
          "height": 448
        },
        "id": "3yMtvIc63a0_",
        "outputId": "dcf83664-157d-4eab-ab45-50e712b5d6b0"
      },
      "execution_count": null,
      "outputs": [
        {
          "output_type": "display_data",
          "data": {
            "text/html": [
              "<table class=\"dataframe\">\n",
              "<caption>A data.frame: 5 × 18</caption>\n",
              "<thead>\n",
              "\t<tr><th></th><th scope=col>Year</th><th scope=col>Organization.Group</th><th scope=col>Department.Code</th><th scope=col>Department</th><th scope=col>Union.Code</th><th scope=col>Union</th><th scope=col>Job.Family</th><th scope=col>Job</th><th scope=col>Employee.Identifier</th><th scope=col>Salaries</th><th scope=col>Overtime</th><th scope=col>Other.Salaries</th><th scope=col>Total.Salary</th><th scope=col>Retirement</th><th scope=col>Health.and.Dental</th><th scope=col>Other.Benefits</th><th scope=col>Total.Benefits</th><th scope=col>Total.Compensation</th></tr>\n",
              "\t<tr><th></th><th scope=col>&lt;int&gt;</th><th scope=col>&lt;chr&gt;</th><th scope=col>&lt;chr&gt;</th><th scope=col>&lt;chr&gt;</th><th scope=col>&lt;int&gt;</th><th scope=col>&lt;chr&gt;</th><th scope=col>&lt;chr&gt;</th><th scope=col>&lt;chr&gt;</th><th scope=col>&lt;int&gt;</th><th scope=col>&lt;dbl&gt;</th><th scope=col>&lt;dbl&gt;</th><th scope=col>&lt;dbl&gt;</th><th scope=col>&lt;dbl&gt;</th><th scope=col>&lt;dbl&gt;</th><th scope=col>&lt;dbl&gt;</th><th scope=col>&lt;dbl&gt;</th><th scope=col>&lt;dbl&gt;</th><th scope=col>&lt;dbl&gt;</th></tr>\n",
              "</thead>\n",
              "<tbody>\n",
              "\t<tr><th scope=row>1</th><td>2019</td><td>Public Protection               </td><td>POL</td><td>Police               </td><td>911</td><td>POA                                            </td><td>Police Services              </td><td>Police Officer 3        </td><td>37499756</td><td>651936.7</td><td>3747</td><td>3183.86</td><td>658867.6</td><td>121952.5</td><td>15525.74</td><td>11279.42</td><td>148757.7</td><td>807625.2</td></tr>\n",
              "\t<tr><th scope=row>2</th><td>2020</td><td>General Administration &amp; Finance</td><td>RET</td><td><span style=white-space:pre-wrap>Retirement Services  </span></td><td>351</td><td><span style=white-space:pre-wrap>Municipal Exec Assoc, Misc                     </span></td><td>Administrative &amp; Mgmt (Unrep)</td><td>Chief Investment Officer</td><td>42466186</td><td>584297.6</td><td><span style=white-space:pre-wrap>   0</span></td><td><span style=white-space:pre-wrap>   0.00</span></td><td>584297.6</td><td>114934.2</td><td>18155.15</td><td>18555.87</td><td>151645.2</td><td>735942.8</td></tr>\n",
              "\t<tr><th scope=row>3</th><td>2019</td><td>General Administration &amp; Finance</td><td>RET</td><td><span style=white-space:pre-wrap>Retirement Services  </span></td><td>351</td><td><span style=white-space:pre-wrap>Municipal Exec Assoc, Misc                     </span></td><td>Administrative &amp; Mgmt (Unrep)</td><td>Chief Investment Officer</td><td>37489389</td><td>565707.0</td><td><span style=white-space:pre-wrap>   0</span></td><td><span style=white-space:pre-wrap>   0.00</span></td><td>565707.0</td><td>105697.1</td><td>17788.88</td><td>17937.01</td><td>141423.0</td><td>707130.0</td></tr>\n",
              "\t<tr><th scope=row>4</th><td>2016</td><td>General Administration &amp; Finance</td><td>RET</td><td>RET Retirement System</td><td>351</td><td>Municipal Executive Association - Miscellaneous</td><td>Administrative &amp; Mgmt (Unrep)</td><td>Chief Investment Officer</td><td><span style=white-space:pre-wrap>   25997</span></td><td>515101.8</td><td><span style=white-space:pre-wrap>   0</span></td><td><span style=white-space:pre-wrap>   0.00</span></td><td>515101.8</td><td>101306.0</td><td>13067.98</td><td>24021.54</td><td>138395.5</td><td>653497.3</td></tr>\n",
              "\t<tr><th scope=row>5</th><td>2018</td><td>General Administration &amp; Finance</td><td>RET</td><td><span style=white-space:pre-wrap>Retirement Services  </span></td><td>351</td><td><span style=white-space:pre-wrap>Municipal Exec Assoc, Misc                     </span></td><td>Administrative &amp; Mgmt (Unrep)</td><td>Chief Investment Officer</td><td>36698179</td><td>550065.9</td><td><span style=white-space:pre-wrap>   0</span></td><td><span style=white-space:pre-wrap>   0.00</span></td><td>550065.9</td><td>100845.8</td><td>17294.69</td><td>17395.43</td><td>135535.9</td><td>685601.7</td></tr>\n",
              "</tbody>\n",
              "</table>\n"
            ],
            "text/markdown": "\nA data.frame: 5 × 18\n\n| <!--/--> | Year &lt;int&gt; | Organization.Group &lt;chr&gt; | Department.Code &lt;chr&gt; | Department &lt;chr&gt; | Union.Code &lt;int&gt; | Union &lt;chr&gt; | Job.Family &lt;chr&gt; | Job &lt;chr&gt; | Employee.Identifier &lt;int&gt; | Salaries &lt;dbl&gt; | Overtime &lt;dbl&gt; | Other.Salaries &lt;dbl&gt; | Total.Salary &lt;dbl&gt; | Retirement &lt;dbl&gt; | Health.and.Dental &lt;dbl&gt; | Other.Benefits &lt;dbl&gt; | Total.Benefits &lt;dbl&gt; | Total.Compensation &lt;dbl&gt; |\n|---|---|---|---|---|---|---|---|---|---|---|---|---|---|---|---|---|---|---|\n| 1 | 2019 | Public Protection                | POL | Police                | 911 | POA                                             | Police Services               | Police Officer 3         | 37499756 | 651936.7 | 3747 | 3183.86 | 658867.6 | 121952.5 | 15525.74 | 11279.42 | 148757.7 | 807625.2 |\n| 2 | 2020 | General Administration &amp; Finance | RET | Retirement Services   | 351 | Municipal Exec Assoc, Misc                      | Administrative &amp; Mgmt (Unrep) | Chief Investment Officer | 42466186 | 584297.6 |    0 |    0.00 | 584297.6 | 114934.2 | 18155.15 | 18555.87 | 151645.2 | 735942.8 |\n| 3 | 2019 | General Administration &amp; Finance | RET | Retirement Services   | 351 | Municipal Exec Assoc, Misc                      | Administrative &amp; Mgmt (Unrep) | Chief Investment Officer | 37489389 | 565707.0 |    0 |    0.00 | 565707.0 | 105697.1 | 17788.88 | 17937.01 | 141423.0 | 707130.0 |\n| 4 | 2016 | General Administration &amp; Finance | RET | RET Retirement System | 351 | Municipal Executive Association - Miscellaneous | Administrative &amp; Mgmt (Unrep) | Chief Investment Officer |    25997 | 515101.8 |    0 |    0.00 | 515101.8 | 101306.0 | 13067.98 | 24021.54 | 138395.5 | 653497.3 |\n| 5 | 2018 | General Administration &amp; Finance | RET | Retirement Services   | 351 | Municipal Exec Assoc, Misc                      | Administrative &amp; Mgmt (Unrep) | Chief Investment Officer | 36698179 | 550065.9 |    0 |    0.00 | 550065.9 | 100845.8 | 17294.69 | 17395.43 | 135535.9 | 685601.7 |\n\n",
            "text/latex": "A data.frame: 5 × 18\n\\begin{tabular}{r|llllllllllllllllll}\n  & Year & Organization.Group & Department.Code & Department & Union.Code & Union & Job.Family & Job & Employee.Identifier & Salaries & Overtime & Other.Salaries & Total.Salary & Retirement & Health.and.Dental & Other.Benefits & Total.Benefits & Total.Compensation\\\\\n  & <int> & <chr> & <chr> & <chr> & <int> & <chr> & <chr> & <chr> & <int> & <dbl> & <dbl> & <dbl> & <dbl> & <dbl> & <dbl> & <dbl> & <dbl> & <dbl>\\\\\n\\hline\n\t1 & 2019 & Public Protection                & POL & Police                & 911 & POA                                             & Police Services               & Police Officer 3         & 37499756 & 651936.7 & 3747 & 3183.86 & 658867.6 & 121952.5 & 15525.74 & 11279.42 & 148757.7 & 807625.2\\\\\n\t2 & 2020 & General Administration \\& Finance & RET & Retirement Services   & 351 & Municipal Exec Assoc, Misc                      & Administrative \\& Mgmt (Unrep) & Chief Investment Officer & 42466186 & 584297.6 &    0 &    0.00 & 584297.6 & 114934.2 & 18155.15 & 18555.87 & 151645.2 & 735942.8\\\\\n\t3 & 2019 & General Administration \\& Finance & RET & Retirement Services   & 351 & Municipal Exec Assoc, Misc                      & Administrative \\& Mgmt (Unrep) & Chief Investment Officer & 37489389 & 565707.0 &    0 &    0.00 & 565707.0 & 105697.1 & 17788.88 & 17937.01 & 141423.0 & 707130.0\\\\\n\t4 & 2016 & General Administration \\& Finance & RET & RET Retirement System & 351 & Municipal Executive Association - Miscellaneous & Administrative \\& Mgmt (Unrep) & Chief Investment Officer &    25997 & 515101.8 &    0 &    0.00 & 515101.8 & 101306.0 & 13067.98 & 24021.54 & 138395.5 & 653497.3\\\\\n\t5 & 2018 & General Administration \\& Finance & RET & Retirement Services   & 351 & Municipal Exec Assoc, Misc                      & Administrative \\& Mgmt (Unrep) & Chief Investment Officer & 36698179 & 550065.9 &    0 &    0.00 & 550065.9 & 100845.8 & 17294.69 & 17395.43 & 135535.9 & 685601.7\\\\\n\\end{tabular}\n",
            "text/plain": [
              "  Year Organization.Group               Department.Code Department           \n",
              "1 2019 Public Protection                POL             Police               \n",
              "2 2020 General Administration & Finance RET             Retirement Services  \n",
              "3 2019 General Administration & Finance RET             Retirement Services  \n",
              "4 2016 General Administration & Finance RET             RET Retirement System\n",
              "5 2018 General Administration & Finance RET             Retirement Services  \n",
              "  Union.Code Union                                          \n",
              "1 911        POA                                            \n",
              "2 351        Municipal Exec Assoc, Misc                     \n",
              "3 351        Municipal Exec Assoc, Misc                     \n",
              "4 351        Municipal Executive Association - Miscellaneous\n",
              "5 351        Municipal Exec Assoc, Misc                     \n",
              "  Job.Family                    Job                      Employee.Identifier\n",
              "1 Police Services               Police Officer 3         37499756           \n",
              "2 Administrative & Mgmt (Unrep) Chief Investment Officer 42466186           \n",
              "3 Administrative & Mgmt (Unrep) Chief Investment Officer 37489389           \n",
              "4 Administrative & Mgmt (Unrep) Chief Investment Officer    25997           \n",
              "5 Administrative & Mgmt (Unrep) Chief Investment Officer 36698179           \n",
              "  Salaries Overtime Other.Salaries Total.Salary Retirement Health.and.Dental\n",
              "1 651936.7 3747     3183.86        658867.6     121952.5   15525.74         \n",
              "2 584297.6    0        0.00        584297.6     114934.2   18155.15         \n",
              "3 565707.0    0        0.00        565707.0     105697.1   17788.88         \n",
              "4 515101.8    0        0.00        515101.8     101306.0   13067.98         \n",
              "5 550065.9    0        0.00        550065.9     100845.8   17294.69         \n",
              "  Other.Benefits Total.Benefits Total.Compensation\n",
              "1 11279.42       148757.7       807625.2          \n",
              "2 18555.87       151645.2       735942.8          \n",
              "3 17937.01       141423.0       707130.0          \n",
              "4 24021.54       138395.5       653497.3          \n",
              "5 17395.43       135535.9       685601.7          "
            ]
          },
          "metadata": {}
        }
      ]
    },
    {
      "cell_type": "markdown",
      "source": [
        "> After sorting the data frame called \"FEC\" in descending order by the column of health and dental in the same way as above, the value with the highest number on the column is extracted. The value is 52,146.51 in 2019, which comes from a Manager VI.\n",
        "\n",
        "> Compare this with the Police Officer 3 who has the largest value of total compensation and retirement in 2019. The manager received a lot of benefits on helath and dental, but their basic salary is lower than that of the police and there was no overtime. As a result, it appears that the manager's total compensation is lower than that of the police. \n",
        "\n",
        "> Based on this, it can be seen that the benefits that are important to each job are different, and factors affecting the total compensation are vary."
      ],
      "metadata": {
        "id": "Pz1aRNbjsbj8"
      }
    },
    {
      "cell_type": "code",
      "source": [
        "HD <- arrange(FEC[5:22],desc(Health.and.Dental))\n",
        "HD_h <- head(HD,5)\n",
        "HD_h"
      ],
      "metadata": {
        "colab": {
          "base_uri": "https://localhost:8080/",
          "height": 501
        },
        "id": "u8tn6cl23cFg",
        "outputId": "5b99af94-d4f4-4f59-8e8c-11f938265ef5"
      },
      "execution_count": null,
      "outputs": [
        {
          "output_type": "display_data",
          "data": {
            "text/html": [
              "<table class=\"dataframe\">\n",
              "<caption>A data.frame: 5 × 18</caption>\n",
              "<thead>\n",
              "\t<tr><th></th><th scope=col>Year</th><th scope=col>Organization.Group</th><th scope=col>Department.Code</th><th scope=col>Department</th><th scope=col>Union.Code</th><th scope=col>Union</th><th scope=col>Job.Family</th><th scope=col>Job</th><th scope=col>Employee.Identifier</th><th scope=col>Salaries</th><th scope=col>Overtime</th><th scope=col>Other.Salaries</th><th scope=col>Total.Salary</th><th scope=col>Retirement</th><th scope=col>Health.and.Dental</th><th scope=col>Other.Benefits</th><th scope=col>Total.Benefits</th><th scope=col>Total.Compensation</th></tr>\n",
              "\t<tr><th></th><th scope=col>&lt;int&gt;</th><th scope=col>&lt;chr&gt;</th><th scope=col>&lt;chr&gt;</th><th scope=col>&lt;chr&gt;</th><th scope=col>&lt;int&gt;</th><th scope=col>&lt;chr&gt;</th><th scope=col>&lt;chr&gt;</th><th scope=col>&lt;chr&gt;</th><th scope=col>&lt;int&gt;</th><th scope=col>&lt;dbl&gt;</th><th scope=col>&lt;dbl&gt;</th><th scope=col>&lt;dbl&gt;</th><th scope=col>&lt;dbl&gt;</th><th scope=col>&lt;dbl&gt;</th><th scope=col>&lt;dbl&gt;</th><th scope=col>&lt;dbl&gt;</th><th scope=col>&lt;dbl&gt;</th><th scope=col>&lt;dbl&gt;</th></tr>\n",
              "</thead>\n",
              "<tbody>\n",
              "\t<tr><th scope=row>1</th><td>2019</td><td>Public Works, Transportation &amp; Commerce </td><td>PUC</td><td>Public Utilities Commission</td><td>351</td><td>Municipal Exec Assoc, Misc</td><td>Management</td><td><span style=white-space:pre-wrap>Manager VI         </span></td><td>39115976</td><td>176673.70</td><td>0</td><td> 0</td><td>176673.70</td><td>32906.51</td><td>52146.51</td><td>15573.06</td><td>100626.08</td><td>277299.8</td></tr>\n",
              "\t<tr><th scope=row>2</th><td>2020</td><td>Public Works, Transportation &amp; Commerce </td><td>PUC</td><td>Public Utilities Commission</td><td>351</td><td>Municipal Exec Assoc, Misc</td><td>Management</td><td><span style=white-space:pre-wrap>Manager VI         </span></td><td>44086226</td><td>200745.02</td><td>0</td><td> 0</td><td>200745.02</td><td>40917.79</td><td>49000.22</td><td>12676.46</td><td>102594.47</td><td>303339.5</td></tr>\n",
              "\t<tr><th scope=row>3</th><td>2018</td><td>Public Protection                       </td><td>CRT</td><td>Trial Courts               </td><td>356</td><td>Court-MEA                 </td><td>Untitled  </td><td>Court Supervisor II</td><td>37140345</td><td> 70466.32</td><td>0</td><td> 0</td><td> 70466.32</td><td>13564.82</td><td>44921.80</td><td> 6596.75</td><td> 65083.37</td><td>135549.7</td></tr>\n",
              "\t<tr><th scope=row>4</th><td>2020</td><td>Human Welfare &amp; Neighborhood Development</td><td>CHF</td><td><span style=white-space:pre-wrap>Children Youth &amp; Families  </span></td><td>351</td><td>Municipal Exec Assoc, Misc</td><td>Management</td><td><span style=white-space:pre-wrap>Manager III        </span></td><td>42476363</td><td>159102.11</td><td>0</td><td> 0</td><td>159102.11</td><td>32428.06</td><td>43446.48</td><td>13713.49</td><td> 89588.03</td><td>248690.1</td></tr>\n",
              "\t<tr><th scope=row>5</th><td>2019</td><td>Public Protection                       </td><td>CRT</td><td>Trial Courts               </td><td>356</td><td>Court-MEA                 </td><td>Untitled  </td><td>Court Supervisor II</td><td>38776095</td><td> 99828.94</td><td>0</td><td>72</td><td> 99900.94</td><td>19096.27</td><td>42616.85</td><td> 9407.39</td><td> 71120.51</td><td>171021.5</td></tr>\n",
              "</tbody>\n",
              "</table>\n"
            ],
            "text/markdown": "\nA data.frame: 5 × 18\n\n| <!--/--> | Year &lt;int&gt; | Organization.Group &lt;chr&gt; | Department.Code &lt;chr&gt; | Department &lt;chr&gt; | Union.Code &lt;int&gt; | Union &lt;chr&gt; | Job.Family &lt;chr&gt; | Job &lt;chr&gt; | Employee.Identifier &lt;int&gt; | Salaries &lt;dbl&gt; | Overtime &lt;dbl&gt; | Other.Salaries &lt;dbl&gt; | Total.Salary &lt;dbl&gt; | Retirement &lt;dbl&gt; | Health.and.Dental &lt;dbl&gt; | Other.Benefits &lt;dbl&gt; | Total.Benefits &lt;dbl&gt; | Total.Compensation &lt;dbl&gt; |\n|---|---|---|---|---|---|---|---|---|---|---|---|---|---|---|---|---|---|---|\n| 1 | 2019 | Public Works, Transportation &amp; Commerce  | PUC | Public Utilities Commission | 351 | Municipal Exec Assoc, Misc | Management | Manager VI          | 39115976 | 176673.70 | 0 |  0 | 176673.70 | 32906.51 | 52146.51 | 15573.06 | 100626.08 | 277299.8 |\n| 2 | 2020 | Public Works, Transportation &amp; Commerce  | PUC | Public Utilities Commission | 351 | Municipal Exec Assoc, Misc | Management | Manager VI          | 44086226 | 200745.02 | 0 |  0 | 200745.02 | 40917.79 | 49000.22 | 12676.46 | 102594.47 | 303339.5 |\n| 3 | 2018 | Public Protection                        | CRT | Trial Courts                | 356 | Court-MEA                  | Untitled   | Court Supervisor II | 37140345 |  70466.32 | 0 |  0 |  70466.32 | 13564.82 | 44921.80 |  6596.75 |  65083.37 | 135549.7 |\n| 4 | 2020 | Human Welfare &amp; Neighborhood Development | CHF | Children Youth &amp; Families   | 351 | Municipal Exec Assoc, Misc | Management | Manager III         | 42476363 | 159102.11 | 0 |  0 | 159102.11 | 32428.06 | 43446.48 | 13713.49 |  89588.03 | 248690.1 |\n| 5 | 2019 | Public Protection                        | CRT | Trial Courts                | 356 | Court-MEA                  | Untitled   | Court Supervisor II | 38776095 |  99828.94 | 0 | 72 |  99900.94 | 19096.27 | 42616.85 |  9407.39 |  71120.51 | 171021.5 |\n\n",
            "text/latex": "A data.frame: 5 × 18\n\\begin{tabular}{r|llllllllllllllllll}\n  & Year & Organization.Group & Department.Code & Department & Union.Code & Union & Job.Family & Job & Employee.Identifier & Salaries & Overtime & Other.Salaries & Total.Salary & Retirement & Health.and.Dental & Other.Benefits & Total.Benefits & Total.Compensation\\\\\n  & <int> & <chr> & <chr> & <chr> & <int> & <chr> & <chr> & <chr> & <int> & <dbl> & <dbl> & <dbl> & <dbl> & <dbl> & <dbl> & <dbl> & <dbl> & <dbl>\\\\\n\\hline\n\t1 & 2019 & Public Works, Transportation \\& Commerce  & PUC & Public Utilities Commission & 351 & Municipal Exec Assoc, Misc & Management & Manager VI          & 39115976 & 176673.70 & 0 &  0 & 176673.70 & 32906.51 & 52146.51 & 15573.06 & 100626.08 & 277299.8\\\\\n\t2 & 2020 & Public Works, Transportation \\& Commerce  & PUC & Public Utilities Commission & 351 & Municipal Exec Assoc, Misc & Management & Manager VI          & 44086226 & 200745.02 & 0 &  0 & 200745.02 & 40917.79 & 49000.22 & 12676.46 & 102594.47 & 303339.5\\\\\n\t3 & 2018 & Public Protection                        & CRT & Trial Courts                & 356 & Court-MEA                  & Untitled   & Court Supervisor II & 37140345 &  70466.32 & 0 &  0 &  70466.32 & 13564.82 & 44921.80 &  6596.75 &  65083.37 & 135549.7\\\\\n\t4 & 2020 & Human Welfare \\& Neighborhood Development & CHF & Children Youth \\& Families   & 351 & Municipal Exec Assoc, Misc & Management & Manager III         & 42476363 & 159102.11 & 0 &  0 & 159102.11 & 32428.06 & 43446.48 & 13713.49 &  89588.03 & 248690.1\\\\\n\t5 & 2019 & Public Protection                        & CRT & Trial Courts                & 356 & Court-MEA                  & Untitled   & Court Supervisor II & 38776095 &  99828.94 & 0 & 72 &  99900.94 & 19096.27 & 42616.85 &  9407.39 &  71120.51 & 171021.5\\\\\n\\end{tabular}\n",
            "text/plain": [
              "  Year Organization.Group                       Department.Code\n",
              "1 2019 Public Works, Transportation & Commerce  PUC            \n",
              "2 2020 Public Works, Transportation & Commerce  PUC            \n",
              "3 2018 Public Protection                        CRT            \n",
              "4 2020 Human Welfare & Neighborhood Development CHF            \n",
              "5 2019 Public Protection                        CRT            \n",
              "  Department                  Union.Code Union                      Job.Family\n",
              "1 Public Utilities Commission 351        Municipal Exec Assoc, Misc Management\n",
              "2 Public Utilities Commission 351        Municipal Exec Assoc, Misc Management\n",
              "3 Trial Courts                356        Court-MEA                  Untitled  \n",
              "4 Children Youth & Families   351        Municipal Exec Assoc, Misc Management\n",
              "5 Trial Courts                356        Court-MEA                  Untitled  \n",
              "  Job                 Employee.Identifier Salaries  Overtime Other.Salaries\n",
              "1 Manager VI          39115976            176673.70 0         0            \n",
              "2 Manager VI          44086226            200745.02 0         0            \n",
              "3 Court Supervisor II 37140345             70466.32 0         0            \n",
              "4 Manager III         42476363            159102.11 0         0            \n",
              "5 Court Supervisor II 38776095             99828.94 0        72            \n",
              "  Total.Salary Retirement Health.and.Dental Other.Benefits Total.Benefits\n",
              "1 176673.70    32906.51   52146.51          15573.06       100626.08     \n",
              "2 200745.02    40917.79   49000.22          12676.46       102594.47     \n",
              "3  70466.32    13564.82   44921.80           6596.75        65083.37     \n",
              "4 159102.11    32428.06   43446.48          13713.49        89588.03     \n",
              "5  99900.94    19096.27   42616.85           9407.39        71120.51     \n",
              "  Total.Compensation\n",
              "1 277299.8          \n",
              "2 303339.5          \n",
              "3 135549.7          \n",
              "4 248690.1          \n",
              "5 171021.5          "
            ]
          },
          "metadata": {}
        }
      ]
    },
    {
      "cell_type": "markdown",
      "source": [
        "## **4) Single Vector**"
      ],
      "metadata": {
        "id": "3RdWQUXCCfTD"
      }
    },
    {
      "cell_type": "markdown",
      "source": [
        "\n",
        "\n",
        "> List the jobs based on health insurance premiums related to medical insurance, which is one of the important benefits in life.\n",
        "\n",
        "\n",
        "> Use the \"which()\" function to extract the data corresponding to the year of 2020. Use the \"filter()\" function to exclude missing values from the column of health and dental and sort them with the \"arrange()\" function. Beacuse the defaults of the \"arrange()\" function is in ascending order, use \"desc()\" to sort in descending order based on the amount of health and dental. By using the \"head()\" function, the 5 rows which have the largest values in the column of health and dental are selected and the data frame is given a new name \"JOB\"."
      ],
      "metadata": {
        "id": "QzNb4K2-cka5"
      }
    },
    {
      "cell_type": "code",
      "source": [
        "JOB <- head(arrange(FEC[which(FEC$Year == 2020),5:22] %>% filter(is.na(Health.and.Dental) == FALSE), desc(Health.and.Dental)),5)\n",
        "JOB"
      ],
      "metadata": {
        "colab": {
          "base_uri": "https://localhost:8080/",
          "height": 501
        },
        "id": "LtDYdYgy8CiY",
        "outputId": "e9c1218e-bc36-4d20-d187-81af45bf0b01"
      },
      "execution_count": null,
      "outputs": [
        {
          "output_type": "display_data",
          "data": {
            "text/html": [
              "<table class=\"dataframe\">\n",
              "<caption>A data.frame: 5 × 18</caption>\n",
              "<thead>\n",
              "\t<tr><th></th><th scope=col>Year</th><th scope=col>Organization.Group</th><th scope=col>Department.Code</th><th scope=col>Department</th><th scope=col>Union.Code</th><th scope=col>Union</th><th scope=col>Job.Family</th><th scope=col>Job</th><th scope=col>Employee.Identifier</th><th scope=col>Salaries</th><th scope=col>Overtime</th><th scope=col>Other.Salaries</th><th scope=col>Total.Salary</th><th scope=col>Retirement</th><th scope=col>Health.and.Dental</th><th scope=col>Other.Benefits</th><th scope=col>Total.Benefits</th><th scope=col>Total.Compensation</th></tr>\n",
              "\t<tr><th></th><th scope=col>&lt;int&gt;</th><th scope=col>&lt;chr&gt;</th><th scope=col>&lt;chr&gt;</th><th scope=col>&lt;chr&gt;</th><th scope=col>&lt;int&gt;</th><th scope=col>&lt;chr&gt;</th><th scope=col>&lt;chr&gt;</th><th scope=col>&lt;chr&gt;</th><th scope=col>&lt;int&gt;</th><th scope=col>&lt;dbl&gt;</th><th scope=col>&lt;dbl&gt;</th><th scope=col>&lt;dbl&gt;</th><th scope=col>&lt;dbl&gt;</th><th scope=col>&lt;dbl&gt;</th><th scope=col>&lt;dbl&gt;</th><th scope=col>&lt;dbl&gt;</th><th scope=col>&lt;dbl&gt;</th><th scope=col>&lt;dbl&gt;</th></tr>\n",
              "</thead>\n",
              "<tbody>\n",
              "\t<tr><th scope=row>1</th><td>2020</td><td>Public Works, Transportation &amp; Commerce </td><td>PUC</td><td>Public Utilities Commission </td><td>351</td><td>Municipal Exec Assoc, Misc</td><td>Management</td><td><span style=white-space:pre-wrap>Manager VI                </span></td><td>44086226</td><td>200745.0</td><td>0</td><td><span style=white-space:pre-wrap>   0.00</span></td><td>200745.0</td><td>40917.79</td><td>49000.22</td><td>12676.46</td><td>102594.47</td><td>303339.5</td></tr>\n",
              "\t<tr><th scope=row>2</th><td>2020</td><td>Human Welfare &amp; Neighborhood Development</td><td>CHF</td><td><span style=white-space:pre-wrap>Children Youth &amp; Families   </span></td><td>351</td><td>Municipal Exec Assoc, Misc</td><td>Management</td><td><span style=white-space:pre-wrap>Manager III               </span></td><td>42476363</td><td>159102.1</td><td>0</td><td><span style=white-space:pre-wrap>   0.00</span></td><td>159102.1</td><td>32428.06</td><td>43446.48</td><td>13713.49</td><td> 89588.03</td><td>248690.1</td></tr>\n",
              "\t<tr><th scope=row>3</th><td>2020</td><td>Public Protection                       </td><td>CRT</td><td>Trial Courts                </td><td>356</td><td>Court-MEA                 </td><td>Untitled  </td><td>Court Computer Sys Manager</td><td>43416109</td><td>139009.3</td><td>0</td><td>9133.04</td><td>144793.3</td><td>29015.67</td><td>35633.00</td><td>12701.09</td><td> 77349.76</td><td>222143.1</td></tr>\n",
              "\t<tr><th scope=row>4</th><td>2020</td><td>Public Protection                       </td><td>CRT</td><td>Trial Courts                </td><td>356</td><td>Court-MEA                 </td><td>Untitled  </td><td>Court Manager             </td><td>43966465</td><td>115765.4</td><td>0</td><td>7084.72</td><td>120525.2</td><td>24154.33</td><td>35633.00</td><td>10662.12</td><td> 70449.45</td><td>190974.7</td></tr>\n",
              "\t<tr><th scope=row>5</th><td>2020</td><td>Public Protection                       </td><td>DEM</td><td>Dept of Emergency Management</td><td>351</td><td>Municipal Exec Assoc, Misc</td><td>Management</td><td>Manager I                 </td><td>42476256</td><td>137451.1</td><td>0</td><td>   0.00</td><td>137451.1</td><td>28040.23</td><td>33480.25</td><td>10662.26</td><td> 72182.74</td><td>209633.8</td></tr>\n",
              "</tbody>\n",
              "</table>\n"
            ],
            "text/markdown": "\nA data.frame: 5 × 18\n\n| <!--/--> | Year &lt;int&gt; | Organization.Group &lt;chr&gt; | Department.Code &lt;chr&gt; | Department &lt;chr&gt; | Union.Code &lt;int&gt; | Union &lt;chr&gt; | Job.Family &lt;chr&gt; | Job &lt;chr&gt; | Employee.Identifier &lt;int&gt; | Salaries &lt;dbl&gt; | Overtime &lt;dbl&gt; | Other.Salaries &lt;dbl&gt; | Total.Salary &lt;dbl&gt; | Retirement &lt;dbl&gt; | Health.and.Dental &lt;dbl&gt; | Other.Benefits &lt;dbl&gt; | Total.Benefits &lt;dbl&gt; | Total.Compensation &lt;dbl&gt; |\n|---|---|---|---|---|---|---|---|---|---|---|---|---|---|---|---|---|---|---|\n| 1 | 2020 | Public Works, Transportation &amp; Commerce  | PUC | Public Utilities Commission  | 351 | Municipal Exec Assoc, Misc | Management | Manager VI                 | 44086226 | 200745.0 | 0 |    0.00 | 200745.0 | 40917.79 | 49000.22 | 12676.46 | 102594.47 | 303339.5 |\n| 2 | 2020 | Human Welfare &amp; Neighborhood Development | CHF | Children Youth &amp; Families    | 351 | Municipal Exec Assoc, Misc | Management | Manager III                | 42476363 | 159102.1 | 0 |    0.00 | 159102.1 | 32428.06 | 43446.48 | 13713.49 |  89588.03 | 248690.1 |\n| 3 | 2020 | Public Protection                        | CRT | Trial Courts                 | 356 | Court-MEA                  | Untitled   | Court Computer Sys Manager | 43416109 | 139009.3 | 0 | 9133.04 | 144793.3 | 29015.67 | 35633.00 | 12701.09 |  77349.76 | 222143.1 |\n| 4 | 2020 | Public Protection                        | CRT | Trial Courts                 | 356 | Court-MEA                  | Untitled   | Court Manager              | 43966465 | 115765.4 | 0 | 7084.72 | 120525.2 | 24154.33 | 35633.00 | 10662.12 |  70449.45 | 190974.7 |\n| 5 | 2020 | Public Protection                        | DEM | Dept of Emergency Management | 351 | Municipal Exec Assoc, Misc | Management | Manager I                  | 42476256 | 137451.1 | 0 |    0.00 | 137451.1 | 28040.23 | 33480.25 | 10662.26 |  72182.74 | 209633.8 |\n\n",
            "text/latex": "A data.frame: 5 × 18\n\\begin{tabular}{r|llllllllllllllllll}\n  & Year & Organization.Group & Department.Code & Department & Union.Code & Union & Job.Family & Job & Employee.Identifier & Salaries & Overtime & Other.Salaries & Total.Salary & Retirement & Health.and.Dental & Other.Benefits & Total.Benefits & Total.Compensation\\\\\n  & <int> & <chr> & <chr> & <chr> & <int> & <chr> & <chr> & <chr> & <int> & <dbl> & <dbl> & <dbl> & <dbl> & <dbl> & <dbl> & <dbl> & <dbl> & <dbl>\\\\\n\\hline\n\t1 & 2020 & Public Works, Transportation \\& Commerce  & PUC & Public Utilities Commission  & 351 & Municipal Exec Assoc, Misc & Management & Manager VI                 & 44086226 & 200745.0 & 0 &    0.00 & 200745.0 & 40917.79 & 49000.22 & 12676.46 & 102594.47 & 303339.5\\\\\n\t2 & 2020 & Human Welfare \\& Neighborhood Development & CHF & Children Youth \\& Families    & 351 & Municipal Exec Assoc, Misc & Management & Manager III                & 42476363 & 159102.1 & 0 &    0.00 & 159102.1 & 32428.06 & 43446.48 & 13713.49 &  89588.03 & 248690.1\\\\\n\t3 & 2020 & Public Protection                        & CRT & Trial Courts                 & 356 & Court-MEA                  & Untitled   & Court Computer Sys Manager & 43416109 & 139009.3 & 0 & 9133.04 & 144793.3 & 29015.67 & 35633.00 & 12701.09 &  77349.76 & 222143.1\\\\\n\t4 & 2020 & Public Protection                        & CRT & Trial Courts                 & 356 & Court-MEA                  & Untitled   & Court Manager              & 43966465 & 115765.4 & 0 & 7084.72 & 120525.2 & 24154.33 & 35633.00 & 10662.12 &  70449.45 & 190974.7\\\\\n\t5 & 2020 & Public Protection                        & DEM & Dept of Emergency Management & 351 & Municipal Exec Assoc, Misc & Management & Manager I                  & 42476256 & 137451.1 & 0 &    0.00 & 137451.1 & 28040.23 & 33480.25 & 10662.26 &  72182.74 & 209633.8\\\\\n\\end{tabular}\n",
            "text/plain": [
              "  Year Organization.Group                       Department.Code\n",
              "1 2020 Public Works, Transportation & Commerce  PUC            \n",
              "2 2020 Human Welfare & Neighborhood Development CHF            \n",
              "3 2020 Public Protection                        CRT            \n",
              "4 2020 Public Protection                        CRT            \n",
              "5 2020 Public Protection                        DEM            \n",
              "  Department                   Union.Code Union                      Job.Family\n",
              "1 Public Utilities Commission  351        Municipal Exec Assoc, Misc Management\n",
              "2 Children Youth & Families    351        Municipal Exec Assoc, Misc Management\n",
              "3 Trial Courts                 356        Court-MEA                  Untitled  \n",
              "4 Trial Courts                 356        Court-MEA                  Untitled  \n",
              "5 Dept of Emergency Management 351        Municipal Exec Assoc, Misc Management\n",
              "  Job                        Employee.Identifier Salaries Overtime\n",
              "1 Manager VI                 44086226            200745.0 0       \n",
              "2 Manager III                42476363            159102.1 0       \n",
              "3 Court Computer Sys Manager 43416109            139009.3 0       \n",
              "4 Court Manager              43966465            115765.4 0       \n",
              "5 Manager I                  42476256            137451.1 0       \n",
              "  Other.Salaries Total.Salary Retirement Health.and.Dental Other.Benefits\n",
              "1    0.00        200745.0     40917.79   49000.22          12676.46      \n",
              "2    0.00        159102.1     32428.06   43446.48          13713.49      \n",
              "3 9133.04        144793.3     29015.67   35633.00          12701.09      \n",
              "4 7084.72        120525.2     24154.33   35633.00          10662.12      \n",
              "5    0.00        137451.1     28040.23   33480.25          10662.26      \n",
              "  Total.Benefits Total.Compensation\n",
              "1 102594.47      303339.5          \n",
              "2  89588.03      248690.1          \n",
              "3  77349.76      222143.1          \n",
              "4  70449.45      190974.7          \n",
              "5  72182.74      209633.8          "
            ]
          },
          "metadata": {}
        }
      ]
    },
    {
      "cell_type": "markdown",
      "source": [
        "> By using \"as.vector()\", convert the values of the selected column into a vector and it's named \"v\".<br>\n",
        "The jobs with the highest value on the benefits of health and dental insurance premium in 2020 are as follows, in order.\n",
        "> For those who do not have health insurance, personal medical expenses will increase. When medical expenses go up, insurance premiums also go up. This is directly related to the cost of living, which increases the individual's cost of living. By comparing the medical expenses of the relevant jobs extracted with the previous year, the increase or decrease in the cost of living can be inferred."
      ],
      "metadata": {
        "id": "Jhu0ciWmwmz_"
      }
    },
    {
      "cell_type": "code",
      "source": [
        "v <- as.vector(JOB$Job)\n",
        "v"
      ],
      "metadata": {
        "colab": {
          "base_uri": "https://localhost:8080/",
          "height": 34
        },
        "id": "9Ufbke8D8IaX",
        "outputId": "2ebe1492-e25a-4720-96ed-fd61cfe2031e"
      },
      "execution_count": null,
      "outputs": [
        {
          "output_type": "display_data",
          "data": {
            "text/html": [
              "<style>\n",
              ".list-inline {list-style: none; margin:0; padding: 0}\n",
              ".list-inline>li {display: inline-block}\n",
              ".list-inline>li:not(:last-child)::after {content: \"\\00b7\"; padding: 0 .5ex}\n",
              "</style>\n",
              "<ol class=list-inline><li>'Manager VI'</li><li>'Manager III'</li><li>'Court Computer Sys Manager'</li><li>'Court Manager'</li><li>'Manager I'</li></ol>\n"
            ],
            "text/markdown": "1. 'Manager VI'\n2. 'Manager III'\n3. 'Court Computer Sys Manager'\n4. 'Court Manager'\n5. 'Manager I'\n\n\n",
            "text/latex": "\\begin{enumerate*}\n\\item 'Manager VI'\n\\item 'Manager III'\n\\item 'Court Computer Sys Manager'\n\\item 'Court Manager'\n\\item 'Manager I'\n\\end{enumerate*}\n",
            "text/plain": [
              "[1] \"Manager VI\"                 \"Manager III\"               \n",
              "[3] \"Court Computer Sys Manager\" \"Court Manager\"             \n",
              "[5] \"Manager I\"                 "
            ]
          },
          "metadata": {}
        }
      ]
    },
    {
      "cell_type": "markdown",
      "source": [
        "> It is checked that the \"v\" is a vector by calling \"is.vector()\" fuunction."
      ],
      "metadata": {
        "id": "PzZwDHCFVsBi"
      }
    },
    {
      "cell_type": "code",
      "source": [
        " is.vector(v)"
      ],
      "metadata": {
        "colab": {
          "base_uri": "https://localhost:8080/",
          "height": 34
        },
        "id": "28pLyC698ZiA",
        "outputId": "260b3115-0fb1-4dbf-96e8-cd6b2383947c"
      },
      "execution_count": null,
      "outputs": [
        {
          "output_type": "display_data",
          "data": {
            "text/html": [
              "TRUE"
            ],
            "text/markdown": "TRUE",
            "text/latex": "TRUE",
            "text/plain": [
              "[1] TRUE"
            ]
          },
          "metadata": {}
        }
      ]
    },
    {
      "cell_type": "markdown",
      "source": [
        "> A data frame to check the amount of health and dental insurance premium from 2013 to 2019 for the same jobs extracted from 2020 can be created and compared with 2020.\n",
        "\n",
        "> By using the %in% operator, which determines if an element belongs to a data frame, with the \"which()\" function, data from 2013 to 2019 for the 5 jobs selected above are extracted. After sorting by the column of health and dental, the 5 rows corresponding to the highest values are extracted.\n",
        "\n",
        "> Except for the fact that Manager VI's health insurance premium in 2019 is the highest at 52,146.51, it can be seen that health insurance premium in other years are lower than in 2020. By comparing them, it can be estimated that the cost of living related to health insurance premiums increased in 2020. It also can be inferred that the relationship between total compensation and health insurance premium has somewhat positive correlation."
      ],
      "metadata": {
        "id": "A9HoDWouYTQf"
      }
    },
    {
      "cell_type": "code",
      "source": [
        "head(arrange(FEC[which(FEC$Year %in% 2013:2019 & FEC$Job %in% c('Manager VI','Manager III','Court Computer Sys Manager','Court Manager','Manager I')),5:22],\n",
        "desc(Health.and.Dental)),5)"
      ],
      "metadata": {
        "colab": {
          "base_uri": "https://localhost:8080/",
          "height": 466
        },
        "id": "czZzivtV8g1q",
        "outputId": "789875a9-c042-491d-dcfa-20ec63a0a877"
      },
      "execution_count": null,
      "outputs": [
        {
          "output_type": "display_data",
          "data": {
            "text/html": [
              "<table class=\"dataframe\">\n",
              "<caption>A data.frame: 5 × 18</caption>\n",
              "<thead>\n",
              "\t<tr><th></th><th scope=col>Year</th><th scope=col>Organization.Group</th><th scope=col>Department.Code</th><th scope=col>Department</th><th scope=col>Union.Code</th><th scope=col>Union</th><th scope=col>Job.Family</th><th scope=col>Job</th><th scope=col>Employee.Identifier</th><th scope=col>Salaries</th><th scope=col>Overtime</th><th scope=col>Other.Salaries</th><th scope=col>Total.Salary</th><th scope=col>Retirement</th><th scope=col>Health.and.Dental</th><th scope=col>Other.Benefits</th><th scope=col>Total.Benefits</th><th scope=col>Total.Compensation</th></tr>\n",
              "\t<tr><th></th><th scope=col>&lt;int&gt;</th><th scope=col>&lt;chr&gt;</th><th scope=col>&lt;chr&gt;</th><th scope=col>&lt;chr&gt;</th><th scope=col>&lt;int&gt;</th><th scope=col>&lt;chr&gt;</th><th scope=col>&lt;chr&gt;</th><th scope=col>&lt;chr&gt;</th><th scope=col>&lt;int&gt;</th><th scope=col>&lt;dbl&gt;</th><th scope=col>&lt;dbl&gt;</th><th scope=col>&lt;dbl&gt;</th><th scope=col>&lt;dbl&gt;</th><th scope=col>&lt;dbl&gt;</th><th scope=col>&lt;dbl&gt;</th><th scope=col>&lt;dbl&gt;</th><th scope=col>&lt;dbl&gt;</th><th scope=col>&lt;dbl&gt;</th></tr>\n",
              "</thead>\n",
              "<tbody>\n",
              "\t<tr><th scope=row>1</th><td>2019</td><td>Public Works, Transportation &amp; Commerce</td><td>PUC</td><td>Public Utilities Commission</td><td>351</td><td>Municipal Exec Assoc, Misc</td><td>Management</td><td><span style=white-space:pre-wrap>Manager VI                </span></td><td>39115976</td><td>176673.7</td><td>0</td><td><span style=white-space:pre-wrap>   0</span></td><td>176673.7</td><td>32906.51</td><td>52146.51</td><td>15573.06</td><td>100626.08</td><td>277299.8</td></tr>\n",
              "\t<tr><th scope=row>2</th><td>2019</td><td><span style=white-space:pre-wrap>General Administration &amp; Finance       </span></td><td>RET</td><td><span style=white-space:pre-wrap>Retirement Services        </span></td><td>351</td><td>Municipal Exec Assoc, Misc</td><td>Management</td><td><span style=white-space:pre-wrap>Manager VI                </span></td><td>40616130</td><td>156112.7</td><td>0</td><td><span style=white-space:pre-wrap>   0</span></td><td>156112.7</td><td>29076.07</td><td>29980.84</td><td>11185.01</td><td> 70241.92</td><td>226354.6</td></tr>\n",
              "\t<tr><th scope=row>3</th><td>2019</td><td>Public Protection                      </td><td>CRT</td><td>Trial Courts               </td><td>356</td><td>Court-MEA                 </td><td>Untitled  </td><td>Court Manager             </td><td>38775982</td><td>127465.0</td><td>0</td><td>   0</td><td>127465.0</td><td>23741.15</td><td>29738.23</td><td>10861.81</td><td> 64341.19</td><td>191806.2</td></tr>\n",
              "\t<tr><th scope=row>4</th><td>2019</td><td>Public Protection                      </td><td>CRT</td><td>Trial Courts               </td><td>356</td><td>Court-MEA                 </td><td>Untitled  </td><td>Court Computer Sys Manager</td><td>39756315</td><td>155740.5</td><td>0</td><td>5877</td><td>158679.0</td><td>29007.76</td><td>29639.29</td><td>11001.40</td><td> 69648.45</td><td>228327.5</td></tr>\n",
              "\t<tr><th scope=row>5</th><td>2019</td><td>Public Protection                      </td><td>CRT</td><td>Trial Courts               </td><td>356</td><td>Court-MEA                 </td><td>Untitled  </td><td>Court Manager             </td><td>36655716</td><td>127465.0</td><td>0</td><td>4810</td><td>129870.0</td><td>23741.15</td><td>29639.29</td><td>10904.81</td><td> 64285.25</td><td>194155.2</td></tr>\n",
              "</tbody>\n",
              "</table>\n"
            ],
            "text/markdown": "\nA data.frame: 5 × 18\n\n| <!--/--> | Year &lt;int&gt; | Organization.Group &lt;chr&gt; | Department.Code &lt;chr&gt; | Department &lt;chr&gt; | Union.Code &lt;int&gt; | Union &lt;chr&gt; | Job.Family &lt;chr&gt; | Job &lt;chr&gt; | Employee.Identifier &lt;int&gt; | Salaries &lt;dbl&gt; | Overtime &lt;dbl&gt; | Other.Salaries &lt;dbl&gt; | Total.Salary &lt;dbl&gt; | Retirement &lt;dbl&gt; | Health.and.Dental &lt;dbl&gt; | Other.Benefits &lt;dbl&gt; | Total.Benefits &lt;dbl&gt; | Total.Compensation &lt;dbl&gt; |\n|---|---|---|---|---|---|---|---|---|---|---|---|---|---|---|---|---|---|---|\n| 1 | 2019 | Public Works, Transportation &amp; Commerce | PUC | Public Utilities Commission | 351 | Municipal Exec Assoc, Misc | Management | Manager VI                 | 39115976 | 176673.7 | 0 |    0 | 176673.7 | 32906.51 | 52146.51 | 15573.06 | 100626.08 | 277299.8 |\n| 2 | 2019 | General Administration &amp; Finance        | RET | Retirement Services         | 351 | Municipal Exec Assoc, Misc | Management | Manager VI                 | 40616130 | 156112.7 | 0 |    0 | 156112.7 | 29076.07 | 29980.84 | 11185.01 |  70241.92 | 226354.6 |\n| 3 | 2019 | Public Protection                       | CRT | Trial Courts                | 356 | Court-MEA                  | Untitled   | Court Manager              | 38775982 | 127465.0 | 0 |    0 | 127465.0 | 23741.15 | 29738.23 | 10861.81 |  64341.19 | 191806.2 |\n| 4 | 2019 | Public Protection                       | CRT | Trial Courts                | 356 | Court-MEA                  | Untitled   | Court Computer Sys Manager | 39756315 | 155740.5 | 0 | 5877 | 158679.0 | 29007.76 | 29639.29 | 11001.40 |  69648.45 | 228327.5 |\n| 5 | 2019 | Public Protection                       | CRT | Trial Courts                | 356 | Court-MEA                  | Untitled   | Court Manager              | 36655716 | 127465.0 | 0 | 4810 | 129870.0 | 23741.15 | 29639.29 | 10904.81 |  64285.25 | 194155.2 |\n\n",
            "text/latex": "A data.frame: 5 × 18\n\\begin{tabular}{r|llllllllllllllllll}\n  & Year & Organization.Group & Department.Code & Department & Union.Code & Union & Job.Family & Job & Employee.Identifier & Salaries & Overtime & Other.Salaries & Total.Salary & Retirement & Health.and.Dental & Other.Benefits & Total.Benefits & Total.Compensation\\\\\n  & <int> & <chr> & <chr> & <chr> & <int> & <chr> & <chr> & <chr> & <int> & <dbl> & <dbl> & <dbl> & <dbl> & <dbl> & <dbl> & <dbl> & <dbl> & <dbl>\\\\\n\\hline\n\t1 & 2019 & Public Works, Transportation \\& Commerce & PUC & Public Utilities Commission & 351 & Municipal Exec Assoc, Misc & Management & Manager VI                 & 39115976 & 176673.7 & 0 &    0 & 176673.7 & 32906.51 & 52146.51 & 15573.06 & 100626.08 & 277299.8\\\\\n\t2 & 2019 & General Administration \\& Finance        & RET & Retirement Services         & 351 & Municipal Exec Assoc, Misc & Management & Manager VI                 & 40616130 & 156112.7 & 0 &    0 & 156112.7 & 29076.07 & 29980.84 & 11185.01 &  70241.92 & 226354.6\\\\\n\t3 & 2019 & Public Protection                       & CRT & Trial Courts                & 356 & Court-MEA                  & Untitled   & Court Manager              & 38775982 & 127465.0 & 0 &    0 & 127465.0 & 23741.15 & 29738.23 & 10861.81 &  64341.19 & 191806.2\\\\\n\t4 & 2019 & Public Protection                       & CRT & Trial Courts                & 356 & Court-MEA                  & Untitled   & Court Computer Sys Manager & 39756315 & 155740.5 & 0 & 5877 & 158679.0 & 29007.76 & 29639.29 & 11001.40 &  69648.45 & 228327.5\\\\\n\t5 & 2019 & Public Protection                       & CRT & Trial Courts                & 356 & Court-MEA                  & Untitled   & Court Manager              & 36655716 & 127465.0 & 0 & 4810 & 129870.0 & 23741.15 & 29639.29 & 10904.81 &  64285.25 & 194155.2\\\\\n\\end{tabular}\n",
            "text/plain": [
              "  Year Organization.Group                      Department.Code\n",
              "1 2019 Public Works, Transportation & Commerce PUC            \n",
              "2 2019 General Administration & Finance        RET            \n",
              "3 2019 Public Protection                       CRT            \n",
              "4 2019 Public Protection                       CRT            \n",
              "5 2019 Public Protection                       CRT            \n",
              "  Department                  Union.Code Union                      Job.Family\n",
              "1 Public Utilities Commission 351        Municipal Exec Assoc, Misc Management\n",
              "2 Retirement Services         351        Municipal Exec Assoc, Misc Management\n",
              "3 Trial Courts                356        Court-MEA                  Untitled  \n",
              "4 Trial Courts                356        Court-MEA                  Untitled  \n",
              "5 Trial Courts                356        Court-MEA                  Untitled  \n",
              "  Job                        Employee.Identifier Salaries Overtime\n",
              "1 Manager VI                 39115976            176673.7 0       \n",
              "2 Manager VI                 40616130            156112.7 0       \n",
              "3 Court Manager              38775982            127465.0 0       \n",
              "4 Court Computer Sys Manager 39756315            155740.5 0       \n",
              "5 Court Manager              36655716            127465.0 0       \n",
              "  Other.Salaries Total.Salary Retirement Health.and.Dental Other.Benefits\n",
              "1    0           176673.7     32906.51   52146.51          15573.06      \n",
              "2    0           156112.7     29076.07   29980.84          11185.01      \n",
              "3    0           127465.0     23741.15   29738.23          10861.81      \n",
              "4 5877           158679.0     29007.76   29639.29          11001.40      \n",
              "5 4810           129870.0     23741.15   29639.29          10904.81      \n",
              "  Total.Benefits Total.Compensation\n",
              "1 100626.08      277299.8          \n",
              "2  70241.92      226354.6          \n",
              "3  64341.19      191806.2          \n",
              "4  69648.45      228327.5          \n",
              "5  64285.25      194155.2          "
            ]
          },
          "metadata": {}
        }
      ]
    },
    {
      "cell_type": "markdown",
      "source": [
        "## **5) 5 different Lists**"
      ],
      "metadata": {
        "id": "GXkZJ4jH_3ok"
      }
    },
    {
      "cell_type": "markdown",
      "source": [
        "> Based on the 5 job titles extracted in the order of highest health insurance premium in 2020, this time, the amount in the retirement column for each job is sorted in descending order.\n",
        "\n",
        "> Use the \"which()\" fuction to extract the values corresponding to retirement column among the data corresponidng to each job titles. It is sorted in descending order by using the \"sort()\" function with the \"decreasing=TRUE\" argument. The values corresponding to the top 5 can be extracted from each data frame by using the \"head()\" function. Through the \"list()\" function, each vector from job1 to job5 is classified by job titles and the result is returned as a list.\n",
        "\n",
        "> Manager VI who had the largest amount on the health insurance premium benefit also seemed to have the highest amount on the retirement benefit among all jobs extracted above. From the results, it can be seen that jobs with high health insurance premium also have high value on the retirement column. They may not always proportional based on the other jobs cases but it can be seen that they are related. In addition, it can be seen that the benefits that are important to each job are different. "
      ],
      "metadata": {
        "id": "9QgvphKGOOvt"
      }
    },
    {
      "cell_type": "code",
      "source": [
        "job1 <- head(sort(FEC[which(FEC$Job == \"Manager VI\"),\"Retirement\"], decreasing = TRUE),5)\n",
        "job2 <- head(sort(FEC[which(FEC$Job == \"Manager III\"),\"Retirement\"], decreasing = TRUE),5)\n",
        "job3 <- head(sort(FEC[which(FEC$Job == \"Court Computer Sys Manager\"),\"Retirement\"], decreasing = TRUE),5)\n",
        "job4 <- head(sort(FEC[which(FEC$Job == \"Court Manager\"),\"Retirement\"], decreasing = TRUE),5)\n",
        "job5 <- head(sort(FEC[which(FEC$Job == \"Manager I\"),\"Retirement\"], decreasing = TRUE),5)\n",
        "list(\"Manager VI\"=job1, \"Manager III\"=job2, \"Court Computer Sys Manager\"=job3, \"Court Manager\"=job4, \"Manager I\"=job5)"
      ],
      "metadata": {
        "colab": {
          "base_uri": "https://localhost:8080/",
          "height": 219
        },
        "id": "qeob5B8yAHc-",
        "outputId": "9608d5d8-3204-4737-b49c-bc61daa4c44b"
      },
      "execution_count": null,
      "outputs": [
        {
          "output_type": "display_data",
          "data": {
            "text/html": [
              "<dl>\n",
              "\t<dt>$`Manager VI`</dt>\n",
              "\t\t<dd><style>\n",
              ".list-inline {list-style: none; margin:0; padding: 0}\n",
              ".list-inline>li {display: inline-block}\n",
              ".list-inline>li:not(:last-child)::after {content: \"\\00b7\"; padding: 0 .5ex}\n",
              "</style>\n",
              "<ol class=list-inline><li>49556.45</li><li>48198.12</li><li>47477.12</li><li>46398.54</li><li>46260.89</li></ol>\n",
              "</dd>\n",
              "\t<dt>$`Manager III`</dt>\n",
              "\t\t<dd><style>\n",
              ".list-inline {list-style: none; margin:0; padding: 0}\n",
              ".list-inline>li {display: inline-block}\n",
              ".list-inline>li:not(:last-child)::after {content: \"\\00b7\"; padding: 0 .5ex}\n",
              "</style>\n",
              "<ol class=list-inline><li>38082.2</li><li>38043.33</li><li>37712.34</li><li>37635.31</li><li>37549.99</li></ol>\n",
              "</dd>\n",
              "\t<dt>$`Court Computer Sys Manager`</dt>\n",
              "\t\t<dd><style>\n",
              ".list-inline {list-style: none; margin:0; padding: 0}\n",
              ".list-inline>li {display: inline-block}\n",
              ".list-inline>li:not(:last-child)::after {content: \"\\00b7\"; padding: 0 .5ex}\n",
              "</style>\n",
              "<ol class=list-inline><li>32680.33</li><li>32680.33</li><li>31472.24</li><li>31012.02</li><li>31012.02</li></ol>\n",
              "</dd>\n",
              "\t<dt>$`Court Manager`</dt>\n",
              "\t\t<dd><style>\n",
              ".list-inline {list-style: none; margin:0; padding: 0}\n",
              ".list-inline>li {display: inline-block}\n",
              ".list-inline>li:not(:last-child)::after {content: \"\\00b7\"; padding: 0 .5ex}\n",
              "</style>\n",
              "<ol class=list-inline><li>26753.54</li><li>26753.54</li><li>26753.54</li><li>26753.54</li><li>26753.54</li></ol>\n",
              "</dd>\n",
              "\t<dt>$`Manager I`</dt>\n",
              "\t\t<dd><style>\n",
              ".list-inline {list-style: none; margin:0; padding: 0}\n",
              ".list-inline>li {display: inline-block}\n",
              ".list-inline>li:not(:last-child)::after {content: \"\\00b7\"; padding: 0 .5ex}\n",
              "</style>\n",
              "<ol class=list-inline><li>35588.94</li><li>34139.32</li><li>33712.37</li><li>33401.11</li><li>33356.09</li></ol>\n",
              "</dd>\n",
              "</dl>\n"
            ],
            "text/markdown": "$`Manager VI`\n:   1. 49556.45\n2. 48198.12\n3. 47477.12\n4. 46398.54\n5. 46260.89\n\n\n\n$`Manager III`\n:   1. 38082.2\n2. 38043.33\n3. 37712.34\n4. 37635.31\n5. 37549.99\n\n\n\n$`Court Computer Sys Manager`\n:   1. 32680.33\n2. 32680.33\n3. 31472.24\n4. 31012.02\n5. 31012.02\n\n\n\n$`Court Manager`\n:   1. 26753.54\n2. 26753.54\n3. 26753.54\n4. 26753.54\n5. 26753.54\n\n\n\n$`Manager I`\n:   1. 35588.94\n2. 34139.32\n3. 33712.37\n4. 33401.11\n5. 33356.09\n\n\n\n\n\n",
            "text/latex": "\\begin{description}\n\\item[\\$`Manager VI`] \\begin{enumerate*}\n\\item 49556.45\n\\item 48198.12\n\\item 47477.12\n\\item 46398.54\n\\item 46260.89\n\\end{enumerate*}\n\n\\item[\\$`Manager III`] \\begin{enumerate*}\n\\item 38082.2\n\\item 38043.33\n\\item 37712.34\n\\item 37635.31\n\\item 37549.99\n\\end{enumerate*}\n\n\\item[\\$`Court Computer Sys Manager`] \\begin{enumerate*}\n\\item 32680.33\n\\item 32680.33\n\\item 31472.24\n\\item 31012.02\n\\item 31012.02\n\\end{enumerate*}\n\n\\item[\\$`Court Manager`] \\begin{enumerate*}\n\\item 26753.54\n\\item 26753.54\n\\item 26753.54\n\\item 26753.54\n\\item 26753.54\n\\end{enumerate*}\n\n\\item[\\$`Manager I`] \\begin{enumerate*}\n\\item 35588.94\n\\item 34139.32\n\\item 33712.37\n\\item 33401.11\n\\item 33356.09\n\\end{enumerate*}\n\n\\end{description}\n",
            "text/plain": [
              "$`Manager VI`\n",
              "[1] 49556.45 48198.12 47477.12 46398.54 46260.89\n",
              "\n",
              "$`Manager III`\n",
              "[1] 38082.20 38043.33 37712.34 37635.31 37549.99\n",
              "\n",
              "$`Court Computer Sys Manager`\n",
              "[1] 32680.33 32680.33 31472.24 31012.02 31012.02\n",
              "\n",
              "$`Court Manager`\n",
              "[1] 26753.54 26753.54 26753.54 26753.54 26753.54\n",
              "\n",
              "$`Manager I`\n",
              "[1] 35588.94 34139.32 33712.37 33401.11 33356.09\n"
            ]
          },
          "metadata": {}
        }
      ]
    },
    {
      "cell_type": "markdown",
      "source": [
        "## **6) Conditionals**"
      ],
      "metadata": {
        "id": "PqPB6enSAJQy"
      }
    },
    {
      "cell_type": "markdown",
      "source": [
        "> The \"if()\", \"else if()\", and \"else()\" functions used when there are multiple conditions execute and return the contents when the conditions are met. By applying the conditional expressions, the increase or decrease of total compensation by year can be checked. \n",
        "The condition is divided into three cases, such as when two different years are entered and the value is less than, greater than, or equal to. If condition 1 is satisfied, \"increased\" is returned, and if condition 2 is satisfied, \"decreased\" is returned. If both of these conditions are not satisfied, \"non related\" is returned."
      ],
      "metadata": {
        "id": "Y1_fRLKzH8iM"
      }
    },
    {
      "cell_type": "code",
      "source": [
        "degree <- function(year1, year2) {\n",
        "  result <- if ((head(FEC[which(FEC$Year == year1),22],1)) < head(FEC[which(FEC$Year == year2),22],1)) \"increased\"\n",
        "  else if ((head(FEC[which(FEC$Year == year1),22],1)) > head(FEC[which(FEC$Year == year2),22],1)) \"decreased\"\n",
        "  else if ((head(FEC[which(FEC$Year == year1),22],1)) == head(FEC[which(FEC$Year == year2),22],1)) \"did not change\"\n",
        "  else \"non related\"\n",
        "  cat(\"The total compensation\", result, \"in\", year2, \"compared to\" ,year1, \"\\n\")\n",
        "  }"
      ],
      "metadata": {
        "id": "_BhfidhcCZLD"
      },
      "execution_count": null,
      "outputs": []
    },
    {
      "cell_type": "markdown",
      "source": [
        "> By putting two years, the corresponding conditional statement is returned. It is confirmed that total compensation has continued to increase except in 2020."
      ],
      "metadata": {
        "id": "M0LIoedSelgS"
      }
    },
    {
      "cell_type": "code",
      "source": [
        "degree(2013, 2014)\n",
        "degree(2014, 2015)\n",
        "degree(2015, 2016)\n",
        "degree(2016, 2017)\n",
        "degree(2017, 2018)\n",
        "degree(2018, 2019)\n",
        "degree(2019, 2020)"
      ],
      "metadata": {
        "colab": {
          "base_uri": "https://localhost:8080/"
        },
        "id": "z8ielYOYuQhV",
        "outputId": "30842261-00da-4d3b-8255-e04863bb799f"
      },
      "execution_count": null,
      "outputs": [
        {
          "output_type": "stream",
          "name": "stdout",
          "text": [
            "The total compensation increased in 2014 compared to 2013 \n",
            "The total compensation increased in 2015 compared to 2014 \n",
            "The total compensation increased in 2016 compared to 2015 \n",
            "The total compensation increased in 2017 compared to 2016 \n",
            "The total compensation increased in 2018 compared to 2017 \n",
            "The total compensation increased in 2019 compared to 2018 \n",
            "The total compensation decreased in 2020 compared to 2019 \n"
          ]
        }
      ]
    },
    {
      "cell_type": "markdown",
      "source": [
        "> Use \"which()\" function one of the conditional expressions to extract the year with the \"sum()\" function that calculates the sum to find the increment of total compensation between 2013 and 2020. The total amount of total compensation increased by 1,678,062,899.68, which is 1.44% higher than in 2013."
      ],
      "metadata": {
        "id": "5ylM62v923NQ"
      }
    },
    {
      "cell_type": "code",
      "source": [
        "diffT <- sum(FEC[which(FEC$Year == 2020),22]) - sum(FEC[which(FEC$Year == 2013),22])\n",
        "sumT <- sum(FEC[which(FEC$Year == 2020),22]) / sum(FEC[which(FEC$Year == 2013),22])\n",
        "diffT\n",
        "sumT"
      ],
      "metadata": {
        "colab": {
          "base_uri": "https://localhost:8080/",
          "height": 52
        },
        "id": "solV1G8ruiIC",
        "outputId": "b45bc469-29fc-4296-9553-3bef0247a688"
      },
      "execution_count": null,
      "outputs": [
        {
          "output_type": "display_data",
          "data": {
            "text/html": [
              "1678062899.68"
            ],
            "text/markdown": "1678062899.68",
            "text/latex": "1678062899.68",
            "text/plain": [
              "[1] 1678062900"
            ]
          },
          "metadata": {}
        },
        {
          "output_type": "display_data",
          "data": {
            "text/html": [
              "1.44239120457409"
            ],
            "text/markdown": "1.44239120457409",
            "text/latex": "1.44239120457409",
            "text/plain": [
              "[1] 1.442391"
            ]
          },
          "metadata": {}
        }
      ]
    },
    {
      "cell_type": "markdown",
      "source": [
        "> Compare the overall average with the average from each year from 2013 to 2020 to find out the increase or decrease. Find the overall average of total compensation by using \"mean()\" function and named it \"TCav\". Set \"max, min, year\" to assign the vlaue on them. Assign the value obtained by dividing the total compensation average of the year by the total average to \"min\". Use \"repeat()\" function to make it loopable from 2013 to 2020. By using \"break\", the execution will be stopped when it's applied to 2021. Use the \"if()\" function to assign a condition. By using \"switch()\" function that returns a specific output to a specific input, the 1 assigned to z, the first execution statement, comes out.<br> The year with the highest increase or decrease rate is 2020, which is 1.205%."
      ],
      "metadata": {
        "id": "P1t8ScUDODG8"
      }
    },
    {
      "cell_type": "code",
      "source": [
        "TCav <- mean(FEC$Total.Compensation, na.rm=TRUE)\n",
        "max <- 0 # to assign value \n",
        "min <- 0 \n",
        "year <- 0\n",
        "i<-2013\n",
        "repeat{\n",
        "  min = mean(FEC[which(FEC$Year == i),22])/TCav\n",
        "  z <- 1\n",
        "  if(max > min)\n",
        "  {\n",
        "    z <- 2\n",
        "  }\n",
        " switch(z,max <- min,max <- max)\n",
        " switch(z,year <- i,year<-year)\n",
        " i<-i+1\n",
        " if( i < 2021) next\n",
        " else break\n",
        "}\n",
        "print(max)\n",
        "print(year)"
      ],
      "metadata": {
        "colab": {
          "base_uri": "https://localhost:8080/"
        },
        "id": "ulZplCSgJxVD",
        "outputId": "258cb27a-c14c-44f9-d438-a0aceb45765b"
      },
      "execution_count": null,
      "outputs": [
        {
          "output_type": "stream",
          "name": "stdout",
          "text": [
            "[1] 1.205204\n",
            "[1] 2020\n"
          ]
        }
      ]
    },
    {
      "cell_type": "markdown",
      "source": [
        "## 7) Loops\n",
        "\n",
        "> By using the \"for()\" function that repeats a specific part a set number of times, it can be checked whether the amount on the column of retirement increases or decreases by year. The \"as.integer()\" function converts a character object to an integer object so that it can be determined that whether it is increasing or decreasing.\n",
        "\n",
        "\n",
        "> Comparing each year from 2013 to 2022, it is shown that the amount on the retirement column decreased compared to the previous year only in the case of 2020 and 2017. \n"
      ],
      "metadata": {
        "id": "jR_CZjjMCeoy"
      }
    },
    {
      "cell_type": "code",
      "source": [
        "for(i in 2013:2019)\n",
        "{\n",
        "  diffR = as.integer((head(Ret[which(Ret$Year == i+1),14],1))) - as.integer((head(Ret[which(Ret$Year == i),14],1)))\n",
        "  if(diffR > 0) {\n",
        "    cat(\"The contributions to employee retirement in\", i+1, \"increased compared to\", i,\"\\n\")\n",
        "  }else \n",
        "  cat(\"The contributions to employee retirement in\", i+1, \"decreased compared to\", i,\"\\n\")\n",
        "  }"
      ],
      "metadata": {
        "colab": {
          "base_uri": "https://localhost:8080/"
        },
        "id": "L3xjmGmqCoXs",
        "outputId": "25ed8e03-bc13-45bc-bbff-74013040d640"
      },
      "execution_count": null,
      "outputs": [
        {
          "output_type": "stream",
          "name": "stdout",
          "text": [
            "The contributions to employee retirement in 2014 increased compared to 2013 \n",
            "The contributions to employee retirement in 2015 increased compared to 2014 \n",
            "The contributions to employee retirement in 2016 increased compared to 2015 \n",
            "The contributions to employee retirement in 2017 decreased compared to 2016 \n",
            "The contributions to employee retirement in 2018 increased compared to 2017 \n",
            "The contributions to employee retirement in 2019 increased compared to 2018 \n",
            "The contributions to employee retirement in 2020 decreased compared to 2019 \n"
          ]
        }
      ]
    },
    {
      "cell_type": "markdown",
      "source": [
        "> Use the \"while()\" function suitable for infinite repetition processing to check the increase or decrease of the amount on the column of health and dental. Set the value of \"i\" so that the iteration starts in 2013 and stops in 2020. The amount continued to increase except in 2015 and 2020."
      ],
      "metadata": {
        "id": "7Z6hSyUa7E6r"
      }
    },
    {
      "cell_type": "code",
      "source": [
        "i = 2013\n",
        "while(i < 2020){\n",
        "  {diffH = as.integer((head(HD[which(HD$Year == i+1),15],1))) - as.integer((head(HD[which(HD$Year == i),15],1)))\n",
        "  cat(\"The differnce between\", i+1, \"and\", i, \"is\", diffH, \"\\n\") \n",
        "  i=i+1\n",
        "  }}"
      ],
      "metadata": {
        "colab": {
          "base_uri": "https://localhost:8080/"
        },
        "id": "j1b1WR0N4EXQ",
        "outputId": "5dab5334-0ffd-48a5-85ce-f4aa21b56dc9"
      },
      "execution_count": null,
      "outputs": [
        {
          "output_type": "stream",
          "name": "stdout",
          "text": [
            "The differnce between 2014 and 2013 is 4627 \n",
            "The differnce between 2015 and 2014 is -310 \n",
            "The differnce between 2016 and 2015 is 1711 \n",
            "The differnce between 2017 and 2016 is 13874 \n",
            "The differnce between 2018 and 2017 is 9176 \n",
            "The differnce between 2019 and 2018 is 7225 \n",
            "The differnce between 2020 and 2019 is -3146 \n"
          ]
        }
      ]
    },
    {
      "cell_type": "markdown",
      "source": [
        "\n",
        "> The ratio of the year average to the total average of total compensation can be calculated and compared. The \"repeat()\" function is used to get the ratio from 2013 to 2020. The year in which the ratio of that year's average to the overall total compensation was high is 2020, and the value is 1.205%. This is the same sas the value checked above."
      ],
      "metadata": {
        "id": "HkCgh9Nsw8Ga"
      }
    },
    {
      "cell_type": "code",
      "source": [
        "TCav <- mean(FEC$Total.Compensation, na.rm=TRUE)\n",
        "i <- 2012\n",
        "repeat{\n",
        "  rate = mean(FEC[which(FEC$Year == i+1),22])/TCav\n",
        "  i <- i+1\n",
        "  if( i == 2021) break\n",
        "  cat(\"The ratio on\", i, \"is\", rate, \"\\n\")}"
      ],
      "metadata": {
        "colab": {
          "base_uri": "https://localhost:8080/"
        },
        "id": "ZStLx94pjEkH",
        "outputId": "c7c984ed-9b7d-4088-c6ef-20bec921fbcb"
      },
      "execution_count": null,
      "outputs": [
        {
          "output_type": "stream",
          "name": "stdout",
          "text": [
            "The ratio on 2013 is 0.8969418 \n",
            "The ratio on 2014 is 0.9003178 \n",
            "The ratio on 2015 is 0.9055658 \n",
            "The ratio on 2016 is 0.9302701 \n",
            "The ratio on 2017 is 0.992359 \n",
            "The ratio on 2018 is 1.078879 \n",
            "The ratio on 2019 is 1.087195 \n",
            "The ratio on 2020 is 1.205204 \n"
          ]
        }
      ]
    },
    {
      "cell_type": "markdown",
      "source": [
        "## **8) Summary**"
      ],
      "metadata": {
        "id": "h1GUMIQcHF0H"
      }
    },
    {
      "cell_type": "markdown",
      "source": [
        "> A fiscal year is a 12-month accounting period that a business uses for financial and tax reporting purposes. The report rearranged the data based on these fiscal years to increase the unity of data and the accuracy of comparative analysis.<br>\n",
        "> Based on the total compensation that includes both annual salary and benefits, the data were compared by year and job titles. After 2013 and before 2020, it was confirmed that total compensation has been increased overall. The largest total compensation was in 2019 and it is beacuse Police Officer 3 held the highest value on total compensation. By extracting and comparing the amount on the column of retirement and health and dental, it was found that they also have been increased overall by year. The job with the highest total compensation was the same as the job with the highest value on the column of retiremnt, but it was different from the job with the highest value on the column of health and dental. Based on this it can be seen that the proportion of each benefit in the total compensation vaires. Also, through the oveerall increase in retirement, it can be inferred that people's essential retirement funds after retirement continue to increase compared to the previous year."
      ],
      "metadata": {
        "id": "KIcdjRhWUUlm"
      }
    },
    {
      "cell_type": "markdown",
      "source": [
        "## **9) Recommendations**"
      ],
      "metadata": {
        "id": "Y8UoOQHTHIzW"
      }
    },
    {
      "cell_type": "markdown",
      "source": [
        "> In times of inflation, workers expect income increases, and companies accelerate the price rise by rising product prices to reflect labor costs and prices. In order for pices to rise consistently and generally, income incluing wages or salary must rise. In this way, income increase is both a cause and a result of inflation. Unless income increases, the standard of living will inevitably fall. Therefore, it can be seen that the cost of living and income are related to each other.<br>\n",
        "Based on these facts, it can be said that total compensation continued to rise from 2013 to 2019 from the data, and thus the cost of living also increased during the period. In addition, it can be inferred that health insurance premiums directly related to health and people's essential retirement funds after retirement continues to increase overall.<br>\n",
        "As a result, it can be said that it is necessary to strike a balance between prices and income so that the negative effects of inflation do not widen the gap between the cost of living and income or overestimated. Another fact is that total compensation is correlated with, but not always proporional to, the benefits of retirement and health and dental. This may imply that factors considered by jobs may differ between salaries and benefits. "
      ],
      "metadata": {
        "id": "4KNUT9sesZVn"
      }
    }
  ]
}
