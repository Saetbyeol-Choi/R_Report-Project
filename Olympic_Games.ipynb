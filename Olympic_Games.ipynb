{
  "nbformat": 4,
  "nbformat_minor": 0,
  "metadata": {
    "colab": {
      "provenance": [],
      "collapsed_sections": [
        "ENJeLCZaTcDG",
        "sNw1wsGN8YFN"
      ],
      "include_colab_link": true
    },
    "kernelspec": {
      "name": "ir",
      "display_name": "R"
    },
    "language_info": {
      "name": "R"
    }
  },
  "cells": [
    {
      "cell_type": "markdown",
      "metadata": {
        "id": "view-in-github",
        "colab_type": "text"
      },
      "source": [
        "<a href=\"https://colab.research.google.com/github/Saetbyeol-Choi/R_Report/blob/main/Module_1_Report_Olympic_Games.ipynb\" target=\"_parent\"><img src=\"https://colab.research.google.com/assets/colab-badge.svg\" alt=\"Open In Colab\"/></a>"
      ]
    },
    {
      "cell_type": "markdown",
      "source": [
        "# **Olympic Games**\n",
        "# Olympic Records research for Sponsor Recommendation\n",
        "### Name: Saetbyeol Choi"
      ],
      "metadata": {
        "id": "EVDptqxME-Ey"
      }
    },
    {
      "cell_type": "markdown",
      "source": [
        "## **1) Objective of the proposed research**"
      ],
      "metadata": {
        "id": "Xj3pWNnnqaGs"
      }
    },
    {
      "cell_type": "markdown",
      "source": [
        "###### The given dataset from kaggle is for athletes who participated in the summer and winter Olympics held between 1896 and 2016. Athletes are listed in 15 columns and each column contains information including missing values. This report aims to increase the accuracy of analysis by excluding missng values.\n",
        "\n",
        "###### The dataset includes both male and female athletes. The oldest of the athletes appears to be 97 years old and the youngest to be 10 years old. In this report, they are rearranged based on the number of medals won.\n",
        "\n",
        "###### There are three types of medals, which are gold, siver, and bronze. The focus is on the number of gold medals won and the athlete with the most gold medals will be recommended for sponsorship to Kellogg's."
      ],
      "metadata": {
        "id": "ENJeLCZaTcDG"
      }
    },
    {
      "cell_type": "markdown",
      "source": [
        "## **2) Data Exploration**"
      ],
      "metadata": {
        "id": "r7CLghgBzgKq"
      }
    },
    {
      "cell_type": "markdown",
      "source": [
        "###### Load dataset using \"read.csv()\" function and create a data frame named \"athlete.df\""
      ],
      "metadata": {
        "id": "-e7I6T3WI3_d"
      }
    },
    {
      "cell_type": "code",
      "execution_count": null,
      "metadata": {
        "id": "OIyz4uHhdveQ"
      },
      "outputs": [],
      "source": [
        "athlete.df <- read.csv(\"/content/athlete_events.csv\")"
      ]
    },
    {
      "cell_type": "markdown",
      "source": [
        "###### Install \"dplyr\" which is a package for data manipulation tasks."
      ],
      "metadata": {
        "id": "ouHN-NLYJEKm"
      }
    },
    {
      "cell_type": "code",
      "source": [
        "library(dplyr)"
      ],
      "metadata": {
        "id": "vpjzHZ8Wex0T",
        "colab": {
          "base_uri": "https://localhost:8080/"
        },
        "outputId": "78939b44-7304-47be-ce59-d3144ed16380"
      },
      "execution_count": null,
      "outputs": [
        {
          "output_type": "stream",
          "name": "stderr",
          "text": [
            "\n",
            "Attaching package: ‘dplyr’\n",
            "\n",
            "\n",
            "The following objects are masked from ‘package:stats’:\n",
            "\n",
            "    filter, lag\n",
            "\n",
            "\n",
            "The following objects are masked from ‘package:base’:\n",
            "\n",
            "    intersect, setdiff, setequal, union\n",
            "\n",
            "\n"
          ]
        }
      ]
    },
    {
      "cell_type": "markdown",
      "source": [
        "#### 1. Showing the first 10 rows of data frame\n",
        "###### Rows 1 to 10 are subsetted from the data frame by using indexing operators \"[ ]\" called \"The square brackets\"."
      ],
      "metadata": {
        "id": "0d9MzCmMJPT5"
      }
    },
    {
      "cell_type": "code",
      "source": [
        "athlete.df[1:10,]"
      ],
      "metadata": {
        "colab": {
          "base_uri": "https://localhost:8080/",
          "height": 970
        },
        "id": "w1Ood_iQe9nl",
        "outputId": "89952a33-a4b0-40bd-ebe9-7c98f45fe7f2"
      },
      "execution_count": null,
      "outputs": [
        {
          "output_type": "display_data",
          "data": {
            "text/html": [
              "<table class=\"dataframe\">\n",
              "<caption>A data.frame: 10 × 15</caption>\n",
              "<thead>\n",
              "\t<tr><th></th><th scope=col>ID</th><th scope=col>Name</th><th scope=col>Sex</th><th scope=col>Age</th><th scope=col>Height</th><th scope=col>Weight</th><th scope=col>Team</th><th scope=col>NOC</th><th scope=col>Games</th><th scope=col>Year</th><th scope=col>Season</th><th scope=col>City</th><th scope=col>Sport</th><th scope=col>Event</th><th scope=col>Medal</th></tr>\n",
              "\t<tr><th></th><th scope=col>&lt;int&gt;</th><th scope=col>&lt;chr&gt;</th><th scope=col>&lt;chr&gt;</th><th scope=col>&lt;int&gt;</th><th scope=col>&lt;int&gt;</th><th scope=col>&lt;dbl&gt;</th><th scope=col>&lt;chr&gt;</th><th scope=col>&lt;chr&gt;</th><th scope=col>&lt;chr&gt;</th><th scope=col>&lt;int&gt;</th><th scope=col>&lt;chr&gt;</th><th scope=col>&lt;chr&gt;</th><th scope=col>&lt;chr&gt;</th><th scope=col>&lt;chr&gt;</th><th scope=col>&lt;chr&gt;</th></tr>\n",
              "</thead>\n",
              "<tbody>\n",
              "\t<tr><th scope=row>1</th><td>1</td><td>A Dijiang               </td><td>M</td><td>24</td><td>180</td><td>80</td><td>China         </td><td>CHN</td><td>1992 Summer</td><td>1992</td><td>Summer</td><td>Barcelona  </td><td>Basketball   </td><td>Basketball Men's Basketball       </td><td>NA  </td></tr>\n",
              "\t<tr><th scope=row>2</th><td>2</td><td>A Lamusi                </td><td>M</td><td>23</td><td>170</td><td>60</td><td>China         </td><td>CHN</td><td>2012 Summer</td><td>2012</td><td>Summer</td><td>London     </td><td>Judo         </td><td>Judo Men's Extra-Lightweight      </td><td>NA  </td></tr>\n",
              "\t<tr><th scope=row>3</th><td>3</td><td>Gunnar Nielsen Aaby     </td><td>M</td><td>24</td><td> NA</td><td>NA</td><td>Denmark       </td><td>DEN</td><td>1920 Summer</td><td>1920</td><td>Summer</td><td>Antwerpen  </td><td>Football     </td><td>Football Men's Football           </td><td>NA  </td></tr>\n",
              "\t<tr><th scope=row>4</th><td>4</td><td>Edgar Lindenau Aabye    </td><td>M</td><td>34</td><td> NA</td><td>NA</td><td>Denmark/Sweden</td><td>DEN</td><td>1900 Summer</td><td>1900</td><td>Summer</td><td>Paris      </td><td>Tug-Of-War   </td><td>Tug-Of-War Men's Tug-Of-War       </td><td>Gold</td></tr>\n",
              "\t<tr><th scope=row>5</th><td>5</td><td>Christine Jacoba Aaftink</td><td>F</td><td>21</td><td>185</td><td>82</td><td>Netherlands   </td><td>NED</td><td>1988 Winter</td><td>1988</td><td>Winter</td><td>Calgary    </td><td>Speed Skating</td><td>Speed Skating Women's 500 metres  </td><td>NA  </td></tr>\n",
              "\t<tr><th scope=row>6</th><td>5</td><td>Christine Jacoba Aaftink</td><td>F</td><td>21</td><td>185</td><td>82</td><td>Netherlands   </td><td>NED</td><td>1988 Winter</td><td>1988</td><td>Winter</td><td>Calgary    </td><td>Speed Skating</td><td>Speed Skating Women's 1,000 metres</td><td>NA  </td></tr>\n",
              "\t<tr><th scope=row>7</th><td>5</td><td>Christine Jacoba Aaftink</td><td>F</td><td>25</td><td>185</td><td>82</td><td>Netherlands   </td><td>NED</td><td>1992 Winter</td><td>1992</td><td>Winter</td><td>Albertville</td><td>Speed Skating</td><td>Speed Skating Women's 500 metres  </td><td>NA  </td></tr>\n",
              "\t<tr><th scope=row>8</th><td>5</td><td>Christine Jacoba Aaftink</td><td>F</td><td>25</td><td>185</td><td>82</td><td>Netherlands   </td><td>NED</td><td>1992 Winter</td><td>1992</td><td>Winter</td><td>Albertville</td><td>Speed Skating</td><td>Speed Skating Women's 1,000 metres</td><td>NA  </td></tr>\n",
              "\t<tr><th scope=row>9</th><td>5</td><td>Christine Jacoba Aaftink</td><td>F</td><td>27</td><td>185</td><td>82</td><td>Netherlands   </td><td>NED</td><td>1994 Winter</td><td>1994</td><td>Winter</td><td>Lillehammer</td><td>Speed Skating</td><td>Speed Skating Women's 500 metres  </td><td>NA  </td></tr>\n",
              "\t<tr><th scope=row>10</th><td>5</td><td>Christine Jacoba Aaftink</td><td>F</td><td>27</td><td>185</td><td>82</td><td>Netherlands   </td><td>NED</td><td>1994 Winter</td><td>1994</td><td>Winter</td><td>Lillehammer</td><td>Speed Skating</td><td>Speed Skating Women's 1,000 metres</td><td>NA  </td></tr>\n",
              "</tbody>\n",
              "</table>\n"
            ],
            "text/markdown": "\nA data.frame: 10 × 15\n\n| <!--/--> | ID &lt;int&gt; | Name &lt;chr&gt; | Sex &lt;chr&gt; | Age &lt;int&gt; | Height &lt;int&gt; | Weight &lt;dbl&gt; | Team &lt;chr&gt; | NOC &lt;chr&gt; | Games &lt;chr&gt; | Year &lt;int&gt; | Season &lt;chr&gt; | City &lt;chr&gt; | Sport &lt;chr&gt; | Event &lt;chr&gt; | Medal &lt;chr&gt; |\n|---|---|---|---|---|---|---|---|---|---|---|---|---|---|---|---|\n| 1 | 1 | A Dijiang                | M | 24 | 180 | 80 | China          | CHN | 1992 Summer | 1992 | Summer | Barcelona   | Basketball    | Basketball Men's Basketball        | NA   |\n| 2 | 2 | A Lamusi                 | M | 23 | 170 | 60 | China          | CHN | 2012 Summer | 2012 | Summer | London      | Judo          | Judo Men's Extra-Lightweight       | NA   |\n| 3 | 3 | Gunnar Nielsen Aaby      | M | 24 |  NA | NA | Denmark        | DEN | 1920 Summer | 1920 | Summer | Antwerpen   | Football      | Football Men's Football            | NA   |\n| 4 | 4 | Edgar Lindenau Aabye     | M | 34 |  NA | NA | Denmark/Sweden | DEN | 1900 Summer | 1900 | Summer | Paris       | Tug-Of-War    | Tug-Of-War Men's Tug-Of-War        | Gold |\n| 5 | 5 | Christine Jacoba Aaftink | F | 21 | 185 | 82 | Netherlands    | NED | 1988 Winter | 1988 | Winter | Calgary     | Speed Skating | Speed Skating Women's 500 metres   | NA   |\n| 6 | 5 | Christine Jacoba Aaftink | F | 21 | 185 | 82 | Netherlands    | NED | 1988 Winter | 1988 | Winter | Calgary     | Speed Skating | Speed Skating Women's 1,000 metres | NA   |\n| 7 | 5 | Christine Jacoba Aaftink | F | 25 | 185 | 82 | Netherlands    | NED | 1992 Winter | 1992 | Winter | Albertville | Speed Skating | Speed Skating Women's 500 metres   | NA   |\n| 8 | 5 | Christine Jacoba Aaftink | F | 25 | 185 | 82 | Netherlands    | NED | 1992 Winter | 1992 | Winter | Albertville | Speed Skating | Speed Skating Women's 1,000 metres | NA   |\n| 9 | 5 | Christine Jacoba Aaftink | F | 27 | 185 | 82 | Netherlands    | NED | 1994 Winter | 1994 | Winter | Lillehammer | Speed Skating | Speed Skating Women's 500 metres   | NA   |\n| 10 | 5 | Christine Jacoba Aaftink | F | 27 | 185 | 82 | Netherlands    | NED | 1994 Winter | 1994 | Winter | Lillehammer | Speed Skating | Speed Skating Women's 1,000 metres | NA   |\n\n",
            "text/latex": "A data.frame: 10 × 15\n\\begin{tabular}{r|lllllllllllllll}\n  & ID & Name & Sex & Age & Height & Weight & Team & NOC & Games & Year & Season & City & Sport & Event & Medal\\\\\n  & <int> & <chr> & <chr> & <int> & <int> & <dbl> & <chr> & <chr> & <chr> & <int> & <chr> & <chr> & <chr> & <chr> & <chr>\\\\\n\\hline\n\t1 & 1 & A Dijiang                & M & 24 & 180 & 80 & China          & CHN & 1992 Summer & 1992 & Summer & Barcelona   & Basketball    & Basketball Men's Basketball        & NA  \\\\\n\t2 & 2 & A Lamusi                 & M & 23 & 170 & 60 & China          & CHN & 2012 Summer & 2012 & Summer & London      & Judo          & Judo Men's Extra-Lightweight       & NA  \\\\\n\t3 & 3 & Gunnar Nielsen Aaby      & M & 24 &  NA & NA & Denmark        & DEN & 1920 Summer & 1920 & Summer & Antwerpen   & Football      & Football Men's Football            & NA  \\\\\n\t4 & 4 & Edgar Lindenau Aabye     & M & 34 &  NA & NA & Denmark/Sweden & DEN & 1900 Summer & 1900 & Summer & Paris       & Tug-Of-War    & Tug-Of-War Men's Tug-Of-War        & Gold\\\\\n\t5 & 5 & Christine Jacoba Aaftink & F & 21 & 185 & 82 & Netherlands    & NED & 1988 Winter & 1988 & Winter & Calgary     & Speed Skating & Speed Skating Women's 500 metres   & NA  \\\\\n\t6 & 5 & Christine Jacoba Aaftink & F & 21 & 185 & 82 & Netherlands    & NED & 1988 Winter & 1988 & Winter & Calgary     & Speed Skating & Speed Skating Women's 1,000 metres & NA  \\\\\n\t7 & 5 & Christine Jacoba Aaftink & F & 25 & 185 & 82 & Netherlands    & NED & 1992 Winter & 1992 & Winter & Albertville & Speed Skating & Speed Skating Women's 500 metres   & NA  \\\\\n\t8 & 5 & Christine Jacoba Aaftink & F & 25 & 185 & 82 & Netherlands    & NED & 1992 Winter & 1992 & Winter & Albertville & Speed Skating & Speed Skating Women's 1,000 metres & NA  \\\\\n\t9 & 5 & Christine Jacoba Aaftink & F & 27 & 185 & 82 & Netherlands    & NED & 1994 Winter & 1994 & Winter & Lillehammer & Speed Skating & Speed Skating Women's 500 metres   & NA  \\\\\n\t10 & 5 & Christine Jacoba Aaftink & F & 27 & 185 & 82 & Netherlands    & NED & 1994 Winter & 1994 & Winter & Lillehammer & Speed Skating & Speed Skating Women's 1,000 metres & NA  \\\\\n\\end{tabular}\n",
            "text/plain": [
              "   ID Name                     Sex Age Height Weight Team           NOC\n",
              "1  1  A Dijiang                M   24  180    80     China          CHN\n",
              "2  2  A Lamusi                 M   23  170    60     China          CHN\n",
              "3  3  Gunnar Nielsen Aaby      M   24   NA    NA     Denmark        DEN\n",
              "4  4  Edgar Lindenau Aabye     M   34   NA    NA     Denmark/Sweden DEN\n",
              "5  5  Christine Jacoba Aaftink F   21  185    82     Netherlands    NED\n",
              "6  5  Christine Jacoba Aaftink F   21  185    82     Netherlands    NED\n",
              "7  5  Christine Jacoba Aaftink F   25  185    82     Netherlands    NED\n",
              "8  5  Christine Jacoba Aaftink F   25  185    82     Netherlands    NED\n",
              "9  5  Christine Jacoba Aaftink F   27  185    82     Netherlands    NED\n",
              "10 5  Christine Jacoba Aaftink F   27  185    82     Netherlands    NED\n",
              "   Games       Year Season City        Sport        \n",
              "1  1992 Summer 1992 Summer Barcelona   Basketball   \n",
              "2  2012 Summer 2012 Summer London      Judo         \n",
              "3  1920 Summer 1920 Summer Antwerpen   Football     \n",
              "4  1900 Summer 1900 Summer Paris       Tug-Of-War   \n",
              "5  1988 Winter 1988 Winter Calgary     Speed Skating\n",
              "6  1988 Winter 1988 Winter Calgary     Speed Skating\n",
              "7  1992 Winter 1992 Winter Albertville Speed Skating\n",
              "8  1992 Winter 1992 Winter Albertville Speed Skating\n",
              "9  1994 Winter 1994 Winter Lillehammer Speed Skating\n",
              "10 1994 Winter 1994 Winter Lillehammer Speed Skating\n",
              "   Event                              Medal\n",
              "1  Basketball Men's Basketball        NA   \n",
              "2  Judo Men's Extra-Lightweight       NA   \n",
              "3  Football Men's Football            NA   \n",
              "4  Tug-Of-War Men's Tug-Of-War        Gold \n",
              "5  Speed Skating Women's 500 metres   NA   \n",
              "6  Speed Skating Women's 1,000 metres NA   \n",
              "7  Speed Skating Women's 500 metres   NA   \n",
              "8  Speed Skating Women's 1,000 metres NA   \n",
              "9  Speed Skating Women's 500 metres   NA   \n",
              "10 Speed Skating Women's 1,000 metres NA   "
            ]
          },
          "metadata": {}
        }
      ]
    },
    {
      "cell_type": "markdown",
      "source": [
        "#### 2. Showing the number of rows and columns (in 3 ways)\n",
        "###### \"dim()\" is used to set the dimension of the data frame and output both number of rows and columns.<br> The data frame consists of 271,116 rows and 15 columns."
      ],
      "metadata": {
        "id": "XPB4iy-DJm56"
      }
    },
    {
      "cell_type": "code",
      "source": [
        "dim(athlete.df)"
      ],
      "metadata": {
        "colab": {
          "base_uri": "https://localhost:8080/",
          "height": 34
        },
        "id": "K-TzuxXGfAjr",
        "outputId": "91de1b6d-6e42-45d2-be1a-ebee9fefdd2b"
      },
      "execution_count": null,
      "outputs": [
        {
          "output_type": "display_data",
          "data": {
            "text/html": [
              "<style>\n",
              ".list-inline {list-style: none; margin:0; padding: 0}\n",
              ".list-inline>li {display: inline-block}\n",
              ".list-inline>li:not(:last-child)::after {content: \"\\00b7\"; padding: 0 .5ex}\n",
              "</style>\n",
              "<ol class=list-inline><li>271116</li><li>15</li></ol>\n"
            ],
            "text/markdown": "1. 271116\n2. 15\n\n\n",
            "text/latex": "\\begin{enumerate*}\n\\item 271116\n\\item 15\n\\end{enumerate*}\n",
            "text/plain": [
              "[1] 271116     15"
            ]
          },
          "metadata": {}
        }
      ]
    },
    {
      "cell_type": "markdown",
      "source": [
        "###### We can get the number of rows and columns by combining \"nrow()\", which counts the numebr of rows and \"ncol()\", which counts the number of columns, with \"c()\"."
      ],
      "metadata": {
        "id": "dtokxdRGMMTg"
      }
    },
    {
      "cell_type": "code",
      "source": [
        "c(nrow(athlete.df),ncol(athlete.df))"
      ],
      "metadata": {
        "colab": {
          "base_uri": "https://localhost:8080/",
          "height": 34
        },
        "id": "Snx58zRrfUOC",
        "outputId": "42573f91-98c2-4693-987b-f85401d0f85b"
      },
      "execution_count": null,
      "outputs": [
        {
          "output_type": "display_data",
          "data": {
            "text/html": [
              "<style>\n",
              ".list-inline {list-style: none; margin:0; padding: 0}\n",
              ".list-inline>li {display: inline-block}\n",
              ".list-inline>li:not(:last-child)::after {content: \"\\00b7\"; padding: 0 .5ex}\n",
              "</style>\n",
              "<ol class=list-inline><li>271116</li><li>15</li></ol>\n"
            ],
            "text/markdown": "1. 271116\n2. 15\n\n\n",
            "text/latex": "\\begin{enumerate*}\n\\item 271116\n\\item 15\n\\end{enumerate*}\n",
            "text/plain": [
              "[1] 271116     15"
            ]
          },
          "metadata": {}
        }
      ]
    },
    {
      "cell_type": "markdown",
      "source": [
        "###### We can also get the number of rows and columns with \"str()\" function showing the structure of a data frame."
      ],
      "metadata": {
        "id": "V_d1Czk4wMS7"
      }
    },
    {
      "cell_type": "code",
      "source": [
        "str(athlete.df)"
      ],
      "metadata": {
        "colab": {
          "base_uri": "https://localhost:8080/"
        },
        "id": "l7edJ-mdfgu8",
        "outputId": "7848fc5f-2c17-486a-b73c-2bb363112c1c"
      },
      "execution_count": null,
      "outputs": [
        {
          "output_type": "stream",
          "name": "stdout",
          "text": [
            "'data.frame':\t271116 obs. of  15 variables:\n",
            " $ ID    : int  1 2 3 4 5 5 5 5 5 5 ...\n",
            " $ Name  : chr  \"A Dijiang\" \"A Lamusi\" \"Gunnar Nielsen Aaby\" \"Edgar Lindenau Aabye\" ...\n",
            " $ Sex   : chr  \"M\" \"M\" \"M\" \"M\" ...\n",
            " $ Age   : int  24 23 24 34 21 21 25 25 27 27 ...\n",
            " $ Height: int  180 170 NA NA 185 185 185 185 185 185 ...\n",
            " $ Weight: num  80 60 NA NA 82 82 82 82 82 82 ...\n",
            " $ Team  : chr  \"China\" \"China\" \"Denmark\" \"Denmark/Sweden\" ...\n",
            " $ NOC   : chr  \"CHN\" \"CHN\" \"DEN\" \"DEN\" ...\n",
            " $ Games : chr  \"1992 Summer\" \"2012 Summer\" \"1920 Summer\" \"1900 Summer\" ...\n",
            " $ Year  : int  1992 2012 1920 1900 1988 1988 1992 1992 1994 1994 ...\n",
            " $ Season: chr  \"Summer\" \"Summer\" \"Summer\" \"Summer\" ...\n",
            " $ City  : chr  \"Barcelona\" \"London\" \"Antwerpen\" \"Paris\" ...\n",
            " $ Sport : chr  \"Basketball\" \"Judo\" \"Football\" \"Tug-Of-War\" ...\n",
            " $ Event : chr  \"Basketball Men's Basketball\" \"Judo Men's Extra-Lightweight\" \"Football Men's Football\" \"Tug-Of-War Men's Tug-Of-War\" ...\n",
            " $ Medal : chr  NA NA NA \"Gold\" ...\n"
          ]
        }
      ]
    },
    {
      "cell_type": "markdown",
      "source": [
        "#### 3. Showing percentiles of the numerical values\n",
        "###### The \"quantile()\" function is used to find the percentile and a number between 0 and 1 can be input to the parameter.<br> The central value of \"Age\" column which has numeric values was obtained, by entering 0.5.<br> With the argument \"na.rm=TRUE\", missing values can be excluded."
      ],
      "metadata": {
        "id": "LB_S4dbcMlA-"
      }
    },
    {
      "cell_type": "code",
      "source": [
        "quantile(athlete.df$Age, 0.5, na.rm=TRUE)"
      ],
      "metadata": {
        "colab": {
          "base_uri": "https://localhost:8080/",
          "height": 34
        },
        "id": "ku95EpUlflOG",
        "outputId": "bf36abac-d373-4635-c2ed-a45a4238a4c2"
      },
      "execution_count": null,
      "outputs": [
        {
          "output_type": "display_data",
          "data": {
            "text/html": [
              "<strong>50%:</strong> 24"
            ],
            "text/markdown": "**50%:** 24",
            "text/latex": "\\textbf{50\\textbackslash{}\\%:} 24",
            "text/plain": [
              "50% \n",
              " 24 "
            ]
          },
          "metadata": {}
        }
      ]
    },
    {
      "cell_type": "markdown",
      "source": [
        "#### 4. Showing some valuable information\n",
        "###### The pipe operator, \"%>%\" is an operator that concatenates commands functions.<br> First, extract the data excluding missing values from the medal column by using \"filter()\" function used to select specific rows that satisfy a certain condition from a column.<br> Secondly, sort them by gender(which is Sex column) using \"group_by\" function which groups the data frame by multiple columns.<br> Lastly, the sum of the numbers for each type of medal is calculated by using \"count()\" function counts number of values.<br> The total of medals by gender and medal type is calculated. From this, it can be confirmed that male athletes won more medals than female athletes for all three types of medals."
      ],
      "metadata": {
        "id": "b7m0MN9RM1hs"
      }
    },
    {
      "cell_type": "code",
      "source": [
        "athlete.df %>% filter(is.na(Medal) == FALSE) %>% group_by(Sex) %>% count(Medal)"
      ],
      "metadata": {
        "colab": {
          "base_uri": "https://localhost:8080/",
          "height": 286
        },
        "id": "nsdGQ-3dgRKr",
        "outputId": "3b0c8ec5-1b98-4431-d33f-a030705f31a6"
      },
      "execution_count": null,
      "outputs": [
        {
          "output_type": "display_data",
          "data": {
            "text/html": [
              "<table class=\"dataframe\">\n",
              "<caption>A grouped_df: 6 × 3</caption>\n",
              "<thead>\n",
              "\t<tr><th scope=col>Sex</th><th scope=col>Medal</th><th scope=col>n</th></tr>\n",
              "\t<tr><th scope=col>&lt;chr&gt;</th><th scope=col>&lt;chr&gt;</th><th scope=col>&lt;int&gt;</th></tr>\n",
              "</thead>\n",
              "<tbody>\n",
              "\t<tr><td>F</td><td>Bronze</td><td>3771</td></tr>\n",
              "\t<tr><td>F</td><td>Gold  </td><td>3747</td></tr>\n",
              "\t<tr><td>F</td><td>Silver</td><td>3735</td></tr>\n",
              "\t<tr><td>M</td><td>Bronze</td><td>9524</td></tr>\n",
              "\t<tr><td>M</td><td>Gold  </td><td>9625</td></tr>\n",
              "\t<tr><td>M</td><td>Silver</td><td>9381</td></tr>\n",
              "</tbody>\n",
              "</table>\n"
            ],
            "text/markdown": "\nA grouped_df: 6 × 3\n\n| Sex &lt;chr&gt; | Medal &lt;chr&gt; | n &lt;int&gt; |\n|---|---|---|\n| F | Bronze | 3771 |\n| F | Gold   | 3747 |\n| F | Silver | 3735 |\n| M | Bronze | 9524 |\n| M | Gold   | 9625 |\n| M | Silver | 9381 |\n\n",
            "text/latex": "A grouped\\_df: 6 × 3\n\\begin{tabular}{lll}\n Sex & Medal & n\\\\\n <chr> & <chr> & <int>\\\\\n\\hline\n\t F & Bronze & 3771\\\\\n\t F & Gold   & 3747\\\\\n\t F & Silver & 3735\\\\\n\t M & Bronze & 9524\\\\\n\t M & Gold   & 9625\\\\\n\t M & Silver & 9381\\\\\n\\end{tabular}\n",
            "text/plain": [
              "  Sex Medal  n   \n",
              "1 F   Bronze 3771\n",
              "2 F   Gold   3747\n",
              "3 F   Silver 3735\n",
              "4 M   Bronze 9524\n",
              "5 M   Gold   9625\n",
              "6 M   Silver 9381"
            ]
          },
          "metadata": {}
        }
      ]
    },
    {
      "cell_type": "markdown",
      "source": [
        "## **3) One column selection**"
      ],
      "metadata": {
        "id": "xkuyk8WM60ni"
      }
    },
    {
      "cell_type": "markdown",
      "source": [
        "###### First, to avoid duplicate data, use \"distinct()\" to remove duplicate rows of a dataframe if they exist. And name this data frame \"athlete.df1\"."
      ],
      "metadata": {
        "id": "ipKklZUb35ZP"
      }
    },
    {
      "cell_type": "code",
      "source": [
        " athlete.df1 <- distinct(athlete.df)"
      ],
      "metadata": {
        "id": "-sTVZ7EogZPR"
      },
      "execution_count": null,
      "outputs": []
    },
    {
      "cell_type": "markdown",
      "source": [
        "###### By calling the \"tail\" function that displays the last n rows together with \"sort()\" function that sorts the vales in ascending order, 10 largest number of age coulumn is printed."
      ],
      "metadata": {
        "id": "Po3UMCqlMeuI"
      }
    },
    {
      "cell_type": "code",
      "source": [
        "tail(sort(athlete.df1$Age),10)"
      ],
      "metadata": {
        "colab": {
          "base_uri": "https://localhost:8080/",
          "height": 34
        },
        "id": "n8kqhsHdlqbT",
        "outputId": "84f2b524-369b-4c3e-b6bf-9acd9bbeee90"
      },
      "execution_count": null,
      "outputs": [
        {
          "output_type": "display_data",
          "data": {
            "text/html": [
              "<style>\n",
              ".list-inline {list-style: none; margin:0; padding: 0}\n",
              ".list-inline>li {display: inline-block}\n",
              ".list-inline>li:not(:last-child)::after {content: \"\\00b7\"; padding: 0 .5ex}\n",
              "</style>\n",
              "<ol class=list-inline><li>76</li><li>76</li><li>77</li><li>80</li><li>81</li><li>81</li><li>84</li><li>88</li><li>96</li><li>97</li></ol>\n"
            ],
            "text/markdown": "1. 76\n2. 76\n3. 77\n4. 80\n5. 81\n6. 81\n7. 84\n8. 88\n9. 96\n10. 97\n\n\n",
            "text/latex": "\\begin{enumerate*}\n\\item 76\n\\item 76\n\\item 77\n\\item 80\n\\item 81\n\\item 81\n\\item 84\n\\item 88\n\\item 96\n\\item 97\n\\end{enumerate*}\n",
            "text/plain": [
              " [1] 76 76 77 80 81 81 84 88 96 97"
            ]
          },
          "metadata": {}
        }
      ]
    },
    {
      "cell_type": "markdown",
      "source": [
        "###### For more detail, use \"slice_max()\" which returns rows with the highest values of the data frame based on a column.<br> If there are data with the same frequency, more rows may appear than the number of rows requested. To ignore ties, use \"with_ties\" option as \"FALSE\" and the data of 10 rows can be extracted as requested.<br> The top 10 data extraction from the Age column reveals that the oldest athlete who prticipated in the Olympic was 97 years old John Quincy Adams Ward."
      ],
      "metadata": {
        "id": "JEWk3kPe4pXf"
      }
    },
    {
      "cell_type": "code",
      "source": [
        "athlete.df1 %>% slice_max(athlete.df1$Age, n=10, with_ties = FALSE)"
      ],
      "metadata": {
        "colab": {
          "base_uri": "https://localhost:8080/",
          "height": 1000
        },
        "id": "5PTxiL3IhU01",
        "outputId": "882b543a-bad0-4223-f801-98f5b0dd09ff"
      },
      "execution_count": null,
      "outputs": [
        {
          "output_type": "display_data",
          "data": {
            "text/html": [
              "<table class=\"dataframe\">\n",
              "<caption>A data.frame: 10 × 15</caption>\n",
              "<thead>\n",
              "\t<tr><th scope=col>ID</th><th scope=col>Name</th><th scope=col>Sex</th><th scope=col>Age</th><th scope=col>Height</th><th scope=col>Weight</th><th scope=col>Team</th><th scope=col>NOC</th><th scope=col>Games</th><th scope=col>Year</th><th scope=col>Season</th><th scope=col>City</th><th scope=col>Sport</th><th scope=col>Event</th><th scope=col>Medal</th></tr>\n",
              "\t<tr><th scope=col>&lt;int&gt;</th><th scope=col>&lt;chr&gt;</th><th scope=col>&lt;chr&gt;</th><th scope=col>&lt;int&gt;</th><th scope=col>&lt;int&gt;</th><th scope=col>&lt;dbl&gt;</th><th scope=col>&lt;chr&gt;</th><th scope=col>&lt;chr&gt;</th><th scope=col>&lt;chr&gt;</th><th scope=col>&lt;int&gt;</th><th scope=col>&lt;chr&gt;</th><th scope=col>&lt;chr&gt;</th><th scope=col>&lt;chr&gt;</th><th scope=col>&lt;chr&gt;</th><th scope=col>&lt;chr&gt;</th></tr>\n",
              "</thead>\n",
              "<tbody>\n",
              "\t<tr><td>128719</td><td>John Quincy Adams Ward    </td><td>M</td><td>97</td><td>NA</td><td>NA</td><td>United States</td><td>USA</td><td>1928 Summer</td><td>1928</td><td>Summer</td><td>Amsterdam  </td><td>Art Competitions</td><td>Art Competitions Mixed Sculpturing, Statues      </td><td>NA</td></tr>\n",
              "\t<tr><td> 49663</td><td>Winslow Homer             </td><td>M</td><td>96</td><td>NA</td><td>NA</td><td>United States</td><td>USA</td><td>1932 Summer</td><td>1932</td><td>Summer</td><td>Los Angeles</td><td>Art Competitions</td><td>Art Competitions Mixed Painting, Unknown Event   </td><td>NA</td></tr>\n",
              "\t<tr><td> 31173</td><td>Thomas Cowperthwait Eakins</td><td>M</td><td>88</td><td>NA</td><td>NA</td><td>United States</td><td>USA</td><td>1932 Summer</td><td>1932</td><td>Summer</td><td>Los Angeles</td><td>Art Competitions</td><td>Art Competitions Mixed Painting, Unknown Event   </td><td>NA</td></tr>\n",
              "\t<tr><td>  5146</td><td>George Denholm Armour     </td><td>M</td><td>84</td><td>NA</td><td>NA</td><td>Great Britain</td><td>GBR</td><td>1948 Summer</td><td>1948</td><td>Summer</td><td>London     </td><td>Art Competitions</td><td>Art Competitions Mixed Painting, Unknown Event   </td><td>NA</td></tr>\n",
              "\t<tr><td> 77710</td><td>Robert Tait McKenzie      </td><td>M</td><td>81</td><td>NA</td><td>NA</td><td>Canada       </td><td>CAN</td><td>1948 Summer</td><td>1948</td><td>Summer</td><td>London     </td><td>Art Competitions</td><td>Art Competitions Mixed Sculpturing, Unknown Event</td><td>NA</td></tr>\n",
              "\t<tr><td>118789</td><td>Louis Tauzin              </td><td>M</td><td>81</td><td>NA</td><td>NA</td><td>France       </td><td>FRA</td><td>1924 Summer</td><td>1924</td><td>Summer</td><td>Paris      </td><td>Art Competitions</td><td>Art Competitions Mixed Sculpturing               </td><td>NA</td></tr>\n",
              "\t<tr><td> 69729</td><td>Max Liebermann            </td><td>M</td><td>80</td><td>NA</td><td>NA</td><td>Germany      </td><td>GER</td><td>1928 Summer</td><td>1928</td><td>Summer</td><td>Amsterdam  </td><td>Art Competitions</td><td>Art Competitions Mixed Painting, Graphic Arts    </td><td>NA</td></tr>\n",
              "\t<tr><td> 85936</td><td>Charles Henry Niehaus     </td><td>M</td><td>77</td><td>NA</td><td>NA</td><td>United States</td><td>USA</td><td>1932 Summer</td><td>1932</td><td>Summer</td><td>Los Angeles</td><td>Art Competitions</td><td>Art Competitions Mixed Sculpturing, Unknown Event</td><td>NA</td></tr>\n",
              "\t<tr><td> 28993</td><td>Albin Dbrich              </td><td>M</td><td>76</td><td>NA</td><td>NA</td><td>Austria      </td><td>AUT</td><td>1948 Summer</td><td>1948</td><td>Summer</td><td>London     </td><td>Art Competitions</td><td>Art Competitions Mixed Sculpturing, Unknown Event</td><td>NA</td></tr>\n",
              "\t<tr><td> 32215</td><td>George Alfred Elcock      </td><td>M</td><td>76</td><td>NA</td><td>NA</td><td>Great Britain</td><td>GBR</td><td>1932 Summer</td><td>1932</td><td>Summer</td><td>Los Angeles</td><td>Art Competitions</td><td>Art Competitions Mixed Painting, Unknown Event   </td><td>NA</td></tr>\n",
              "</tbody>\n",
              "</table>\n"
            ],
            "text/markdown": "\nA data.frame: 10 × 15\n\n| ID &lt;int&gt; | Name &lt;chr&gt; | Sex &lt;chr&gt; | Age &lt;int&gt; | Height &lt;int&gt; | Weight &lt;dbl&gt; | Team &lt;chr&gt; | NOC &lt;chr&gt; | Games &lt;chr&gt; | Year &lt;int&gt; | Season &lt;chr&gt; | City &lt;chr&gt; | Sport &lt;chr&gt; | Event &lt;chr&gt; | Medal &lt;chr&gt; |\n|---|---|---|---|---|---|---|---|---|---|---|---|---|---|---|\n| 128719 | John Quincy Adams Ward     | M | 97 | NA | NA | United States | USA | 1928 Summer | 1928 | Summer | Amsterdam   | Art Competitions | Art Competitions Mixed Sculpturing, Statues       | NA |\n|  49663 | Winslow Homer              | M | 96 | NA | NA | United States | USA | 1932 Summer | 1932 | Summer | Los Angeles | Art Competitions | Art Competitions Mixed Painting, Unknown Event    | NA |\n|  31173 | Thomas Cowperthwait Eakins | M | 88 | NA | NA | United States | USA | 1932 Summer | 1932 | Summer | Los Angeles | Art Competitions | Art Competitions Mixed Painting, Unknown Event    | NA |\n|   5146 | George Denholm Armour      | M | 84 | NA | NA | Great Britain | GBR | 1948 Summer | 1948 | Summer | London      | Art Competitions | Art Competitions Mixed Painting, Unknown Event    | NA |\n|  77710 | Robert Tait McKenzie       | M | 81 | NA | NA | Canada        | CAN | 1948 Summer | 1948 | Summer | London      | Art Competitions | Art Competitions Mixed Sculpturing, Unknown Event | NA |\n| 118789 | Louis Tauzin               | M | 81 | NA | NA | France        | FRA | 1924 Summer | 1924 | Summer | Paris       | Art Competitions | Art Competitions Mixed Sculpturing                | NA |\n|  69729 | Max Liebermann             | M | 80 | NA | NA | Germany       | GER | 1928 Summer | 1928 | Summer | Amsterdam   | Art Competitions | Art Competitions Mixed Painting, Graphic Arts     | NA |\n|  85936 | Charles Henry Niehaus      | M | 77 | NA | NA | United States | USA | 1932 Summer | 1932 | Summer | Los Angeles | Art Competitions | Art Competitions Mixed Sculpturing, Unknown Event | NA |\n|  28993 | Albin Dbrich               | M | 76 | NA | NA | Austria       | AUT | 1948 Summer | 1948 | Summer | London      | Art Competitions | Art Competitions Mixed Sculpturing, Unknown Event | NA |\n|  32215 | George Alfred Elcock       | M | 76 | NA | NA | Great Britain | GBR | 1932 Summer | 1932 | Summer | Los Angeles | Art Competitions | Art Competitions Mixed Painting, Unknown Event    | NA |\n\n",
            "text/latex": "A data.frame: 10 × 15\n\\begin{tabular}{lllllllllllllll}\n ID & Name & Sex & Age & Height & Weight & Team & NOC & Games & Year & Season & City & Sport & Event & Medal\\\\\n <int> & <chr> & <chr> & <int> & <int> & <dbl> & <chr> & <chr> & <chr> & <int> & <chr> & <chr> & <chr> & <chr> & <chr>\\\\\n\\hline\n\t 128719 & John Quincy Adams Ward     & M & 97 & NA & NA & United States & USA & 1928 Summer & 1928 & Summer & Amsterdam   & Art Competitions & Art Competitions Mixed Sculpturing, Statues       & NA\\\\\n\t  49663 & Winslow Homer              & M & 96 & NA & NA & United States & USA & 1932 Summer & 1932 & Summer & Los Angeles & Art Competitions & Art Competitions Mixed Painting, Unknown Event    & NA\\\\\n\t  31173 & Thomas Cowperthwait Eakins & M & 88 & NA & NA & United States & USA & 1932 Summer & 1932 & Summer & Los Angeles & Art Competitions & Art Competitions Mixed Painting, Unknown Event    & NA\\\\\n\t   5146 & George Denholm Armour      & M & 84 & NA & NA & Great Britain & GBR & 1948 Summer & 1948 & Summer & London      & Art Competitions & Art Competitions Mixed Painting, Unknown Event    & NA\\\\\n\t  77710 & Robert Tait McKenzie       & M & 81 & NA & NA & Canada        & CAN & 1948 Summer & 1948 & Summer & London      & Art Competitions & Art Competitions Mixed Sculpturing, Unknown Event & NA\\\\\n\t 118789 & Louis Tauzin               & M & 81 & NA & NA & France        & FRA & 1924 Summer & 1924 & Summer & Paris       & Art Competitions & Art Competitions Mixed Sculpturing                & NA\\\\\n\t  69729 & Max Liebermann             & M & 80 & NA & NA & Germany       & GER & 1928 Summer & 1928 & Summer & Amsterdam   & Art Competitions & Art Competitions Mixed Painting, Graphic Arts     & NA\\\\\n\t  85936 & Charles Henry Niehaus      & M & 77 & NA & NA & United States & USA & 1932 Summer & 1932 & Summer & Los Angeles & Art Competitions & Art Competitions Mixed Sculpturing, Unknown Event & NA\\\\\n\t  28993 & Albin Dbrich               & M & 76 & NA & NA & Austria       & AUT & 1948 Summer & 1948 & Summer & London      & Art Competitions & Art Competitions Mixed Sculpturing, Unknown Event & NA\\\\\n\t  32215 & George Alfred Elcock       & M & 76 & NA & NA & Great Britain & GBR & 1932 Summer & 1932 & Summer & Los Angeles & Art Competitions & Art Competitions Mixed Painting, Unknown Event    & NA\\\\\n\\end{tabular}\n",
            "text/plain": [
              "   ID     Name                       Sex Age Height Weight Team          NOC\n",
              "1  128719 John Quincy Adams Ward     M   97  NA     NA     United States USA\n",
              "2   49663 Winslow Homer              M   96  NA     NA     United States USA\n",
              "3   31173 Thomas Cowperthwait Eakins M   88  NA     NA     United States USA\n",
              "4    5146 George Denholm Armour      M   84  NA     NA     Great Britain GBR\n",
              "5   77710 Robert Tait McKenzie       M   81  NA     NA     Canada        CAN\n",
              "6  118789 Louis Tauzin               M   81  NA     NA     France        FRA\n",
              "7   69729 Max Liebermann             M   80  NA     NA     Germany       GER\n",
              "8   85936 Charles Henry Niehaus      M   77  NA     NA     United States USA\n",
              "9   28993 Albin Dbrich               M   76  NA     NA     Austria       AUT\n",
              "10  32215 George Alfred Elcock       M   76  NA     NA     Great Britain GBR\n",
              "   Games       Year Season City        Sport           \n",
              "1  1928 Summer 1928 Summer Amsterdam   Art Competitions\n",
              "2  1932 Summer 1932 Summer Los Angeles Art Competitions\n",
              "3  1932 Summer 1932 Summer Los Angeles Art Competitions\n",
              "4  1948 Summer 1948 Summer London      Art Competitions\n",
              "5  1948 Summer 1948 Summer London      Art Competitions\n",
              "6  1924 Summer 1924 Summer Paris       Art Competitions\n",
              "7  1928 Summer 1928 Summer Amsterdam   Art Competitions\n",
              "8  1932 Summer 1932 Summer Los Angeles Art Competitions\n",
              "9  1948 Summer 1948 Summer London      Art Competitions\n",
              "10 1932 Summer 1932 Summer Los Angeles Art Competitions\n",
              "   Event                                             Medal\n",
              "1  Art Competitions Mixed Sculpturing, Statues       NA   \n",
              "2  Art Competitions Mixed Painting, Unknown Event    NA   \n",
              "3  Art Competitions Mixed Painting, Unknown Event    NA   \n",
              "4  Art Competitions Mixed Painting, Unknown Event    NA   \n",
              "5  Art Competitions Mixed Sculpturing, Unknown Event NA   \n",
              "6  Art Competitions Mixed Sculpturing                NA   \n",
              "7  Art Competitions Mixed Painting, Graphic Arts     NA   \n",
              "8  Art Competitions Mixed Sculpturing, Unknown Event NA   \n",
              "9  Art Competitions Mixed Sculpturing, Unknown Event NA   \n",
              "10 Art Competitions Mixed Painting, Unknown Event    NA   "
            ]
          },
          "metadata": {}
        }
      ]
    },
    {
      "cell_type": "markdown",
      "source": [
        "## **4) Series**"
      ],
      "metadata": {
        "id": "rpUdRREF-IFO"
      }
    },
    {
      "cell_type": "markdown",
      "source": [
        "###### Extract specific columns from the data frame named \"athlete.df' and create a new data frame named \"athlete.df2\". In this case, 5 columns(ID, Name, Sex, Sport, Medal) are extracted.<br> After that, use \"filter()\" function to extract the rows corresponding to the \"Gold\" medal on medal column.<br> Use \"group_by()\" function to group the data frame by ID, Name, Sex, Sport and Medal columns.<br> Use \"count()\" function to get the sum of the number of gold medlas awarded by ID. By based on ID column, it prevents errors that may occur, such as when people with the same name are grouped together based on the name.<br>\n"
      ],
      "metadata": {
        "id": "RA2o46_JThyq"
      }
    },
    {
      "cell_type": "code",
      "source": [
        "athlete.df2 <- athlete.df[c(1,2,3,13,15)] %>% filter(Medal == \"Gold\") %>% group_by(ID, Name, Sex, Sport, Medal) %>% count(ID)"
      ],
      "metadata": {
        "id": "qsBi_2WbhbB-"
      },
      "execution_count": null,
      "outputs": []
    },
    {
      "cell_type": "markdown",
      "source": [
        "###### Extract 1~20 rows using the subset funtion, \"[]\".<br> The output shows that columnn \"n\" containing the values calculated through \"count()\" function along with 20 rows and 5 columns extracted from the data frame. The column \"n\" appended to the end represents the number of gold medals."
      ],
      "metadata": {
        "id": "Zhwy29C4YKqU"
      }
    },
    {
      "cell_type": "code",
      "source": [
        "athlete.df2[1:20,]"
      ],
      "metadata": {
        "colab": {
          "base_uri": "https://localhost:8080/",
          "height": 725
        },
        "id": "omaAMTEtiedq",
        "outputId": "f521a2cf-57c0-4bb8-91b0-e3b7293cc205"
      },
      "execution_count": null,
      "outputs": [
        {
          "output_type": "display_data",
          "data": {
            "text/html": [
              "<table class=\"dataframe\">\n",
              "<caption>A grouped_df: 20 × 6</caption>\n",
              "<thead>\n",
              "\t<tr><th scope=col>ID</th><th scope=col>Name</th><th scope=col>Sex</th><th scope=col>Sport</th><th scope=col>Medal</th><th scope=col>n</th></tr>\n",
              "\t<tr><th scope=col>&lt;int&gt;</th><th scope=col>&lt;chr&gt;</th><th scope=col>&lt;chr&gt;</th><th scope=col>&lt;chr&gt;</th><th scope=col>&lt;chr&gt;</th><th scope=col>&lt;int&gt;</th></tr>\n",
              "</thead>\n",
              "<tbody>\n",
              "\t<tr><td>  4</td><td>Edgar Lindenau Aabye            </td><td>M</td><td>Tug-Of-War   </td><td>Gold</td><td>1</td></tr>\n",
              "\t<tr><td> 17</td><td>Paavo Johannes Aaltonen         </td><td>M</td><td>Gymnastics   </td><td>Gold</td><td>3</td></tr>\n",
              "\t<tr><td> 20</td><td>Kjetil Andr Aamodt              </td><td>M</td><td>Alpine Skiing</td><td>Gold</td><td>4</td></tr>\n",
              "\t<tr><td> 21</td><td>Ragnhild Margrethe Aamodt       </td><td>F</td><td>Handball     </td><td>Gold</td><td>1</td></tr>\n",
              "\t<tr><td> 40</td><td>Roald Edgar Aas                 </td><td>M</td><td>Speed Skating</td><td>Gold</td><td>1</td></tr>\n",
              "\t<tr><td> 42</td><td>Thomas Valentin Aas             </td><td>M</td><td>Sailing      </td><td>Gold</td><td>1</td></tr>\n",
              "\t<tr><td> 56</td><td>Ren Abadie                      </td><td>M</td><td>Cycling      </td><td>Gold</td><td>1</td></tr>\n",
              "\t<tr><td> 72</td><td>Aleksey Aleksandrovich Abalmasov</td><td>M</td><td>Canoeing     </td><td>Gold</td><td>1</td></tr>\n",
              "\t<tr><td> 73</td><td>Luc Abalo                       </td><td>M</td><td>Handball     </td><td>Gold</td><td>2</td></tr>\n",
              "\t<tr><td> 76</td><td>Jouan Patrice Abanda Etong      </td><td>M</td><td>Football     </td><td>Gold</td><td>1</td></tr>\n",
              "\t<tr><td> 80</td><td>Jos Mara Abarca Plotas          </td><td>M</td><td>Water Polo   </td><td>Gold</td><td>1</td></tr>\n",
              "\t<tr><td> 85</td><td>Alejandro Abascal Garca         </td><td>M</td><td>Sailing      </td><td>Gold</td><td>1</td></tr>\n",
              "\t<tr><td> 93</td><td>Jol Marc Abati                  </td><td>M</td><td>Handball     </td><td>Gold</td><td>1</td></tr>\n",
              "\t<tr><td>106</td><td>Agostino Abbagnale              </td><td>M</td><td>Rowing       </td><td>Gold</td><td>3</td></tr>\n",
              "\t<tr><td>107</td><td>Carmine Abbagnale               </td><td>M</td><td>Rowing       </td><td>Gold</td><td>2</td></tr>\n",
              "\t<tr><td>108</td><td>Giuseppe Abbagnale              </td><td>M</td><td>Rowing       </td><td>Gold</td><td>2</td></tr>\n",
              "\t<tr><td>150</td><td>Margaret Ives Abbott (-Dunne)   </td><td>F</td><td>Golf         </td><td>Gold</td><td>1</td></tr>\n",
              "\t<tr><td>297</td><td>Lala Abdul Rashid               </td><td>M</td><td>Hockey       </td><td>Gold</td><td>1</td></tr>\n",
              "\t<tr><td>316</td><td>Zagalav Abdulbekovich Abdulbekov</td><td>M</td><td>Wrestling    </td><td>Gold</td><td>1</td></tr>\n",
              "\t<tr><td>337</td><td>Mukhammad Kadyr Abdullayev      </td><td>M</td><td>Boxing       </td><td>Gold</td><td>1</td></tr>\n",
              "</tbody>\n",
              "</table>\n"
            ],
            "text/markdown": "\nA grouped_df: 20 × 6\n\n| ID &lt;int&gt; | Name &lt;chr&gt; | Sex &lt;chr&gt; | Sport &lt;chr&gt; | Medal &lt;chr&gt; | n &lt;int&gt; |\n|---|---|---|---|---|---|\n|   4 | Edgar Lindenau Aabye             | M | Tug-Of-War    | Gold | 1 |\n|  17 | Paavo Johannes Aaltonen          | M | Gymnastics    | Gold | 3 |\n|  20 | Kjetil Andr Aamodt               | M | Alpine Skiing | Gold | 4 |\n|  21 | Ragnhild Margrethe Aamodt        | F | Handball      | Gold | 1 |\n|  40 | Roald Edgar Aas                  | M | Speed Skating | Gold | 1 |\n|  42 | Thomas Valentin Aas              | M | Sailing       | Gold | 1 |\n|  56 | Ren Abadie                       | M | Cycling       | Gold | 1 |\n|  72 | Aleksey Aleksandrovich Abalmasov | M | Canoeing      | Gold | 1 |\n|  73 | Luc Abalo                        | M | Handball      | Gold | 2 |\n|  76 | Jouan Patrice Abanda Etong       | M | Football      | Gold | 1 |\n|  80 | Jos Mara Abarca Plotas           | M | Water Polo    | Gold | 1 |\n|  85 | Alejandro Abascal Garca          | M | Sailing       | Gold | 1 |\n|  93 | Jol Marc Abati                   | M | Handball      | Gold | 1 |\n| 106 | Agostino Abbagnale               | M | Rowing        | Gold | 3 |\n| 107 | Carmine Abbagnale                | M | Rowing        | Gold | 2 |\n| 108 | Giuseppe Abbagnale               | M | Rowing        | Gold | 2 |\n| 150 | Margaret Ives Abbott (-Dunne)    | F | Golf          | Gold | 1 |\n| 297 | Lala Abdul Rashid                | M | Hockey        | Gold | 1 |\n| 316 | Zagalav Abdulbekovich Abdulbekov | M | Wrestling     | Gold | 1 |\n| 337 | Mukhammad Kadyr Abdullayev       | M | Boxing        | Gold | 1 |\n\n",
            "text/latex": "A grouped\\_df: 20 × 6\n\\begin{tabular}{llllll}\n ID & Name & Sex & Sport & Medal & n\\\\\n <int> & <chr> & <chr> & <chr> & <chr> & <int>\\\\\n\\hline\n\t   4 & Edgar Lindenau Aabye             & M & Tug-Of-War    & Gold & 1\\\\\n\t  17 & Paavo Johannes Aaltonen          & M & Gymnastics    & Gold & 3\\\\\n\t  20 & Kjetil Andr Aamodt               & M & Alpine Skiing & Gold & 4\\\\\n\t  21 & Ragnhild Margrethe Aamodt        & F & Handball      & Gold & 1\\\\\n\t  40 & Roald Edgar Aas                  & M & Speed Skating & Gold & 1\\\\\n\t  42 & Thomas Valentin Aas              & M & Sailing       & Gold & 1\\\\\n\t  56 & Ren Abadie                       & M & Cycling       & Gold & 1\\\\\n\t  72 & Aleksey Aleksandrovich Abalmasov & M & Canoeing      & Gold & 1\\\\\n\t  73 & Luc Abalo                        & M & Handball      & Gold & 2\\\\\n\t  76 & Jouan Patrice Abanda Etong       & M & Football      & Gold & 1\\\\\n\t  80 & Jos Mara Abarca Plotas           & M & Water Polo    & Gold & 1\\\\\n\t  85 & Alejandro Abascal Garca          & M & Sailing       & Gold & 1\\\\\n\t  93 & Jol Marc Abati                   & M & Handball      & Gold & 1\\\\\n\t 106 & Agostino Abbagnale               & M & Rowing        & Gold & 3\\\\\n\t 107 & Carmine Abbagnale                & M & Rowing        & Gold & 2\\\\\n\t 108 & Giuseppe Abbagnale               & M & Rowing        & Gold & 2\\\\\n\t 150 & Margaret Ives Abbott (-Dunne)    & F & Golf          & Gold & 1\\\\\n\t 297 & Lala Abdul Rashid                & M & Hockey        & Gold & 1\\\\\n\t 316 & Zagalav Abdulbekovich Abdulbekov & M & Wrestling     & Gold & 1\\\\\n\t 337 & Mukhammad Kadyr Abdullayev       & M & Boxing        & Gold & 1\\\\\n\\end{tabular}\n",
            "text/plain": [
              "   ID  Name                             Sex Sport         Medal n\n",
              "1    4 Edgar Lindenau Aabye             M   Tug-Of-War    Gold  1\n",
              "2   17 Paavo Johannes Aaltonen          M   Gymnastics    Gold  3\n",
              "3   20 Kjetil Andr Aamodt               M   Alpine Skiing Gold  4\n",
              "4   21 Ragnhild Margrethe Aamodt        F   Handball      Gold  1\n",
              "5   40 Roald Edgar Aas                  M   Speed Skating Gold  1\n",
              "6   42 Thomas Valentin Aas              M   Sailing       Gold  1\n",
              "7   56 Ren Abadie                       M   Cycling       Gold  1\n",
              "8   72 Aleksey Aleksandrovich Abalmasov M   Canoeing      Gold  1\n",
              "9   73 Luc Abalo                        M   Handball      Gold  2\n",
              "10  76 Jouan Patrice Abanda Etong       M   Football      Gold  1\n",
              "11  80 Jos Mara Abarca Plotas           M   Water Polo    Gold  1\n",
              "12  85 Alejandro Abascal Garca          M   Sailing       Gold  1\n",
              "13  93 Jol Marc Abati                   M   Handball      Gold  1\n",
              "14 106 Agostino Abbagnale               M   Rowing        Gold  3\n",
              "15 107 Carmine Abbagnale                M   Rowing        Gold  2\n",
              "16 108 Giuseppe Abbagnale               M   Rowing        Gold  2\n",
              "17 150 Margaret Ives Abbott (-Dunne)    F   Golf          Gold  1\n",
              "18 297 Lala Abdul Rashid                M   Hockey        Gold  1\n",
              "19 316 Zagalav Abdulbekovich Abdulbekov M   Wrestling     Gold  1\n",
              "20 337 Mukhammad Kadyr Abdullayev       M   Boxing        Gold  1"
            ]
          },
          "metadata": {}
        }
      ]
    },
    {
      "cell_type": "markdown",
      "source": [
        "###### Since \"arrange()\" function, which sorts the rows of data frame, defaults to ascending order, use \"desc()\" together to sort the n column in descending order.<br> The function \"head()\" returns the first n rows of data frame. By putting 10, the top 10 rows from the data frame are extracted."
      ],
      "metadata": {
        "id": "mh-rhaf1iuD5"
      }
    },
    {
      "cell_type": "code",
      "source": [
        "athlete.df3 <- head(arrange(athlete.df2,desc(n)),10)"
      ],
      "metadata": {
        "id": "cTy9JCdfZ1E2"
      },
      "execution_count": null,
      "outputs": []
    },
    {
      "cell_type": "markdown",
      "source": [
        "###### The output of data frame called \"athlete.df3\" is shown as follows.<br> The results of the data frame shows that the athlete located in the first row has the largest number in n column with 23 gold medals. And each of the other columns shows that the athlete is a male swimmer with ID number 94406 and his name is Michael Fred Phelps, II."
      ],
      "metadata": {
        "id": "lLS2QXfWgrSr"
      }
    },
    {
      "cell_type": "code",
      "source": [
        "athlete.df3\n",
        "str(athlete.df3)"
      ],
      "metadata": {
        "colab": {
          "base_uri": "https://localhost:8080/",
          "height": 883
        },
        "id": "bMkQ4bYGi-e1",
        "outputId": "119c1778-c5da-4f5f-f653-a3f6e646fad6"
      },
      "execution_count": null,
      "outputs": [
        {
          "output_type": "display_data",
          "data": {
            "text/html": [
              "<table class=\"dataframe\">\n",
              "<caption>A grouped_df: 10 × 6</caption>\n",
              "<thead>\n",
              "\t<tr><th scope=col>ID</th><th scope=col>Name</th><th scope=col>Sex</th><th scope=col>Sport</th><th scope=col>Medal</th><th scope=col>n</th></tr>\n",
              "\t<tr><th scope=col>&lt;int&gt;</th><th scope=col>&lt;chr&gt;</th><th scope=col>&lt;chr&gt;</th><th scope=col>&lt;chr&gt;</th><th scope=col>&lt;chr&gt;</th><th scope=col>&lt;int&gt;</th></tr>\n",
              "</thead>\n",
              "<tbody>\n",
              "\t<tr><td> 94406</td><td>Michael Fred Phelps, II           </td><td>M</td><td>Swimming  </td><td>Gold</td><td>23</td></tr>\n",
              "\t<tr><td> 33557</td><td>Raymond Clarence \"Ray\" Ewry       </td><td>M</td><td>Athletics </td><td>Gold</td><td>10</td></tr>\n",
              "\t<tr><td> 67046</td><td>Larysa Semenivna Latynina (Diriy-)</td><td>F</td><td>Gymnastics</td><td>Gold</td><td> 9</td></tr>\n",
              "\t<tr><td> 69210</td><td>Frederick Carlton \"Carl\" Lewis    </td><td>M</td><td>Athletics </td><td>Gold</td><td> 9</td></tr>\n",
              "\t<tr><td> 87390</td><td>Paavo Johannes Nurmi              </td><td>M</td><td>Athletics </td><td>Gold</td><td> 9</td></tr>\n",
              "\t<tr><td>113912</td><td>Mark Andrew Spitz                 </td><td>M</td><td>Swimming  </td><td>Gold</td><td> 9</td></tr>\n",
              "\t<tr><td> 11642</td><td>Matthew Nicholas \"Matt\" Biondi    </td><td>M</td><td>Swimming  </td><td>Gold</td><td> 8</td></tr>\n",
              "\t<tr><td> 11951</td><td>Ole Einar Bjrndalen               </td><td>M</td><td>Biathlon  </td><td>Gold</td><td> 8</td></tr>\n",
              "\t<tr><td> 13029</td><td>Usain St. Leo Bolt                </td><td>M</td><td>Athletics </td><td>Gold</td><td> 8</td></tr>\n",
              "\t<tr><td> 35550</td><td>Birgit Fischer-Schmidt            </td><td>F</td><td>Canoeing  </td><td>Gold</td><td> 8</td></tr>\n",
              "</tbody>\n",
              "</table>\n"
            ],
            "text/markdown": "\nA grouped_df: 10 × 6\n\n| ID &lt;int&gt; | Name &lt;chr&gt; | Sex &lt;chr&gt; | Sport &lt;chr&gt; | Medal &lt;chr&gt; | n &lt;int&gt; |\n|---|---|---|---|---|---|\n|  94406 | Michael Fred Phelps, II            | M | Swimming   | Gold | 23 |\n|  33557 | Raymond Clarence \"Ray\" Ewry        | M | Athletics  | Gold | 10 |\n|  67046 | Larysa Semenivna Latynina (Diriy-) | F | Gymnastics | Gold |  9 |\n|  69210 | Frederick Carlton \"Carl\" Lewis     | M | Athletics  | Gold |  9 |\n|  87390 | Paavo Johannes Nurmi               | M | Athletics  | Gold |  9 |\n| 113912 | Mark Andrew Spitz                  | M | Swimming   | Gold |  9 |\n|  11642 | Matthew Nicholas \"Matt\" Biondi     | M | Swimming   | Gold |  8 |\n|  11951 | Ole Einar Bjrndalen                | M | Biathlon   | Gold |  8 |\n|  13029 | Usain St. Leo Bolt                 | M | Athletics  | Gold |  8 |\n|  35550 | Birgit Fischer-Schmidt             | F | Canoeing   | Gold |  8 |\n\n",
            "text/latex": "A grouped\\_df: 10 × 6\n\\begin{tabular}{llllll}\n ID & Name & Sex & Sport & Medal & n\\\\\n <int> & <chr> & <chr> & <chr> & <chr> & <int>\\\\\n\\hline\n\t  94406 & Michael Fred Phelps, II            & M & Swimming   & Gold & 23\\\\\n\t  33557 & Raymond Clarence \"Ray\" Ewry        & M & Athletics  & Gold & 10\\\\\n\t  67046 & Larysa Semenivna Latynina (Diriy-) & F & Gymnastics & Gold &  9\\\\\n\t  69210 & Frederick Carlton \"Carl\" Lewis     & M & Athletics  & Gold &  9\\\\\n\t  87390 & Paavo Johannes Nurmi               & M & Athletics  & Gold &  9\\\\\n\t 113912 & Mark Andrew Spitz                  & M & Swimming   & Gold &  9\\\\\n\t  11642 & Matthew Nicholas \"Matt\" Biondi     & M & Swimming   & Gold &  8\\\\\n\t  11951 & Ole Einar Bjrndalen                & M & Biathlon   & Gold &  8\\\\\n\t  13029 & Usain St. Leo Bolt                 & M & Athletics  & Gold &  8\\\\\n\t  35550 & Birgit Fischer-Schmidt             & F & Canoeing   & Gold &  8\\\\\n\\end{tabular}\n",
            "text/plain": [
              "   ID     Name                               Sex Sport      Medal n \n",
              "1   94406 Michael Fred Phelps, II            M   Swimming   Gold  23\n",
              "2   33557 Raymond Clarence \"Ray\" Ewry        M   Athletics  Gold  10\n",
              "3   67046 Larysa Semenivna Latynina (Diriy-) F   Gymnastics Gold   9\n",
              "4   69210 Frederick Carlton \"Carl\" Lewis     M   Athletics  Gold   9\n",
              "5   87390 Paavo Johannes Nurmi               M   Athletics  Gold   9\n",
              "6  113912 Mark Andrew Spitz                  M   Swimming   Gold   9\n",
              "7   11642 Matthew Nicholas \"Matt\" Biondi     M   Swimming   Gold   8\n",
              "8   11951 Ole Einar Bjrndalen                M   Biathlon   Gold   8\n",
              "9   13029 Usain St. Leo Bolt                 M   Athletics  Gold   8\n",
              "10  35550 Birgit Fischer-Schmidt             F   Canoeing   Gold   8"
            ]
          },
          "metadata": {}
        },
        {
          "output_type": "stream",
          "name": "stdout",
          "text": [
            "grouped_df [10 × 6] (S3: grouped_df/tbl_df/tbl/data.frame)\n",
            " $ ID   : int [1:10] 94406 33557 67046 69210 87390 113912 11642 11951 13029 35550\n",
            " $ Name : chr [1:10] \"Michael Fred Phelps, II\" \"Raymond Clarence \\\"Ray\\\" Ewry\" \"Larysa Semenivna Latynina (Diriy-)\" \"Frederick Carlton \\\"Carl\\\" Lewis\" ...\n",
            " $ Sex  : chr [1:10] \"M\" \"M\" \"F\" \"M\" ...\n",
            " $ Sport: chr [1:10] \"Swimming\" \"Athletics\" \"Gymnastics\" \"Athletics\" ...\n",
            " $ Medal: chr [1:10] \"Gold\" \"Gold\" \"Gold\" \"Gold\" ...\n",
            " $ n    : int [1:10] 23 10 9 9 9 9 8 8 8 8\n",
            " - attr(*, \"groups\")= tibble [10 × 6] (S3: tbl_df/tbl/data.frame)\n",
            "  ..$ ID   : int [1:10] 11642 11951 13029 33557 35550 67046 69210 87390 94406 113912\n",
            "  ..$ Name : chr [1:10] \"Matthew Nicholas \\\"Matt\\\" Biondi\" \"Ole Einar Bjrndalen\" \"Usain St. Leo Bolt\" \"Raymond Clarence \\\"Ray\\\" Ewry\" ...\n",
            "  ..$ Sex  : chr [1:10] \"M\" \"M\" \"M\" \"M\" ...\n",
            "  ..$ Sport: chr [1:10] \"Swimming\" \"Biathlon\" \"Athletics\" \"Athletics\" ...\n",
            "  ..$ Medal: chr [1:10] \"Gold\" \"Gold\" \"Gold\" \"Gold\" ...\n",
            "  ..$ .rows: list<int> [1:10] \n",
            "  .. ..$ : int 7\n",
            "  .. ..$ : int 8\n",
            "  .. ..$ : int 9\n",
            "  .. ..$ : int 2\n",
            "  .. ..$ : int 10\n",
            "  .. ..$ : int 3\n",
            "  .. ..$ : int 4\n",
            "  .. ..$ : int 5\n",
            "  .. ..$ : int 1\n",
            "  .. ..$ : int 6\n",
            "  .. ..@ ptype: int(0) \n",
            "  ..- attr(*, \".drop\")= logi TRUE\n"
          ]
        }
      ]
    },
    {
      "cell_type": "markdown",
      "source": [
        "## **5) Plot**"
      ],
      "metadata": {
        "id": "pCrAd_qcip05"
      }
    },
    {
      "cell_type": "markdown",
      "source": [
        "###### To increase visibility, \"barplot()\" function was used to create a bar graph. The \"barplot()\" represents categorical data as rectangular bars with height and length of data values.<br> Set the ID column and n column extracted from the data frame called \"athlete.df3\" as the x-axis and the y-axis respectively. The title of the graph and the name of x-axis and y-axis can be specified using \"main=, xlab=, ylab=\". The bar graph set in purple with \"col=\" expresses the number of gold medals by ID. Also, the font size is specified with \"cex.lab=\", and the plot character can be selected with the \"pch=\" argument by putting values from 0 to 25.<br> The bar graph shows that ID 94406 has the highest number of gold medals, and the result is the same as the result of the data frame \"athlete.df3\". Bar graphs allow you to compare and visually check specific values in data frames."
      ],
      "metadata": {
        "id": "jDyj2LTIg1OZ"
      }
    },
    {
      "cell_type": "code",
      "source": [
        "barplot(n~ID, data = athlete.df3,main= \"The number of gold medals by ID\", col=\"purple\", xlab=\"ID of athletes\", ylab=\"The number of gold medals\", cex.lab=\"1.5\", pch=1)"
      ],
      "metadata": {
        "colab": {
          "base_uri": "https://localhost:8080/",
          "height": 437
        },
        "id": "yufaLx0Oej66",
        "outputId": "87d72f4f-4dd8-4681-83fb-a3aa6e8be0e4"
      },
      "execution_count": null,
      "outputs": [
        {
          "output_type": "display_data",
          "data": {
            "text/plain": [
              "Plot with title “The number of gold medals by ID”"
            ],
            "image/png": "[encoded data removed]"
          },
          "metadata": {
            "image/png": {
              "width": 420,
              "height": 420
            }
          }
        }
      ]
    },
    {
      "cell_type": "markdown",
      "source": [
        "## **6) Summary**"
      ],
      "metadata": {
        "id": "gQcNeVnUe0F6"
      }
    },
    {
      "cell_type": "markdown",
      "source": [
        "###### It is possible to read excel files containing a large amount of data to data frame and analyze. \n",
        "\n",
        "###### The number of medals by gender was checked. Female athletes had the largest number of bronze medals with 3,771, while male had the largest number of gold medals with 9,625. Sorting age in descending order revealed that the oldest of the Olympic athlete was 97 years old. Other columns identify the oldest athlete as a man named John Quincy Adams Ward, who competed in the art competitions as team United States at the 1928 summer Olympic in Amsterdam.\n",
        "\n",
        "###### The purpose of the research is to list the athletes by the number of gold medals calculated from the Olympic athlete records and to recommend the athlete who has won the most medals. For effective analysis, 5 essential columns that meet the purpose of the analysis were extracted, and theses are ID, Name, Sex, Sport columns that enable athletes to be identified and Medal column to be an important factor in recommendation. Only data corresponding to gold medals were extracted from the medal column, and the number of gold medals by ID could be calculated. The purpose of classifying by ID is to prevent the occurrence of duplicate values that may occur due to the existence of a person with the same name in the existing data file.\n",
        "\n",
        "###### The athlete who won the most gold medals is Michael Fred Phelps, II\twith ID 94406. This results can be visually confirmed with the data frame \"athlete.df3\" and the bar graph."
      ],
      "metadata": {
        "id": "sNw1wsGN8YFN"
      }
    },
    {
      "cell_type": "markdown",
      "source": [
        "## **7) Recommendations**"
      ],
      "metadata": {
        "id": "MUjp0KL0Vh-t"
      }
    },
    {
      "cell_type": "markdown",
      "source": [
        "###### The biggest factor in sponsoring an Olympic athlete can be judging the athlete's ability. Athlete's ability can be quantified by the number of medals won. Among them, the individual ability of the athletes who participated in the Olympics can be evaluated based on the number of gold medals awarded to the athlete who first placed in the event.\n",
        "###### Michael Fred Phelps, II in swimming had the highest number of gold medals, and the number was overwhelming compared to other athletes. For this reason, I would like to recommend Michael Fred Phelps, II to Kellog's to sponsor."
      ],
      "metadata": {
        "id": "e1o8PoiiAhkY"
      }
    }
  ]
}
