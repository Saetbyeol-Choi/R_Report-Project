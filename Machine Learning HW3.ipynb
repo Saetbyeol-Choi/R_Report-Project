{
 "cells": [
  {
   "cell_type": "markdown",
   "id": "01a3bb48",
   "metadata": {},
   "source": [
    "# Assignment: Naive Bayes and Logistic Classifiers\n",
    "### Name: Saetbyeol Choi, Clark Blatter"
   ]
  },
  {
   "cell_type": "markdown",
   "id": "9938493e",
   "metadata": {},
   "source": [
    "## Problem 1"
   ]
  },
  {
   "cell_type": "code",
   "execution_count": 1,
   "id": "48d70a6e",
   "metadata": {},
   "outputs": [],
   "source": [
    "import numpy as np\n",
    "import pandas as pd\n",
    "import matplotlib.pyplot as plt"
   ]
  },
  {
   "cell_type": "markdown",
   "id": "78a4ec7e",
   "metadata": {},
   "source": [
    "***Given the function f(x) = x^2 + 6x\n",
    "<br>1. Use derivative of f(x) to find the value of x that minimizes this function.***"
   ]
  },
  {
   "cell_type": "markdown",
   "id": "9795b831",
   "metadata": {},
   "source": [
    "> The derivative of f(x) = x^2 + 6x is:<br>\n",
    "df(x)/dx = 2x + 6<br>\n",
    "<br>Setting this derivative equal to zero and solving for x:<br>\n",
    "<br>2x + 6 = 0<bk>\n",
    "<br>2x = -6<bk>\n",
    "<br>x = -3<br>\n",
    "<br>So, the value of x that minimizes the function is -3."
   ]
  },
  {
   "cell_type": "markdown",
   "id": "ae3a929b",
   "metadata": {},
   "source": [
    "***2. Use gradient descent to find the value of x that minimizes this function. Compare your answer with the previous part.***"
   ]
  },
  {
   "cell_type": "code",
   "execution_count": 2,
   "id": "15dd689a",
   "metadata": {},
   "outputs": [
    {
     "name": "stdout",
     "output_type": "stream",
     "text": [
      "The minimum value of x is: -2.9999999949510996\n"
     ]
    }
   ],
   "source": [
    "def f(x):\n",
    "    return x**2 + 6*x\n",
    "\n",
    "def derivative_f(x):\n",
    "    return 2*x + 6\n",
    "\n",
    "def gradient_descent(x, learning_rate, num_iters):\n",
    "    for i in range(num_iters):\n",
    "        x = x - learning_rate * derivative_f(x)\n",
    "    return x\n",
    "\n",
    "# set initial value of x and learning rate, alpha\n",
    "x = 0\n",
    "learning_rate = 0.01\n",
    "num_iters = 1000\n",
    "\n",
    "# find minimum value of x\n",
    "min_x = gradient_descent(x, learning_rate, num_iters)\n",
    "print(\"The minimum value of x is:\", min_x)"
   ]
  },
  {
   "cell_type": "markdown",
   "id": "ac1d55d1",
   "metadata": {},
   "source": [
    "> When using derivative, x = -3, whereas when using the gradient descen, x = -2.9999999949510996. Both give similar values for x, with the derivative giving the exact minimum value and gradient descent giving a close approximation."
   ]
  },
  {
   "cell_type": "markdown",
   "id": "e1204d1b",
   "metadata": {},
   "source": [
    "# Problem 2"
   ]
  },
  {
   "cell_type": "markdown",
   "id": "8c848a23",
   "metadata": {},
   "source": [
    "***1. Normalize the launch temperature using the expression x−µ/σ.***"
   ]
  },
  {
   "cell_type": "code",
   "execution_count": 3,
   "id": "b827bd28",
   "metadata": {},
   "outputs": [],
   "source": [
    "df = pd.read_csv('C:/Users/sbyeo/Downloads/ORing.csv')"
   ]
  },
  {
   "cell_type": "code",
   "execution_count": 4,
   "id": "63dc7d0f",
   "metadata": {},
   "outputs": [],
   "source": [
    "# Calculate the mean and standard deviation of the temperature data\n",
    "temp_x = df['Temp']\n",
    "temp_mu = df['Temp'].mean()\n",
    "temp_sigma = df['Temp'].std()"
   ]
  },
  {
   "cell_type": "code",
   "execution_count": 5,
   "id": "57a6d0f6",
   "metadata": {},
   "outputs": [
    {
     "name": "stdout",
     "output_type": "stream",
     "text": [
      "    Temp  Failure  Temp_Normalized\n",
      "0     53        1        -2.293007\n",
      "1     56        1        -1.886366\n",
      "2     57        1        -1.750818\n",
      "3     63        0        -0.937535\n",
      "4     66        0        -0.530893\n",
      "5     67        0        -0.395346\n",
      "6     67        0        -0.395346\n",
      "7     67        0        -0.395346\n",
      "8     68        0        -0.259799\n",
      "9     69        0        -0.124252\n",
      "10    70        0         0.011296\n",
      "11    70        1         0.011296\n",
      "12    70        1         0.011296\n",
      "13    70        1         0.011296\n",
      "14    72        0         0.282390\n",
      "15    73        0         0.417937\n",
      "16    75        0         0.689032\n",
      "17    75        1         0.689032\n",
      "18    76        0         0.824579\n",
      "19    76        0         0.824579\n",
      "20    78        0         1.095673\n",
      "21    79        0         1.231221\n",
      "22    80        0         1.366768\n",
      "23    81        0         1.502315\n"
     ]
    }
   ],
   "source": [
    "# Normalize the temperature data using the formula (x - mean) / std\n",
    "df['Temp_Normalized'] = (temp_x - temp_mu) / temp_sigma\n",
    "\n",
    "# Check the result\n",
    "print(df)"
   ]
  },
  {
   "cell_type": "markdown",
   "id": "5666e990",
   "metadata": {},
   "source": [
    "***2. Create a logistic regression model using the gradient decent technique to predict the probability of O-ring failure based on the launch temperature. Provide the equation for your model.***"
   ]
  },
  {
   "cell_type": "code",
   "execution_count": 6,
   "id": "5eb1886c",
   "metadata": {},
   "outputs": [],
   "source": [
    "# Convert data to arrays\n",
    "x = df['Temp_Normalized'].values  \n",
    "y = df['Failure'].values\n",
    "\n",
    "# Add a column of ones to x for the bias term\n",
    "x = np.column_stack((np.ones(len(x)), x)) \n",
    "\n",
    "# Define the sigmoid function\n",
    "def sigmoid(x):\n",
    "    return 1 / (1 + np.exp(-x))\n",
    "\n",
    "# Initialize theta with zeros\n",
    "theta = np.zeros(x.shape[1])\n",
    "\n",
    "# Define the maximum likelihood cost function\n",
    "def maximum_likelihood(theta, x, y):\n",
    "    pre_prob = sigmoid(np.dot(x, theta))\n",
    "    return np.mean(y * np.log(pre_prob) + (1 - y) * np.log(1 - pre_prob))\n",
    "\n",
    "# Define the gradient of the cost function\n",
    "def gradient(theta, x, y):\n",
    "    pre_prob = sigmoid(np.dot(x, theta))\n",
    "    return np.dot(x.T, pre_prob - y) / len(y)\n",
    "\n",
    "# Set the number of iterations and learning rate\n",
    "iterations = 10000\n",
    "alpha = 0.01 \n",
    "\n",
    "# Perform gradient descent\n",
    "for i in range(iterations):\n",
    "    gradient_i = gradient(theta, x, y)\n",
    "    theta = theta - alpha * gradient_i   \n",
    "\n",
    "# Calculate the final prediction\n",
    "pre_prob = sigmoid(np.dot(x, theta))\n",
    "\n",
    "# Define decision boundary\n",
    "def predict(x, theta, threshold = 0.5):\n",
    "    return sigmoid(np.dot(x, theta)) >= threshold"
   ]
  },
  {
   "cell_type": "code",
   "execution_count": 7,
   "id": "25701033",
   "metadata": {},
   "outputs": [
    {
     "name": "stdout",
     "output_type": "stream",
     "text": [
      "w0= -1.102771442927212 w1= -1.263858424860378\n",
      "Model Equation: f(x) = 1 / (1 + exp( 1.102771442927212 + 1.263858424860378 * x))\n"
     ]
    }
   ],
   "source": [
    "# Print the model equation\n",
    "print(\"w0=\", theta[0], \"w1=\", theta[1])\n",
    "print(\"Model Equation: f(x) = 1 / (1 + exp(\",-theta[0],\"+\",-theta[1],\"* x))\")"
   ]
  },
  {
   "cell_type": "code",
   "execution_count": 8,
   "id": "b222ff35",
   "metadata": {},
   "outputs": [
    {
     "name": "stdout",
     "output_type": "stream",
     "text": [
      "Predicted Probabilities: [0.8575716  0.7826757  0.75213195 0.52052349 0.3936972  0.35363251\n",
      " 0.35363251 0.35363251 0.31552322 0.27974336 0.24655936 0.24655936\n",
      " 0.24655936 0.24655936 0.18851742 0.16369547 0.12200166 0.12200166\n",
      " 0.10480664 0.10480664 0.07673576 0.06544502 0.05571531 0.04735882]\n"
     ]
    }
   ],
   "source": [
    "# Print the predicted probabilities\n",
    "print(\"Predicted Probabilities:\",pre_prob)"
   ]
  },
  {
   "cell_type": "markdown",
   "id": "d5d35f6b",
   "metadata": {},
   "source": [
    "***3. Provide a plot of the original data along with your logistic model.***"
   ]
  },
  {
   "cell_type": "code",
   "execution_count": 9,
   "id": "c82807f7",
   "metadata": {
    "scrolled": true
   },
   "outputs": [
    {
     "data": {
      "image/png": "[encoded data removed]",
      "text/plain": [
       "<Figure size 432x288 with 1 Axes>"
      ]
     },
     "metadata": {
      "needs_background": "light"
     },
     "output_type": "display_data"
    }
   ],
   "source": [
    "# Plot the original data and the logistic model\n",
    "#plt.scatter(df['Temp_Normalized'], df['Failure'], c=df['Failure'], cmap='rainbow')\n",
    "\n",
    "\n",
    "plt.scatter(df['Temp_Normalized'][df['Failure'] == 0], np.zeros(len(df[df['Failure'] == 0])), marker='o', color='blue', label='No Failure')\n",
    "plt.scatter(df['Temp_Normalized'][df['Failure'] == 1], np.ones(len(df[df['Failure'] == 1])), marker='o', color='red', label='Failure')\n",
    "x_values = np.linspace(df['Temp_Normalized'].min(), df['Temp_Normalized'].max(), 100)\n",
    "y_values = sigmoid(theta[0] + theta[1] * x_values)\n",
    "\n",
    "boundary = np.zeros(len(x_values)) + 0.5\n",
    "plt.plot(x_values, boundary, ':', color='black', label='decision boundary(0.5)')\n",
    "plt.plot(x_values, y_values, label='Logistic Model', c='green')\n",
    "\n",
    "plt.xlabel('Temperature_Normalized')\n",
    "plt.ylabel('Probability of Failure(0 or 1)')\n",
    "plt.title('Original Data and Logistic Model')\n",
    "plt.legend()\n",
    "plt.show()"
   ]
  },
  {
   "cell_type": "markdown",
   "id": "423c09d3",
   "metadata": {},
   "source": [
    "***4. The actual temperature at the Challenger launch was 31 degrees Fahren\u0002heit. According to your model what was the probability of O-ring failure on the Challenger launch? Could the engineers have used your model to provide a convincing argument to NASA? Elaborate.***"
   ]
  },
  {
   "cell_type": "code",
   "execution_count": 10,
   "id": "50f869f6",
   "metadata": {
    "scrolled": true
   },
   "outputs": [
    {
     "name": "stdout",
     "output_type": "stream",
     "text": [
      "Probability of O-ring failure at 31 degrees Fahrenheit: 0.9961817616649195\n",
      "Probability of O-ring failure at temperature 31 degrees Fahrenheit: 99.62%\n"
     ]
    }
   ],
   "source": [
    "# Normalize the Challenger launch temperature\n",
    "temp = 31\n",
    "temp_normalized = (temp - temp_mu) / temp_sigma\n",
    "\n",
    "#temp_normalized = (temp - data['Temp_Normalized'].mean()) / data['Temp_Normalized'].std()\n",
    "\n",
    "# Calculate the logistic regression prediction\n",
    "pred = 1 / (1 + np.exp(- (theta[0] + theta[1] * temp_normalized)))\n",
    "\n",
    "# Print the result\n",
    "print(\"Probability of O-ring failure at 31 degrees Fahrenheit:\", pred)\n",
    "print(\"Probability of O-ring failure at temperature {} degrees Fahrenheit: {:.2f}%\".format(temp, pred * 100))"
   ]
  },
  {
   "cell_type": "markdown",
   "id": "85e76623",
   "metadata": {},
   "source": [
    "> The engineers could have used a logistic regression model to analyze the risk of the O-ring failing, but they also had to consider other information and do a complete risk analysis before providing a convincing argument to NASA. The model was limited and they needed to be  aware of that."
   ]
  },
  {
   "cell_type": "code",
   "execution_count": null,
   "id": "83d73aa4",
   "metadata": {},
   "outputs": [],
   "source": []
  }
 ],
 "metadata": {
  "kernelspec": {
   "display_name": "Python 3 (ipykernel)",
   "language": "python",
   "name": "python3"
  },
  "language_info": {
   "codemirror_mode": {
    "name": "ipython",
    "version": 3
   },
   "file_extension": ".py",
   "mimetype": "text/x-python",
   "name": "python",
   "nbconvert_exporter": "python",
   "pygments_lexer": "ipython3",
   "version": "3.9.12"
  }
 },
 "nbformat": 4,
 "nbformat_minor": 5
}
